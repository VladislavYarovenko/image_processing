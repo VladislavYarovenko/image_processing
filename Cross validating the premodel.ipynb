{
 "cells": [
  {
   "cell_type": "markdown",
   "metadata": {},
   "source": [
    "<font size=\"5\">**Cross validating the premodel**</font>\n",
    "<br /><br />\n",
    "<font size=\"3\">All the timings and accuracy values are taken from the <font color = \"green\">database</font>. The average premodel feature extraction and prediction time were calculated <font color = \"green\">separately</font> and added to premodel inference time.</font>\n",
    " "
   ]
  },
  {
   "cell_type": "markdown",
   "metadata": {},
   "source": [
    "<font size=\"3\">First, we import the necessary libraries and start the *image generator* class.</font>"
   ]
  },
  {
   "cell_type": "code",
   "execution_count": 1,
   "metadata": {},
   "outputs": [],
   "source": [
    "import warnings\n",
    "warnings.filterwarnings('ignore')\n",
    "import numpy as np\n",
    "import pandas as pd\n",
    "from sklearn import preprocessing, neighbors\n",
    "from sklearn.model_selection import cross_validate, train_test_split\n",
    "from sklearn.linear_model import LogisticRegression\n",
    "import premodel\n",
    "#!pip install --user imblearn\n",
    "from imblearn.over_sampling import SMOTE\n",
    "from sklearn.metrics import precision_recall_fscore_support\n",
    "import image_generator\n",
    "import database"
   ]
  },
  {
   "cell_type": "code",
   "execution_count": 2,
   "metadata": {
    "scrolled": true
   },
   "outputs": [
    {
     "name": "stdout",
     "output_type": "stream",
     "text": [
      "images/val/images\\ILSVRC2012_val_00016214.JPEG remote control, remote\n",
      "images/val/images\\ILSVRC2012_val_00044244.JPEG beacon, lighthouse, beacon light, pharos\n",
      "images/val/images\\ILSVRC2012_val_00042077.JPEG tape player\n",
      "images/val/images\\ILSVRC2012_val_00025035.JPEG robin, American robin, Turdus migratorius\n",
      "images/val/images\\ILSVRC2012_val_00027703.JPEG Shih-Tzu\n",
      "images/val/images\\ILSVRC2012_val_00040306.JPEG barrel, cask\n",
      "images/val/images\\ILSVRC2012_val_00020459.JPEG marimba, xylophone\n",
      "images/val/images\\ILSVRC2012_val_00045509.JPEG screw\n",
      "images/val/images\\ILSVRC2012_val_00026199.JPEG Blenheim spaniel\n",
      "images/val/images\\ILSVRC2012_val_00047886.JPEG plunger, plumber's helper\n"
     ]
    }
   ],
   "source": [
    "image_generator.main()\n",
    "imgGen = image_generator.ImageGenerator('images/val/images', 'images/val/val.txt', 'images/val/synset_words.txt')\n",
    "label_list = imgGen.get_label_list()"
   ]
  },
  {
   "cell_type": "markdown",
   "metadata": {},
   "source": [
    "<font size=\"5\">**Running the premodel**</font>\n",
    "<br /><br />\n",
    "<font size=\"3\">We cross validate two premodels (<font color = \"green\">logistic regression</font> and <font color = \"green\">knn</font>) with <font color = \"green\">10-fold cross validation</font> on <font color = \"green\">20k</font> images. So, we obtain the <u>predicted models</u> for all <font color = \"green\">20k</font> images.</font>"
   ]
  },
  {
   "cell_type": "code",
   "execution_count": 3,
   "metadata": {},
   "outputs": [],
   "source": [
    "preference = 'Top-1'                # here, we select our preference, Top-1 or Top-5\n",
    "n = 1                          # 1 for top-1, 5 for top-5\n",
    "pre_model = premodel.Premodel(preference)"
   ]
  },
  {
   "cell_type": "code",
   "execution_count": 4,
   "metadata": {
    "scrolled": true
   },
   "outputs": [
    {
     "name": "stderr",
     "output_type": "stream",
     "text": [
      "Exception in thread Thread-6:\n",
      "Traceback (most recent call last):\n",
      "  File \"C:\\Users\\Asus\\miniconda3\\envs\\esrg\\lib\\threading.py\", line 916, in _bootstrap_inner\n",
      "    self.run()\n",
      "  File \"C:\\Users\\Asus\\miniconda3\\envs\\esrg\\lib\\threading.py\", line 864, in run\n",
      "    self._target(*self._args, **self._kwargs)\n",
      "  File \"D:\\DL-Inference\\premodel.py\", line 287, in CV_fold_worker\n",
      "    X_train_second_level, X_val_second_level = undersample.fit_resample(X_train_second_level, X_val_second_level)\n",
      "  File \"C:\\Users\\Asus\\miniconda3\\envs\\esrg\\lib\\site-packages\\imblearn\\base.py\", line 83, in fit_resample\n",
      "    output = self._fit_resample(X, y)\n",
      "  File \"C:\\Users\\Asus\\miniconda3\\envs\\esrg\\lib\\site-packages\\imblearn\\under_sampling\\_prototype_selection\\_nearmiss.py\", line 225, in _fit_resample\n",
      "    X_class, n_neighbors=self.nn_.n_neighbors\n",
      "  File \"C:\\Users\\Asus\\miniconda3\\envs\\esrg\\lib\\site-packages\\sklearn\\neighbors\\_base.py\", line 683, in kneighbors\n",
      "    (n_samples_fit, n_neighbors)\n",
      "ValueError: Expected n_neighbors <= n_samples,  but n_samples = 2, n_neighbors = 3\n",
      "\n",
      "Exception in thread Thread-8:\n",
      "Traceback (most recent call last):\n",
      "  File \"C:\\Users\\Asus\\miniconda3\\envs\\esrg\\lib\\threading.py\", line 916, in _bootstrap_inner\n",
      "    self.run()\n",
      "  File \"C:\\Users\\Asus\\miniconda3\\envs\\esrg\\lib\\threading.py\", line 864, in run\n",
      "    self._target(*self._args, **self._kwargs)\n",
      "  File \"D:\\DL-Inference\\premodel.py\", line 289, in CV_fold_worker\n",
      "    X_train_third_level, X_val_third_level = undersample.fit_resample(X_train_third_level, X_val_third_level)\n",
      "  File \"C:\\Users\\Asus\\miniconda3\\envs\\esrg\\lib\\site-packages\\imblearn\\base.py\", line 83, in fit_resample\n",
      "    output = self._fit_resample(X, y)\n",
      "  File \"C:\\Users\\Asus\\miniconda3\\envs\\esrg\\lib\\site-packages\\imblearn\\under_sampling\\_prototype_selection\\_nearmiss.py\", line 225, in _fit_resample\n",
      "    X_class, n_neighbors=self.nn_.n_neighbors\n",
      "  File \"C:\\Users\\Asus\\miniconda3\\envs\\esrg\\lib\\site-packages\\sklearn\\neighbors\\_base.py\", line 683, in kneighbors\n",
      "    (n_samples_fit, n_neighbors)\n",
      "ValueError: Expected n_neighbors <= n_samples,  but n_samples = 2, n_neighbors = 3\n",
      "\n",
      "Exception in thread Thread-7:\n",
      "Traceback (most recent call last):\n",
      "  File \"C:\\Users\\Asus\\miniconda3\\envs\\esrg\\lib\\threading.py\", line 916, in _bootstrap_inner\n",
      "    self.run()\n",
      "  File \"C:\\Users\\Asus\\miniconda3\\envs\\esrg\\lib\\threading.py\", line 864, in run\n",
      "    self._target(*self._args, **self._kwargs)\n",
      "  File \"D:\\DL-Inference\\premodel.py\", line 289, in CV_fold_worker\n",
      "    X_train_third_level, X_val_third_level = undersample.fit_resample(X_train_third_level, X_val_third_level)\n",
      "  File \"C:\\Users\\Asus\\miniconda3\\envs\\esrg\\lib\\site-packages\\imblearn\\base.py\", line 80, in fit_resample\n",
      "    self.sampling_strategy, y, self._sampling_type\n",
      "  File \"C:\\Users\\Asus\\miniconda3\\envs\\esrg\\lib\\site-packages\\imblearn\\utils\\_validation.py\", line 533, in check_sampling_strategy\n",
      "    \" Got {} class instead\".format(np.unique(y).size)\n",
      "ValueError: The target 'y' needs to have more than 1 class. Got 1 class instead\n",
      "\n",
      "Exception in thread Thread-9:\n",
      "Traceback (most recent call last):\n",
      "  File \"C:\\Users\\Asus\\miniconda3\\envs\\esrg\\lib\\threading.py\", line 916, in _bootstrap_inner\n",
      "    self.run()\n",
      "  File \"C:\\Users\\Asus\\miniconda3\\envs\\esrg\\lib\\threading.py\", line 864, in run\n",
      "    self._target(*self._args, **self._kwargs)\n",
      "  File \"D:\\DL-Inference\\premodel.py\", line 289, in CV_fold_worker\n",
      "    X_train_third_level, X_val_third_level = undersample.fit_resample(X_train_third_level, X_val_third_level)\n",
      "  File \"C:\\Users\\Asus\\miniconda3\\envs\\esrg\\lib\\site-packages\\imblearn\\base.py\", line 83, in fit_resample\n",
      "    output = self._fit_resample(X, y)\n",
      "  File \"C:\\Users\\Asus\\miniconda3\\envs\\esrg\\lib\\site-packages\\imblearn\\under_sampling\\_prototype_selection\\_nearmiss.py\", line 225, in _fit_resample\n",
      "    X_class, n_neighbors=self.nn_.n_neighbors\n",
      "  File \"C:\\Users\\Asus\\miniconda3\\envs\\esrg\\lib\\site-packages\\sklearn\\neighbors\\_base.py\", line 683, in kneighbors\n",
      "    (n_samples_fit, n_neighbors)\n",
      "ValueError: Expected n_neighbors <= n_samples,  but n_samples = 2, n_neighbors = 3\n",
      "\n",
      "Exception in thread Thread-12:\n",
      "Traceback (most recent call last):\n",
      "  File \"C:\\Users\\Asus\\miniconda3\\envs\\esrg\\lib\\threading.py\", line 916, in _bootstrap_inner\n",
      "    self.run()\n",
      "  File \"C:\\Users\\Asus\\miniconda3\\envs\\esrg\\lib\\threading.py\", line 864, in run\n",
      "    self._target(*self._args, **self._kwargs)\n",
      "  File \"D:\\DL-Inference\\premodel.py\", line 289, in CV_fold_worker\n",
      "    X_train_third_level, X_val_third_level = undersample.fit_resample(X_train_third_level, X_val_third_level)\n",
      "  File \"C:\\Users\\Asus\\miniconda3\\envs\\esrg\\lib\\site-packages\\imblearn\\base.py\", line 83, in fit_resample\n",
      "    output = self._fit_resample(X, y)\n",
      "  File \"C:\\Users\\Asus\\miniconda3\\envs\\esrg\\lib\\site-packages\\imblearn\\under_sampling\\_prototype_selection\\_nearmiss.py\", line 225, in _fit_resample\n",
      "    X_class, n_neighbors=self.nn_.n_neighbors\n",
      "  File \"C:\\Users\\Asus\\miniconda3\\envs\\esrg\\lib\\site-packages\\sklearn\\neighbors\\_base.py\", line 683, in kneighbors\n",
      "    (n_samples_fit, n_neighbors)\n",
      "ValueError: Expected n_neighbors <= n_samples,  but n_samples = 2, n_neighbors = 3\n",
      "Exception in thread Thread-11:\n",
      "Traceback (most recent call last):\n",
      "  File \"C:\\Users\\Asus\\miniconda3\\envs\\esrg\\lib\\threading.py\", line 916, in _bootstrap_inner\n",
      "    self.run()\n",
      "  File \"C:\\Users\\Asus\\miniconda3\\envs\\esrg\\lib\\threading.py\", line 864, in run\n",
      "    self._target(*self._args, **self._kwargs)\n",
      "  File \"D:\\DL-Inference\\premodel.py\", line 289, in CV_fold_worker\n",
      "    X_train_third_level, X_val_third_level = undersample.fit_resample(X_train_third_level, X_val_third_level)\n",
      "  File \"C:\\Users\\Asus\\miniconda3\\envs\\esrg\\lib\\site-packages\\imblearn\\base.py\", line 83, in fit_resample\n",
      "    output = self._fit_resample(X, y)\n",
      "  File \"C:\\Users\\Asus\\miniconda3\\envs\\esrg\\lib\\site-packages\\imblearn\\under_sampling\\_prototype_selection\\_nearmiss.py\", line 225, in _fit_resample\n",
      "    X_class, n_neighbors=self.nn_.n_neighbors\n",
      "  File \"C:\\Users\\Asus\\miniconda3\\envs\\esrg\\lib\\site-packages\\sklearn\\neighbors\\_base.py\", line 683, in kneighbors\n",
      "    (n_samples_fit, n_neighbors)\n",
      "ValueError: Expected n_neighbors <= n_samples,  but n_samples = 2, n_neighbors = 3\n",
      "\n",
      "\n",
      "Exception in thread Thread-13:\n",
      "Traceback (most recent call last):\n",
      "  File \"C:\\Users\\Asus\\miniconda3\\envs\\esrg\\lib\\threading.py\", line 916, in _bootstrap_inner\n",
      "    self.run()\n",
      "  File \"C:\\Users\\Asus\\miniconda3\\envs\\esrg\\lib\\threading.py\", line 864, in run\n",
      "    self._target(*self._args, **self._kwargs)\n",
      "  File \"D:\\DL-Inference\\premodel.py\", line 289, in CV_fold_worker\n",
      "    X_train_third_level, X_val_third_level = undersample.fit_resample(X_train_third_level, X_val_third_level)\n",
      "  File \"C:\\Users\\Asus\\miniconda3\\envs\\esrg\\lib\\site-packages\\imblearn\\base.py\", line 83, in fit_resample\n",
      "    output = self._fit_resample(X, y)\n",
      "  File \"C:\\Users\\Asus\\miniconda3\\envs\\esrg\\lib\\site-packages\\imblearn\\under_sampling\\_prototype_selection\\_nearmiss.py\", line 225, in _fit_resample\n",
      "    X_class, n_neighbors=self.nn_.n_neighbors\n",
      "  File \"C:\\Users\\Asus\\miniconda3\\envs\\esrg\\lib\\site-packages\\sklearn\\neighbors\\_base.py\", line 683, in kneighbors\n",
      "    (n_samples_fit, n_neighbors)\n",
      "ValueError: Expected n_neighbors <= n_samples,  but n_samples = 2, n_neighbors = 3\n",
      "\n",
      "Exception in thread Thread-10:\n",
      "Traceback (most recent call last):\n",
      "  File \"C:\\Users\\Asus\\miniconda3\\envs\\esrg\\lib\\threading.py\", line 916, in _bootstrap_inner\n",
      "    self.run()\n",
      "  File \"C:\\Users\\Asus\\miniconda3\\envs\\esrg\\lib\\threading.py\", line 864, in run\n",
      "    self._target(*self._args, **self._kwargs)\n",
      "  File \"D:\\DL-Inference\\premodel.py\", line 289, in CV_fold_worker\n",
      "    X_train_third_level, X_val_third_level = undersample.fit_resample(X_train_third_level, X_val_third_level)\n",
      "  File \"C:\\Users\\Asus\\miniconda3\\envs\\esrg\\lib\\site-packages\\imblearn\\base.py\", line 83, in fit_resample\n",
      "    output = self._fit_resample(X, y)\n",
      "  File \"C:\\Users\\Asus\\miniconda3\\envs\\esrg\\lib\\site-packages\\imblearn\\under_sampling\\_prototype_selection\\_nearmiss.py\", line 225, in _fit_resample\n",
      "    X_class, n_neighbors=self.nn_.n_neighbors\n",
      "  File \"C:\\Users\\Asus\\miniconda3\\envs\\esrg\\lib\\site-packages\\sklearn\\neighbors\\_base.py\", line 683, in kneighbors\n",
      "    (n_samples_fit, n_neighbors)\n",
      "ValueError: Expected n_neighbors <= n_samples,  but n_samples = 2, n_neighbors = 3\n",
      "\n",
      "Exception in thread Thread-15:\n",
      "Traceback (most recent call last):\n",
      "  File \"C:\\Users\\Asus\\miniconda3\\envs\\esrg\\lib\\threading.py\", line 916, in _bootstrap_inner\n",
      "    self.run()\n",
      "  File \"C:\\Users\\Asus\\miniconda3\\envs\\esrg\\lib\\threading.py\", line 864, in run\n",
      "    self._target(*self._args, **self._kwargs)\n",
      "  File \"D:\\DL-Inference\\premodel.py\", line 289, in CV_fold_worker\n",
      "    X_train_third_level, X_val_third_level = undersample.fit_resample(X_train_third_level, X_val_third_level)\n",
      "  File \"C:\\Users\\Asus\\miniconda3\\envs\\esrg\\lib\\site-packages\\imblearn\\base.py\", line 83, in fit_resample\n",
      "    output = self._fit_resample(X, y)\n",
      "  File \"C:\\Users\\Asus\\miniconda3\\envs\\esrg\\lib\\site-packages\\imblearn\\under_sampling\\_prototype_selection\\_nearmiss.py\", line 225, in _fit_resample\n",
      "    X_class, n_neighbors=self.nn_.n_neighbors\n",
      "  File \"C:\\Users\\Asus\\miniconda3\\envs\\esrg\\lib\\site-packages\\sklearn\\neighbors\\_base.py\", line 683, in kneighbors\n",
      "    (n_samples_fit, n_neighbors)\n",
      "ValueError: Expected n_neighbors <= n_samples,  but n_samples = 2, n_neighbors = 3\n",
      "Exception in thread Thread-14:\n",
      "Traceback (most recent call last):\n",
      "  File \"C:\\Users\\Asus\\miniconda3\\envs\\esrg\\lib\\threading.py\", line 916, in _bootstrap_inner\n",
      "    self.run()\n",
      "  File \"C:\\Users\\Asus\\miniconda3\\envs\\esrg\\lib\\threading.py\", line 864, in run\n",
      "    self._target(*self._args, **self._kwargs)\n",
      "  File \"D:\\DL-Inference\\premodel.py\", line 289, in CV_fold_worker\n",
      "    X_train_third_level, X_val_third_level = undersample.fit_resample(X_train_third_level, X_val_third_level)\n",
      "  File \"C:\\Users\\Asus\\miniconda3\\envs\\esrg\\lib\\site-packages\\imblearn\\base.py\", line 83, in fit_resample\n",
      "    output = self._fit_resample(X, y)\n",
      "  File \"C:\\Users\\Asus\\miniconda3\\envs\\esrg\\lib\\site-packages\\imblearn\\under_sampling\\_prototype_selection\\_nearmiss.py\", line 225, in _fit_resample\n",
      "    X_class, n_neighbors=self.nn_.n_neighbors\n",
      "  File \"C:\\Users\\Asus\\miniconda3\\envs\\esrg\\lib\\site-packages\\sklearn\\neighbors\\_base.py\", line 683, in kneighbors\n",
      "    (n_samples_fit, n_neighbors)\n",
      "ValueError: Expected n_neighbors <= n_samples,  but n_samples = 2, n_neighbors = 3\n",
      "\n",
      "\n"
     ]
    },
    {
     "ename": "ValueError",
     "evalue": "Expected n_neighbors <= n_samples,  but n_samples = 2, n_neighbors = 3",
     "output_type": "error",
     "traceback": [
      "\u001b[1;31m---------------------------------------------------------------------------\u001b[0m",
      "\u001b[1;31mValueError\u001b[0m                                Traceback (most recent call last)",
      "\u001b[1;32m<ipython-input-4-0151ea098bcc>\u001b[0m in \u001b[0;36m<module>\u001b[1;34m\u001b[0m\n\u001b[1;32m----> 1\u001b[1;33m \u001b[0moutput_log_reg\u001b[0m \u001b[1;33m=\u001b[0m \u001b[0mpre_model\u001b[0m\u001b[1;33m.\u001b[0m\u001b[0mprototype\u001b[0m\u001b[1;33m(\u001b[0m\u001b[1;36m200\u001b[0m\u001b[1;33m,\u001b[0m \u001b[1;33m(\u001b[0m\u001b[1;33m[\u001b[0m\u001b[1;33m(\u001b[0m\u001b[1;34m'log_reg'\u001b[0m\u001b[1;33m,\u001b[0m \u001b[1;34m'log_reg'\u001b[0m\u001b[1;33m,\u001b[0m \u001b[1;34m'log_reg'\u001b[0m\u001b[1;33m)\u001b[0m\u001b[1;33m]\u001b[0m\u001b[1;33m)\u001b[0m\u001b[1;33m)\u001b[0m  \u001b[1;31m# logistic regression premodel\u001b[0m\u001b[1;33m\u001b[0m\u001b[1;33m\u001b[0m\u001b[0m\n\u001b[0m",
      "\u001b[1;32mD:\\DL-Inference\\premodel.py\u001b[0m in \u001b[0;36mprototype\u001b[1;34m(self, amount_images, list_premodels)\u001b[0m\n\u001b[0;32m    474\u001b[0m         \u001b[0mpreds\u001b[0m \u001b[1;33m=\u001b[0m \u001b[0mlist\u001b[0m\u001b[1;33m(\u001b[0m\u001b[1;33m)\u001b[0m\u001b[1;33m\u001b[0m\u001b[1;33m\u001b[0m\u001b[0m\n\u001b[0;32m    475\u001b[0m         \u001b[1;32mfor\u001b[0m \u001b[0mcounter\u001b[0m\u001b[1;33m,\u001b[0m\u001b[1;33m(\u001b[0m\u001b[0mfirst_level_machine\u001b[0m\u001b[1;33m,\u001b[0m \u001b[0msecond_level_machine\u001b[0m\u001b[1;33m,\u001b[0m \u001b[0mthird_level_machine\u001b[0m\u001b[1;33m)\u001b[0m \u001b[1;32min\u001b[0m \u001b[0menumerate\u001b[0m\u001b[1;33m(\u001b[0m\u001b[0mlist_premodels\u001b[0m\u001b[1;33m)\u001b[0m\u001b[1;33m:\u001b[0m\u001b[1;33m\u001b[0m\u001b[1;33m\u001b[0m\u001b[0m\n\u001b[1;32m--> 476\u001b[1;33m             \u001b[0mpreds\u001b[0m\u001b[1;33m.\u001b[0m\u001b[0mappend\u001b[0m\u001b[1;33m(\u001b[0m\u001b[0mself\u001b[0m\u001b[1;33m.\u001b[0m\u001b[0mCV_fold_worker\u001b[0m\u001b[1;33m(\u001b[0m\u001b[0mtest_idx\u001b[0m\u001b[1;33m,\u001b[0m \u001b[0mtrain_idx\u001b[0m\u001b[1;33m,\u001b[0m \u001b[0mdata\u001b[0m\u001b[1;33m,\u001b[0m \u001b[0mfirst_level_data\u001b[0m\u001b[1;33m,\u001b[0m \u001b[0msecond_level_data\u001b[0m\u001b[1;33m,\u001b[0m \u001b[0mthird_level_data\u001b[0m\u001b[1;33m,\u001b[0m \u001b[0mfirst_level_machine\u001b[0m\u001b[1;33m,\u001b[0m \u001b[0msecond_level_machine\u001b[0m\u001b[1;33m,\u001b[0m \u001b[0mthird_level_machine\u001b[0m\u001b[1;33m,\u001b[0m \u001b[0mreturn_wrapper\u001b[0m\u001b[1;33m)\u001b[0m\u001b[1;33m)\u001b[0m\u001b[1;33m\u001b[0m\u001b[1;33m\u001b[0m\u001b[0m\n\u001b[0m\u001b[0;32m    477\u001b[0m         \u001b[1;32mreturn\u001b[0m \u001b[0mpercentage_results\u001b[0m\u001b[1;33m,\u001b[0m \u001b[0mreport_results\u001b[0m\u001b[1;33m,\u001b[0m \u001b[0mpredicted\u001b[0m\u001b[1;33m,\u001b[0m \u001b[0mcorrect_result\u001b[0m\u001b[1;33m,\u001b[0m \u001b[0mreturn_wrapper\u001b[0m\u001b[1;33m,\u001b[0m \u001b[0mworker_threads\u001b[0m\u001b[1;33m\u001b[0m\u001b[1;33m\u001b[0m\u001b[0m\n\u001b[0;32m    478\u001b[0m \u001b[1;33m\u001b[0m\u001b[0m\n",
      "\u001b[1;32mD:\\DL-Inference\\premodel.py\u001b[0m in \u001b[0;36mCV_fold_worker\u001b[1;34m(self, test_idx, train_idx, img_data, first_level, second_level, third_level, first_level_machine, second_level_machine, third_level_machine, return_wrapper)\u001b[0m\n\u001b[0;32m    287\u001b[0m         \u001b[0mX_train_second_level\u001b[0m\u001b[1;33m,\u001b[0m \u001b[0mX_val_second_level\u001b[0m \u001b[1;33m=\u001b[0m \u001b[0mundersample\u001b[0m\u001b[1;33m.\u001b[0m\u001b[0mfit_resample\u001b[0m\u001b[1;33m(\u001b[0m\u001b[0mX_train_second_level\u001b[0m\u001b[1;33m,\u001b[0m \u001b[0mX_val_second_level\u001b[0m\u001b[1;33m)\u001b[0m\u001b[1;33m\u001b[0m\u001b[1;33m\u001b[0m\u001b[0m\n\u001b[0;32m    288\u001b[0m \u001b[1;33m\u001b[0m\u001b[0m\n\u001b[1;32m--> 289\u001b[1;33m         \u001b[0mX_train_third_level\u001b[0m\u001b[1;33m,\u001b[0m \u001b[0mX_val_third_level\u001b[0m \u001b[1;33m=\u001b[0m \u001b[0mundersample\u001b[0m\u001b[1;33m.\u001b[0m\u001b[0mfit_resample\u001b[0m\u001b[1;33m(\u001b[0m\u001b[0mX_train_third_level\u001b[0m\u001b[1;33m,\u001b[0m \u001b[0mX_val_third_level\u001b[0m\u001b[1;33m)\u001b[0m\u001b[1;33m\u001b[0m\u001b[1;33m\u001b[0m\u001b[0m\n\u001b[0m\u001b[0;32m    290\u001b[0m \u001b[1;33m\u001b[0m\u001b[0m\n\u001b[0;32m    291\u001b[0m \u001b[1;33m\u001b[0m\u001b[0m\n",
      "\u001b[1;32m~\\miniconda3\\envs\\esrg\\lib\\site-packages\\imblearn\\base.py\u001b[0m in \u001b[0;36mfit_resample\u001b[1;34m(self, X, y)\u001b[0m\n\u001b[0;32m     81\u001b[0m         )\n\u001b[0;32m     82\u001b[0m \u001b[1;33m\u001b[0m\u001b[0m\n\u001b[1;32m---> 83\u001b[1;33m         \u001b[0moutput\u001b[0m \u001b[1;33m=\u001b[0m \u001b[0mself\u001b[0m\u001b[1;33m.\u001b[0m\u001b[0m_fit_resample\u001b[0m\u001b[1;33m(\u001b[0m\u001b[0mX\u001b[0m\u001b[1;33m,\u001b[0m \u001b[0my\u001b[0m\u001b[1;33m)\u001b[0m\u001b[1;33m\u001b[0m\u001b[1;33m\u001b[0m\u001b[0m\n\u001b[0m\u001b[0;32m     84\u001b[0m \u001b[1;33m\u001b[0m\u001b[0m\n\u001b[0;32m     85\u001b[0m         y_ = (label_binarize(output[1], np.unique(y))\n",
      "\u001b[1;32m~\\miniconda3\\envs\\esrg\\lib\\site-packages\\imblearn\\under_sampling\\_prototype_selection\\_nearmiss.py\u001b[0m in \u001b[0;36m_fit_resample\u001b[1;34m(self, X, y)\u001b[0m\n\u001b[0;32m    223\u001b[0m                 \u001b[1;32mif\u001b[0m \u001b[0mself\u001b[0m\u001b[1;33m.\u001b[0m\u001b[0mversion\u001b[0m \u001b[1;33m==\u001b[0m \u001b[1;36m1\u001b[0m\u001b[1;33m:\u001b[0m\u001b[1;33m\u001b[0m\u001b[1;33m\u001b[0m\u001b[0m\n\u001b[0;32m    224\u001b[0m                     dist_vec, idx_vec = self.nn_.kneighbors(\n\u001b[1;32m--> 225\u001b[1;33m                         \u001b[0mX_class\u001b[0m\u001b[1;33m,\u001b[0m \u001b[0mn_neighbors\u001b[0m\u001b[1;33m=\u001b[0m\u001b[0mself\u001b[0m\u001b[1;33m.\u001b[0m\u001b[0mnn_\u001b[0m\u001b[1;33m.\u001b[0m\u001b[0mn_neighbors\u001b[0m\u001b[1;33m\u001b[0m\u001b[1;33m\u001b[0m\u001b[0m\n\u001b[0m\u001b[0;32m    226\u001b[0m                     )\n\u001b[0;32m    227\u001b[0m                     index_target_class = self._selection_dist_based(\n",
      "\u001b[1;32m~\\miniconda3\\envs\\esrg\\lib\\site-packages\\sklearn\\neighbors\\_base.py\u001b[0m in \u001b[0;36mkneighbors\u001b[1;34m(self, X, n_neighbors, return_distance)\u001b[0m\n\u001b[0;32m    681\u001b[0m                 \u001b[1;34m\"Expected n_neighbors <= n_samples, \"\u001b[0m\u001b[1;33m\u001b[0m\u001b[1;33m\u001b[0m\u001b[0m\n\u001b[0;32m    682\u001b[0m                 \u001b[1;34m\" but n_samples = %d, n_neighbors = %d\"\u001b[0m \u001b[1;33m%\u001b[0m\u001b[1;33m\u001b[0m\u001b[1;33m\u001b[0m\u001b[0m\n\u001b[1;32m--> 683\u001b[1;33m                 \u001b[1;33m(\u001b[0m\u001b[0mn_samples_fit\u001b[0m\u001b[1;33m,\u001b[0m \u001b[0mn_neighbors\u001b[0m\u001b[1;33m)\u001b[0m\u001b[1;33m\u001b[0m\u001b[1;33m\u001b[0m\u001b[0m\n\u001b[0m\u001b[0;32m    684\u001b[0m             )\n\u001b[0;32m    685\u001b[0m \u001b[1;33m\u001b[0m\u001b[0m\n",
      "\u001b[1;31mValueError\u001b[0m: Expected n_neighbors <= n_samples,  but n_samples = 2, n_neighbors = 3"
     ]
    }
   ],
   "source": [
    "output_log_reg = pre_model.prototype(200, ([('log_reg', 'log_reg', 'log_reg')]))  # logistic regression premodel"
   ]
  },
  {
   "cell_type": "code",
   "execution_count": null,
   "metadata": {
    "scrolled": true
   },
   "outputs": [],
   "source": [
    "output_knn = pre_model.prototype(200, ([('nn', 'nn', 'nn')]))      # knn premodel"
   ]
  },
  {
   "cell_type": "code",
   "execution_count": null,
   "metadata": {},
   "outputs": [],
   "source": [
    "output_dt16 = pre_model.prototype(200, ([('dt16', 'dt16', 'dt16')]))      # knn premodel"
   ]
  },
  {
   "cell_type": "markdown",
   "metadata": {},
   "source": [
    "<font size=\"5\">**Testing the accuracy of the premodel**</font>\n",
    "<br /><br />\n",
    "<font size=\"3\">First, we extract the predicted models for the 20k images for both <font color = \"green\">logistic regression</font> and <font color = \"green\">knn</font> premodels.</font>"
   ]
  },
  {
   "cell_type": "code",
   "execution_count": null,
   "metadata": {},
   "outputs": [],
   "source": [
    "def img_num_from_name(img_name):          # obtaining the image number from image name\n",
    "    ext = []\n",
    "    for i in range(len(img_name)):\n",
    "        if i > 14 and i < 23:\n",
    "            ext.append(img_name[i])\n",
    "    j = 0\n",
    "    for i in range(len(ext)):\n",
    "        if ext[i] == '0':\n",
    "            j = j + 1\n",
    "        if ext[i] != '0':\n",
    "            break\n",
    "    rightNum = []\n",
    "    for i in range(j, len(ext)):\n",
    "        rightNum.append(ext[i])\n",
    "    rightNum = ''.join(rightNum)\n",
    "    rightNum = int(rightNum)\n",
    "    return rightNum\n",
    "\n",
    "\n",
    "predicted_models_log_reg = []                              # models predicted by logistic regression premodel\n",
    "for i in range(10):\n",
    "    for j in range(len(output_log_reg[5][i][1][0])):\n",
    "        img_paths = (output_log_reg[5][i][1][0][j][0])\n",
    "        img_nums = (img_num_from_name(img_paths))\n",
    "        if output_log_reg[5][i][1][0][j][4] == 'tf-mobilenet_v1' and output_log_reg[5][i][1][0][j][3] == 1:\n",
    "            predicted_models_log_reg.append([img_nums, 'mobilenet_v1'])\n",
    "        elif output_log_reg[5][i][1][0][j][4] == 'tf-inception_v4' and output_log_reg[5][i][1][0][j][3] == 2:\n",
    "            predicted_models_log_reg.append([img_nums, 'inception_v4'])\n",
    "        elif output_log_reg[5][i][1][0][j][4] == 'tf-resnet_v1_152' and output_log_reg[5][i][1][0][j][3] == 3:\n",
    "            predicted_models_log_reg.append([img_nums, 'resnet_v1_152'])\n",
    "        elif output_log_reg[5][i][1][0][j][4] == 'failed':\n",
    "            predicted_models_log_reg.append([img_nums, 'failed'])\n",
    "        \n",
    "\n",
    "predicted_models_knn = []                                    # models predicted by knn premodel            \n",
    "for i in range(10):\n",
    "    for j in range(len(output_knn[5][i][1][0])):\n",
    "        img_paths = (output_knn[5][i][1][0][j][0])\n",
    "        img_nums = (img_num_from_name(img_paths))\n",
    "        if output_knn[5][i][1][0][j][4] == 'tf-mobilenet_v1' and output_knn[5][i][1][0][j][3] == 1:\n",
    "            predicted_models_knn.append([img_nums, 'mobilenet_v1'])\n",
    "        elif output_knn[5][i][1][0][j][4] == 'tf-inception_v4' and output_knn[5][i][1][0][j][3] == 2:\n",
    "            predicted_models_knn.append([img_nums, 'inception_v4'])\n",
    "        elif output_knn[5][i][1][0][j][4] == 'tf-resnet_v1_152' and output_knn[5][i][1][0][j][3] == 3:\n",
    "            predicted_models_knn.append([img_nums, 'resnet_v1_152'])\n",
    "        elif output_knn[5][i][1][0][j][4] == 'failed':\n",
    "            predicted_models_knn.append([img_nums, 'failed'])\n",
    "            \n",
    "\n",
    "predicted_models_dt16 = []                                    # models predicted by dt16 premodel            \n",
    "for i in range(10):\n",
    "    for j in range(len(output_dt16[5][i][1][0])):\n",
    "        img_paths = (output_dt16[5][i][1][0][j][0])\n",
    "        img_nums = (img_num_from_name(img_paths))\n",
    "        if output_dt16[5][i][1][0][j][4] == 'tf-mobilenet_v1' and output_dt16[5][i][1][0][j][3] == 1:\n",
    "            predicted_models_dt16.append([img_nums, 'mobilenet_v1'])\n",
    "        elif output_dt16[5][i][1][0][j][4] == 'tf-inception_v4' and output_dt16[5][i][1][0][j][3] == 2:\n",
    "            predicted_models_dt16.append([img_nums, 'inception_v4'])\n",
    "        elif output_dt16[5][i][1][0][j][4] == 'tf-resnet_v1_152' and output_dt16[5][i][1][0][j][3] == 3:\n",
    "            predicted_models_dt16.append([img_nums, 'resnet_v1_152'])\n",
    "        elif output_dt16[5][i][1][0][j][4] == 'failed':\n",
    "            predicted_models_dt16.append([img_nums, 'failed'])"
   ]
  },
  {
   "cell_type": "code",
   "execution_count": null,
   "metadata": {},
   "outputs": [],
   "source": [
    "print(len(predicted_models_log_reg))"
   ]
  },
  {
   "cell_type": "code",
   "execution_count": null,
   "metadata": {},
   "outputs": [],
   "source": [
    "print(len(predicted_models_knn))"
   ]
  },
  {
   "cell_type": "code",
   "execution_count": null,
   "metadata": {},
   "outputs": [],
   "source": [
    "print(len(predicted_models_dt16))"
   ]
  },
  {
   "cell_type": "markdown",
   "metadata": {},
   "source": [
    "<font size=\"3\">Now, we obtain the <font color = \"green\">accuracy</font> and <font color = \"green\">inference time</font> results of the predicted models from the database.</font>"
   ]
  },
  {
   "cell_type": "code",
   "execution_count": null,
   "metadata": {},
   "outputs": [],
   "source": [
    "accuracy_premodel = 0\n",
    "time_premodel = 0\n",
    "times = 0\n",
    "log_reg_premodel_overhead = 42.39268                                      # average logistic regression premodel overhead\n",
    "\n",
    "for i in range(len(predicted_models_log_reg)):\n",
    "    if predicted_models_log_reg[i][1] != 'failed':\n",
    "        times = times + 1                          # get_model_top_n (next line), where n is 1 or 5\n",
    "        accuracy_premodel = accuracy_premodel + (database.get_model_top_n(\"inference\", predicted_models_log_reg[i][0], predicted_models_log_reg[i][1], n))\n",
    "        time_premodel = time_premodel + (database.get_model_time(\"inference\", predicted_models_log_reg[i][0], predicted_models_log_reg[i][1]))\n",
    "\n",
    "log_reg_accuracy = accuracy_premodel/len(predicted_models_log_reg)               # logistic regression premodel accuracy\n",
    "log_reg_time = (time_premodel/times) + log_reg_premodel_overhead                 # logistic regression premodel inference time       \n",
    "print(\"Logistic regression premodel accuracy = {}\".format(log_reg_accuracy))\n",
    "print(\"Logistic regression premodel average inference time = {}\".format(log_reg_time))"
   ]
  },
  {
   "cell_type": "code",
   "execution_count": null,
   "metadata": {},
   "outputs": [],
   "source": [
    "accuracy_premodel = 0\n",
    "time_premodel = 0\n",
    "times = 0\n",
    "knn_premodel_overhead = 43.00882                                           # average knn premodel overhead\n",
    "\n",
    "for i in range(len(predicted_models_knn)):\n",
    "    if predicted_models_knn[i][1] != 'failed':\n",
    "        times = times + 1                           # get_model_top_n (next line), where n is 1 or 5\n",
    "        accuracy_premodel = accuracy_premodel + (database.get_model_top_n(\"inference\", predicted_models_knn[i][0], predicted_models_knn[i][1], n))\n",
    "        time_premodel = time_premodel + (database.get_model_time(\"inference\", predicted_models_knn[i][0], predicted_models_knn[i][1]))\n",
    "\n",
    "knn_accuracy = accuracy_premodel/len(predicted_models_knn)                        # knn premodel accuracy\n",
    "knn_time = (time_premodel/times) + knn_premodel_overhead                             # knnn premodel inference time\n",
    "print(\"KNN premodel accuracy = {}\".format(knn_accuracy))\n",
    "print(\"KNN premodel average inference time = {}\".format(knn_time))"
   ]
  },
  {
   "cell_type": "code",
   "execution_count": null,
   "metadata": {},
   "outputs": [],
   "source": [
    "accuracy_premodel = 0\n",
    "time_premodel = 0\n",
    "times = 0\n",
    "dt16_premodel_overhead = 43.00882                                           # average dt16 premodel overhead\n",
    "\n",
    "for i in range(len(predicted_models_dt16)):\n",
    "    if predicted_models_dt16[i][1] != 'failed':\n",
    "        times = times + 1                           # get_model_top_n (next line), where n is 1 or 5\n",
    "        accuracy_premodel = accuracy_premodel + (database.get_model_top_n(\"inference\", predicted_models_dt16[i][0], predicted_models_dt16[i][1], n))\n",
    "        time_premodel = time_premodel + (database.get_model_time(\"inference\", predicted_models_dt16[i][0], predicted_models_dt16[i][1]))\n",
    "\n",
    "dt16_accuracy = accuracy_premodel/len(predicted_models_dt16)                        # dt16 premodel accuracy\n",
    "dt16_time = (time_premodel/times) + dt16_premodel_overhead                             # dt16 premodel inference time\n",
    "print(\"DT16 premodel accuracy = {}\".format(dt16_accuracy))\n",
    "print(\"DT16 premodel average inference time = {}\".format(dt16_time))"
   ]
  },
  {
   "cell_type": "markdown",
   "metadata": {},
   "source": [
    "<font size=\"5\">**Comparing the results to MobileNet, Inception and ResNet**</font>\n",
    "<br /><br />\n",
    "<font size=\"3\">We start by getting the <font color = \"green\">image numbers</font> of the 20k images.</font>"
   ]
  },
  {
   "cell_type": "code",
   "execution_count": null,
   "metadata": {},
   "outputs": [],
   "source": [
    "img_nums = []\n",
    "for i in range(1, 201):                        # the same range of images is selected\n",
    "    img_nums.append(i)"
   ]
  },
  {
   "cell_type": "markdown",
   "metadata": {},
   "source": [
    "<font size=\"3\">Finally, we obtain the <font color = \"green\">accuracy</font> and <font color = \"green\">inference time</font> results for each DNN separately from the database.</font>"
   ]
  },
  {
   "cell_type": "code",
   "execution_count": null,
   "metadata": {
    "scrolled": true
   },
   "outputs": [],
   "source": [
    "mobilenet_right = 0\n",
    "mobilenet_time = 0\n",
    "for i in range(len(img_nums)):                            # obtaining accuracy and inference time for each image\n",
    "    mobilenet_right = mobilenet_right + (database.get_model_top_n(\"inference\", img_nums[i], 'mobilenet_v1', n))\n",
    "    mobilenet_time = mobilenet_time + (database.get_model_time(\"inference\", img_nums[i], 'mobilenet_v1'))\n",
    "print(\"Mobilenet top-{} accuracy = {}\".format(n, mobilenet_right/len(img_nums)))          # accuracy over 20k images\n",
    "print(\"Mobilenet average inference time = {}\".format(mobilenet_time/len(img_nums)))   # average inference time over 20k images\n",
    "\n",
    "inception_right = 0\n",
    "inception_time = 0\n",
    "for i in range(len(img_nums)):\n",
    "    inception_right = inception_right + (database.get_model_top_n(\"inference\", img_nums[i], 'inception_v4', n))\n",
    "    inception_time = inception_time + (database.get_model_time(\"inference\", img_nums[i], 'inception_v4'))\n",
    "print(\"Inception top-{} accuracy = {}\".format(n, inception_right/len(img_nums)))\n",
    "print(\"Inception average inference time = {}\".format(inception_time/len(img_nums)))\n",
    "\n",
    "resnet_right = 0\n",
    "resnet_time = 0\n",
    "for i in range(len(img_nums)):\n",
    "    resnet_right = resnet_right + (database.get_model_top_n(\"inference\", img_nums[i], 'resnet_v1_152', n))\n",
    "    resnet_time = resnet_time + (database.get_model_time(\"inference\", img_nums[i], 'resnet_v1_152'))\n",
    "print(\"ResNet top-{} accuracy = {}\".format(n, resnet_right/len(img_nums)))\n",
    "print(\"ResNet average inference time = {}\".format(resnet_time/len(img_nums)))"
   ]
  },
  {
   "cell_type": "markdown",
   "metadata": {},
   "source": [
    "<font size=\"3\">Here, we plot the results for comparison.</font>"
   ]
  },
  {
   "cell_type": "code",
   "execution_count": null,
   "metadata": {},
   "outputs": [],
   "source": [
    "import matplotlib.pyplot as plt"
   ]
  },
  {
   "cell_type": "code",
   "execution_count": null,
   "metadata": {},
   "outputs": [],
   "source": [
    "model_names = ['Mobilenet', 'Inception', 'Resnet', 'Log reg prem', 'KNN prem']\n",
    "accuracy = [mobilenet_right/len(img_nums), inception_right/len(img_nums),\n",
    "            resnet_right/len(img_nums), log_reg_accuracy, knn_accuracy, dt16_accuracy]\n",
    "\n",
    "for i in range(len(accuracy)):\n",
    "    accuracy[i] = accuracy[i]*100\n",
    "\n",
    "ypos = np.arange(len(model_names))\n",
    "\n",
    "plt.xticks(ypos, model_names)\n",
    "plt.ylabel(\"accuracy (%)\")\n",
    "plt.title(\"{} accuracy\".format(preference))\n",
    "plt.bar(ypos, accuracy)\n",
    "plt.ylim(top = 85)\n",
    "plt.ylim(bottom = 65)\n",
    "plt.legend()"
   ]
  },
  {
   "cell_type": "code",
   "execution_count": null,
   "metadata": {},
   "outputs": [],
   "source": [
    "times = [mobilenet_time/len(img_nums), inception_time/len(img_nums),\n",
    "         resnet_time/len(img_nums), log_reg_time, knn_time, dt16_time]\n",
    "times_premodel = [0, 0, 0, log_reg_premodel_overhead, knn_premodel_overhead, dt16_premodel_overhead]\n",
    "\n",
    "for i in range(len(times)):\n",
    "    times[i] = times[i]/1000\n",
    "\n",
    "for i in range(len(times_premodel)):\n",
    "    times_premodel[i] = times_premodel[i]/1000\n",
    "    \n",
    "plt.xticks(ypos, model_names)\n",
    "plt.ylabel(\"inference time (s)\")\n",
    "plt.title(\"Inference time\")\n",
    "plt.bar(ypos, times, label = \"Inference\")\n",
    "plt.bar(ypos, times_premodel, label = \"Premodel\")\n",
    "plt.legend()"
   ]
  }
 ],
 "metadata": {
  "kernelspec": {
   "display_name": "esrg",
   "language": "python",
   "name": "esrg"
  },
  "language_info": {
   "codemirror_mode": {
    "name": "ipython",
    "version": 3
   },
   "file_extension": ".py",
   "mimetype": "text/x-python",
   "name": "python",
   "nbconvert_exporter": "python",
   "pygments_lexer": "ipython3",
   "version": "3.6.12"
  }
 },
 "nbformat": 4,
 "nbformat_minor": 4
}
