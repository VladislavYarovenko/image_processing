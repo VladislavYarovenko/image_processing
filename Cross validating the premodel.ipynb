{
 "cells": [
  {
   "cell_type": "markdown",
   "metadata": {},
   "source": [
    "<font size=\"5\">**Cross validating the premodel**</font>\n",
    "<br /><br />\n",
    "<font size=\"3\">All the timings and accuracy values are taken from the <font color = \"green\">database</font>. The average premodel feature extraction and prediction time were calculated <font color = \"green\">separately</font> and added to premodel inference time.</font>\n",
    " "
   ]
  },
  {
   "cell_type": "markdown",
   "metadata": {},
   "source": [
    "<font size=\"3\">First, we import the necessary libraries and start the *image generator* class.</font>"
   ]
  },
  {
   "cell_type": "code",
   "execution_count": 1,
   "metadata": {},
   "outputs": [],
   "source": [
    "import warnings\n",
    "warnings.filterwarnings('ignore')\n",
    "import numpy as np\n",
    "import pandas as pd\n",
    "from sklearn import preprocessing, neighbors\n",
    "from sklearn.model_selection import cross_validate, train_test_split\n",
    "from sklearn.linear_model import LogisticRegression\n",
    "import premodel\n",
    "#!pip install --user imblearn\n",
    "from imblearn.over_sampling import SMOTE\n",
    "from sklearn.metrics import precision_recall_fscore_support\n",
    "import image_generator\n",
    "import database"
   ]
  },
  {
   "cell_type": "code",
   "execution_count": 2,
   "metadata": {
    "scrolled": true
   },
   "outputs": [
    {
     "name": "stdout",
     "output_type": "stream",
     "text": [
      "images/val/images\\ILSVRC2012_val_00018557.JPEG yurt\n",
      "images/val/images\\ILSVRC2012_val_00013415.JPEG cauliflower\n",
      "images/val/images\\ILSVRC2012_val_00002143.JPEG electric guitar\n",
      "images/val/images\\ILSVRC2012_val_00003398.JPEG entertainment center\n",
      "images/val/images\\ILSVRC2012_val_00028560.JPEG wok\n",
      "images/val/images\\ILSVRC2012_val_00011090.JPEG kelpie\n",
      "images/val/images\\ILSVRC2012_val_00005247.JPEG rifle\n",
      "images/val/images\\ILSVRC2012_val_00026270.JPEG car mirror\n",
      "images/val/images\\ILSVRC2012_val_00036867.JPEG backpack, back pack, knapsack, packsack, rucksack, haversack\n",
      "images/val/images\\ILSVRC2012_val_00043713.JPEG mask\n"
     ]
    }
   ],
   "source": [
    "image_generator.main()\n",
    "imgGen = image_generator.ImageGenerator('images/val/images', 'images/val/val.txt', 'images/val/synset_words.txt')\n",
    "label_list = imgGen.get_label_list()"
   ]
  },
  {
   "cell_type": "markdown",
   "metadata": {},
   "source": [
    "<font size=\"5\">**Running the premodel**</font>\n",
    "<br /><br />\n",
    "<font size=\"3\">We cross validate two premodels (<font color = \"green\">logistic regression</font> and <font color = \"green\">knn</font>) with <font color = \"green\">10-fold cross validation</font> on <font color = \"green\">20k</font> images. So, we obtain the <u>predicted models</u> for all <font color = \"green\">20k</font> images.</font>"
   ]
  },
  {
   "cell_type": "code",
   "execution_count": 3,
   "metadata": {},
   "outputs": [],
   "source": [
    "preference = 'Top-1'                # here, we select our preference, Top-1 or Top-5\n",
    "n = 1                          # 1 for top-1, 5 for top-5\n",
    "pre_model = premodel.Premodel(preference)"
   ]
  },
  {
   "cell_type": "code",
   "execution_count": 4,
   "metadata": {
    "scrolled": true
   },
   "outputs": [],
   "source": [
    "output_log_reg = pre_model.prototype(200, ([('log_reg', 'log_reg', 'log_reg')]))  # logistic regression premodel"
   ]
  },
  {
   "cell_type": "code",
   "execution_count": 5,
   "metadata": {},
   "outputs": [],
   "source": [
    "output_knn = pre_model.prototype(200, ([('nn', 'nn', 'nn')]))      # knn premodel"
   ]
  },
  {
   "cell_type": "code",
   "execution_count": 6,
   "metadata": {},
   "outputs": [],
   "source": [
    "output_dt16 = pre_model.prototype(200, ([('dt16', 'dt16', 'dt16')]))      # dt16 premodel"
   ]
  },
  {
   "cell_type": "markdown",
   "metadata": {},
   "source": [
    "<font size=\"5\">**Testing the accuracy of the premodel**</font>\n",
    "<br /><br />\n",
    "<font size=\"3\">First, we extract the predicted models for the 20k images for both <font color = \"green\">logistic regression</font> and <font color = \"green\">knn</font> premodels.</font>"
   ]
  },
  {
   "cell_type": "code",
   "execution_count": 7,
   "metadata": {},
   "outputs": [],
   "source": [
    "def img_num_from_name(img_name):          # obtaining the image number from image name\n",
    "    ext = []\n",
    "    for i in range(len(img_name)):\n",
    "        if i > 14 and i < 23:\n",
    "            ext.append(img_name[i])\n",
    "    j = 0\n",
    "    for i in range(len(ext)):\n",
    "        if ext[i] == '0':\n",
    "            j = j + 1\n",
    "        if ext[i] != '0':\n",
    "            break\n",
    "    rightNum = []\n",
    "    for i in range(j, len(ext)):\n",
    "        rightNum.append(ext[i])\n",
    "    rightNum = ''.join(rightNum)\n",
    "    rightNum = int(rightNum)\n",
    "    return rightNum\n",
    "\n",
    "\n",
    "predicted_models_log_reg = []                              # models predicted by logistic regression premodel\n",
    "for i in range(10):\n",
    "    for j in range(len(output_log_reg[5][i][1][0])):\n",
    "        img_paths = (output_log_reg[5][i][1][0][j][0])\n",
    "        img_nums = (img_num_from_name(img_paths))\n",
    "        if output_log_reg[5][i][1][0][j][4] == 'tf-mobilenet_v1' and output_log_reg[5][i][1][0][j][3] == 1:\n",
    "            predicted_models_log_reg.append([img_nums, 'mobilenet_v1'])\n",
    "        elif output_log_reg[5][i][1][0][j][4] == 'tf-inception_v4' and output_log_reg[5][i][1][0][j][3] == 2:\n",
    "            predicted_models_log_reg.append([img_nums, 'inception_v4'])\n",
    "        elif output_log_reg[5][i][1][0][j][4] == 'tf-resnet_v1_152' and output_log_reg[5][i][1][0][j][3] == 3:\n",
    "            predicted_models_log_reg.append([img_nums, 'resnet_v1_152'])\n",
    "        elif output_log_reg[5][i][1][0][j][4] == 'failed':\n",
    "            predicted_models_log_reg.append([img_nums, 'failed'])\n",
    "        \n",
    "\n",
    "predicted_models_knn = []                                    # models predicted by knn premodel            \n",
    "for i in range(10):\n",
    "    for j in range(len(output_knn[5][i][1][0])):\n",
    "        img_paths = (output_knn[5][i][1][0][j][0])\n",
    "        img_nums = (img_num_from_name(img_paths))\n",
    "        if output_knn[5][i][1][0][j][4] == 'tf-mobilenet_v1' and output_knn[5][i][1][0][j][3] == 1:\n",
    "            predicted_models_knn.append([img_nums, 'mobilenet_v1'])\n",
    "        elif output_knn[5][i][1][0][j][4] == 'tf-inception_v4' and output_knn[5][i][1][0][j][3] == 2:\n",
    "            predicted_models_knn.append([img_nums, 'inception_v4'])\n",
    "        elif output_knn[5][i][1][0][j][4] == 'tf-resnet_v1_152' and output_knn[5][i][1][0][j][3] == 3:\n",
    "            predicted_models_knn.append([img_nums, 'resnet_v1_152'])\n",
    "        elif output_knn[5][i][1][0][j][4] == 'failed':\n",
    "            predicted_models_knn.append([img_nums, 'failed'])"
   ]
  },
  {
   "cell_type": "code",
   "execution_count": 8,
   "metadata": {},
   "outputs": [],
   "source": [
    "predicted_models_dt16 = []                                    # models predicted by dt16 premodel            \n",
    "for i in range(10):\n",
    "    for j in range(len(output_dt16[5][i][1][0])):\n",
    "        img_paths = (output_dt16[5][i][1][0][j][0])\n",
    "        img_nums = (img_num_from_name(img_paths))\n",
    "        if output_dt16[5][i][1][0][j][4] == 'tf-mobilenet_v1' and output_dt16[5][i][1][0][j][3] == 1:\n",
    "            predicted_models_dt16.append([img_nums, 'mobilenet_v1'])\n",
    "        elif output_dt16[5][i][1][0][j][4] == 'tf-inception_v4' and output_dt16[5][i][1][0][j][3] == 2:\n",
    "            predicted_models_dt16.append([img_nums, 'inception_v4'])\n",
    "        elif output_dt16[5][i][1][0][j][4] == 'tf-resnet_v1_152' and output_dt16[5][i][1][0][j][3] == 3:\n",
    "            predicted_models_dt16.append([img_nums, 'resnet_v1_152'])\n",
    "        elif output_dt16[5][i][1][0][j][4] == 'failed':\n",
    "            predicted_models_dt16.append([img_nums, 'failed'])"
   ]
  },
  {
   "cell_type": "code",
   "execution_count": 9,
   "metadata": {},
   "outputs": [
    {
     "name": "stdout",
     "output_type": "stream",
     "text": [
      "200\n"
     ]
    }
   ],
   "source": [
    "print(len(predicted_models_log_reg))"
   ]
  },
  {
   "cell_type": "code",
   "execution_count": 10,
   "metadata": {},
   "outputs": [
    {
     "name": "stdout",
     "output_type": "stream",
     "text": [
      "200\n"
     ]
    }
   ],
   "source": [
    "print(len(predicted_models_knn))"
   ]
  },
  {
   "cell_type": "code",
   "execution_count": 11,
   "metadata": {},
   "outputs": [
    {
     "name": "stdout",
     "output_type": "stream",
     "text": [
      "200\n"
     ]
    }
   ],
   "source": [
    "print(len(predicted_models_dt16))"
   ]
  },
  {
   "cell_type": "markdown",
   "metadata": {},
   "source": [
    "<font size=\"3\">Now, we obtain the <font color = \"green\">accuracy</font> and <font color = \"green\">inference time</font> results of the predicted models from the database.</font>"
   ]
  },
  {
   "cell_type": "code",
   "execution_count": 12,
   "metadata": {},
   "outputs": [
    {
     "name": "stdout",
     "output_type": "stream",
     "text": [
      "Logistic regression premodel accuracy = 0.73\n",
      "Logistic regression premodel average inference time = 675.19268\n"
     ]
    }
   ],
   "source": [
    "accuracy_premodel = 0\n",
    "time_premodel = 0\n",
    "times = 0\n",
    "log_reg_premodel_overhead = 42.39268                                      # average logistic regression premodel overhead\n",
    "\n",
    "for i in range(len(predicted_models_log_reg)):\n",
    "    if predicted_models_log_reg[i][1] != 'failed':\n",
    "        times = times + 1                          # get_model_top_n (next line), where n is 1 or 5\n",
    "        accuracy_premodel = accuracy_premodel + (database.get_model_top_n(\"inference\", predicted_models_log_reg[i][0], predicted_models_log_reg[i][1], n))\n",
    "        time_premodel = time_premodel + (database.get_model_time(\"inference\", predicted_models_log_reg[i][0], predicted_models_log_reg[i][1]))\n",
    "\n",
    "log_reg_accuracy = accuracy_premodel/len(predicted_models_log_reg)               # logistic regression premodel accuracy\n",
    "log_reg_time = (time_premodel/times) + log_reg_premodel_overhead                 # logistic regression premodel inference time       \n",
    "print(\"Logistic regression premodel accuracy = {}\".format(log_reg_accuracy))\n",
    "print(\"Logistic regression premodel average inference time = {}\".format(log_reg_time))"
   ]
  },
  {
   "cell_type": "code",
   "execution_count": 13,
   "metadata": {},
   "outputs": [
    {
     "name": "stdout",
     "output_type": "stream",
     "text": [
      "KNN premodel accuracy = 0.725\n",
      "KNN premodel average inference time = 670.6331854822336\n"
     ]
    }
   ],
   "source": [
    "accuracy_premodel = 0\n",
    "time_premodel = 0\n",
    "times = 0\n",
    "knn_premodel_overhead = 43.00882                                           # average knn premodel overhead\n",
    "\n",
    "for i in range(len(predicted_models_knn)):\n",
    "    if predicted_models_knn[i][1] != 'failed':\n",
    "        times = times + 1                           # get_model_top_n (next line), where n is 1 or 5\n",
    "        accuracy_premodel = accuracy_premodel + (database.get_model_top_n(\"inference\", predicted_models_knn[i][0], predicted_models_knn[i][1], n))\n",
    "        time_premodel = time_premodel + (database.get_model_time(\"inference\", predicted_models_knn[i][0], predicted_models_knn[i][1]))\n",
    "\n",
    "knn_accuracy = accuracy_premodel/len(predicted_models_knn)                        # knn premodel accuracy\n",
    "knn_time = (time_premodel/times) + knn_premodel_overhead                             # knnn premodel inference time\n",
    "print(\"KNN premodel accuracy = {}\".format(knn_accuracy))\n",
    "print(\"KNN premodel average inference time = {}\".format(knn_time))"
   ]
  },
  {
   "cell_type": "code",
   "execution_count": 14,
   "metadata": {},
   "outputs": [
    {
     "name": "stdout",
     "output_type": "stream",
     "text": [
      "DT16 premodel accuracy = 1.445\n",
      "DT16 premodel average inference time = 731.7996363265306\n"
     ]
    }
   ],
   "source": [
    "time_premodel = 0\n",
    "times = 0\n",
    "dt16_premodel_overhead = 43.00882                                           # average dt16 premodel overhead\n",
    "\n",
    "for i in range(len(predicted_models_dt16)):\n",
    "    if predicted_models_dt16[i][1] != 'failed':\n",
    "        times = times + 1                           # get_model_top_n (next line), where n is 1 or 5\n",
    "        accuracy_premodel = accuracy_premodel + (database.get_model_top_n(\"inference\", predicted_models_dt16[i][0], predicted_models_dt16[i][1], n))\n",
    "        time_premodel = time_premodel + (database.get_model_time(\"inference\", predicted_models_dt16[i][0], predicted_models_dt16[i][1]))\n",
    "\n",
    "dt16_accuracy = accuracy_premodel/len(predicted_models_dt16)                        # dt16 premodel accuracy\n",
    "dt16_time = (time_premodel/times) + dt16_premodel_overhead                             # dt16 premodel inference time\n",
    "print(\"DT16 premodel accuracy = {}\".format(dt16_accuracy))\n",
    "print(\"DT16 premodel average inference time = {}\".format(dt16_time))"
   ]
  },
  {
   "cell_type": "markdown",
   "metadata": {},
   "source": [
    "<font size=\"5\">**Comparing the results to MobileNet, Inception and ResNet**</font>\n",
    "<br /><br />\n",
    "<font size=\"3\">We start by getting the <font color = \"green\">image numbers</font> of the 20k images.</font>"
   ]
  },
  {
   "cell_type": "code",
   "execution_count": 15,
   "metadata": {},
   "outputs": [],
   "source": [
    "img_nums = []\n",
    "for i in range(1, 200):                        # the same range of images is selected\n",
    "    img_nums.append(i)"
   ]
  },
  {
   "cell_type": "markdown",
   "metadata": {},
   "source": [
    "<font size=\"3\">Finally, we obtain the <font color = \"green\">accuracy</font> and <font color = \"green\">inference time</font> results for each DNN separately from the database.</font>"
   ]
  },
  {
   "cell_type": "code",
   "execution_count": 16,
   "metadata": {
    "scrolled": true
   },
   "outputs": [
    {
     "name": "stdout",
     "output_type": "stream",
     "text": [
      "Mobilenet top-1 accuracy = 0.7286432160804021\n",
      "Mobilenet average inference time = 178.5678391959799\n",
      "Inception top-1 accuracy = 0.7437185929648241\n",
      "Inception average inference time = 953.6934673366834\n",
      "ResNet top-1 accuracy = 0.7386934673366834\n",
      "ResNet average inference time = 1258.211055276382\n"
     ]
    }
   ],
   "source": [
    "mobilenet_right = 0\n",
    "mobilenet_time = 0\n",
    "for i in range(len(img_nums)):                            # obtaining accuracy and inference time for each image\n",
    "    mobilenet_right = mobilenet_right + (database.get_model_top_n(\"inference\", img_nums[i], 'mobilenet_v1', n))\n",
    "    mobilenet_time = mobilenet_time + (database.get_model_time(\"inference\", img_nums[i], 'mobilenet_v1'))\n",
    "print(\"Mobilenet top-{} accuracy = {}\".format(n, mobilenet_right/len(img_nums)))          # accuracy over 20k images\n",
    "print(\"Mobilenet average inference time = {}\".format(mobilenet_time/len(img_nums)))   # average inference time over 20k images\n",
    "\n",
    "inception_right = 0\n",
    "inception_time = 0\n",
    "for i in range(len(img_nums)):\n",
    "    inception_right = inception_right + (database.get_model_top_n(\"inference\", img_nums[i], 'inception_v4', n))\n",
    "    inception_time = inception_time + (database.get_model_time(\"inference\", img_nums[i], 'inception_v4'))\n",
    "print(\"Inception top-{} accuracy = {}\".format(n, inception_right/len(img_nums)))\n",
    "print(\"Inception average inference time = {}\".format(inception_time/len(img_nums)))\n",
    "\n",
    "resnet_right = 0\n",
    "resnet_time = 0\n",
    "for i in range(len(img_nums)):\n",
    "    resnet_right = resnet_right + (database.get_model_top_n(\"inference\", img_nums[i], 'resnet_v1_152', n))\n",
    "    resnet_time = resnet_time + (database.get_model_time(\"inference\", img_nums[i], 'resnet_v1_152'))\n",
    "print(\"ResNet top-{} accuracy = {}\".format(n, resnet_right/len(img_nums)))\n",
    "print(\"ResNet average inference time = {}\".format(resnet_time/len(img_nums)))"
   ]
  },
  {
   "cell_type": "markdown",
   "metadata": {},
   "source": [
    "<font size=\"3\">Here, we plot the results for comparison.</font>"
   ]
  },
  {
   "cell_type": "code",
   "execution_count": 17,
   "metadata": {},
   "outputs": [],
   "source": [
    "import matplotlib.pyplot as plt"
   ]
  },
  {
   "cell_type": "code",
   "execution_count": 18,
   "metadata": {},
   "outputs": [
    {
     "name": "stderr",
     "output_type": "stream",
     "text": [
      "No handles with labels found to put in legend.\n"
     ]
    },
    {
     "data": {
      "text/plain": [
       "<matplotlib.legend.Legend at 0x28cf8539f28>"
      ]
     },
     "execution_count": 18,
     "metadata": {},
     "output_type": "execute_result"
    },
    {
     "data": {
      "image/png": "[encoded data removed]",
      "text/plain": [
       "<Figure size 432x288 with 1 Axes>"
      ]
     },
     "metadata": {
      "needs_background": "light"
     },
     "output_type": "display_data"
    }
   ],
   "source": [
    "model_names = ['Mobilenet', 'Inception', 'Resnet', 'Log reg prem', 'KNN prem', 'DT16 prem']\n",
    "accuracy = [mobilenet_right/len(img_nums), inception_right/len(img_nums),\n",
    "            resnet_right/len(img_nums), log_reg_accuracy, knn_accuracy, dt16_accuracy]\n",
    "\n",
    "for i in range(len(accuracy)):\n",
    "    accuracy[i] = accuracy[i]*100\n",
    "\n",
    "ypos = np.arange(len(model_names))\n",
    "\n",
    "plt.xticks(ypos, model_names)\n",
    "plt.ylabel(\"accuracy (%)\")\n",
    "plt.title(\"{} accuracy\".format(preference))\n",
    "plt.bar(ypos, accuracy)\n",
    "plt.ylim(top = 85)\n",
    "plt.ylim(bottom = 65)\n",
    "plt.legend()"
   ]
  },
  {
   "cell_type": "code",
   "execution_count": 19,
   "metadata": {},
   "outputs": [
    {
     "data": {
      "text/plain": [
       "<matplotlib.legend.Legend at 0x28cf8617400>"
      ]
     },
     "execution_count": 19,
     "metadata": {},
     "output_type": "execute_result"
    },
    {
     "data": {
      "image/png": "[encoded data removed]",
      "text/plain": [
       "<Figure size 432x288 with 1 Axes>"
      ]
     },
     "metadata": {
      "needs_background": "light"
     },
     "output_type": "display_data"
    }
   ],
   "source": [
    "times = [mobilenet_time/len(img_nums), inception_time/len(img_nums),\n",
    "         resnet_time/len(img_nums), log_reg_time, knn_time, dt16_time]\n",
    "times_premodel = [0, 0, 0, log_reg_premodel_overhead, knn_premodel_overhead, dt16_premodel_overhead]\n",
    "\n",
    "for i in range(len(times)):\n",
    "    times[i] = times[i]/1000\n",
    "\n",
    "for i in range(len(times_premodel)):\n",
    "    times_premodel[i] = times_premodel[i]/1000\n",
    "    \n",
    "plt.xticks(ypos, model_names)\n",
    "plt.ylabel(\"inference time (s)\")\n",
    "plt.title(\"Inference time\")\n",
    "plt.bar(ypos, times, label = \"Inference\")\n",
    "plt.bar(ypos, times_premodel, label = \"Premodel\")\n",
    "plt.legend()"
   ]
  },
  {
   "cell_type": "code",
   "execution_count": null,
   "metadata": {},
   "outputs": [],
   "source": []
  }
 ],
 "metadata": {
  "kernelspec": {
   "display_name": "esrg",
   "language": "python",
   "name": "esrg"
  },
  "language_info": {
   "codemirror_mode": {
    "name": "ipython",
    "version": 3
   },
   "file_extension": ".py",
   "mimetype": "text/x-python",
   "name": "python",
   "nbconvert_exporter": "python",
   "pygments_lexer": "ipython3",
   "version": "3.6.12"
  }
 },
 "nbformat": 4,
 "nbformat_minor": 4
}
