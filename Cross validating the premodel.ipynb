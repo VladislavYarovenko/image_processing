{
 "cells": [
  {
   "cell_type": "markdown",
   "metadata": {},
   "source": [
    "<font size=\"5\">**Cross validating the premodel**</font>\n",
    "<br /><br />\n",
    "<font size=\"3\">All the timings and accuracy values are taken from the <font color = \"green\">database</font>. The average premodel feature extraction and prediction time were calculated <font color = \"green\">separately</font> and added to premodel inference time.</font>\n",
    " "
   ]
  },
  {
   "cell_type": "markdown",
   "metadata": {},
   "source": [
    "<font size=\"3\">First, we import the necessary libraries and start the *image generator* class.</font>"
   ]
  },
  {
   "cell_type": "code",
   "execution_count": 116,
   "metadata": {},
   "outputs": [],
   "source": [
    "import warnings\n",
    "warnings.filterwarnings('ignore')\n",
    "import numpy as np\n",
    "import pandas as pd\n",
    "from sklearn import preprocessing, neighbors\n",
    "from sklearn.model_selection import cross_validate, train_test_split\n",
    "from sklearn.linear_model import LogisticRegression\n",
    "import premodel\n",
    "#!pip install --user imblearn\n",
    "from imblearn.over_sampling import SMOTE\n",
    "from sklearn.metrics import precision_recall_fscore_support\n",
    "import image_generator\n",
    "import database"
   ]
  },
  {
   "cell_type": "code",
   "execution_count": 117,
   "metadata": {
    "scrolled": true
   },
   "outputs": [
    {
     "name": "stdout",
     "output_type": "stream",
     "text": [
      "images/val/images\\ILSVRC2012_val_00005461.JPEG butcher shop, meat market\n",
      "images/val/images\\ILSVRC2012_val_00002882.JPEG Newfoundland, Newfoundland dog\n",
      "images/val/images\\ILSVRC2012_val_00007356.JPEG Lakeland terrier\n",
      "images/val/images\\ILSVRC2012_val_00001864.JPEG cradle\n",
      "images/val/images\\ILSVRC2012_val_00004263.JPEG toilet seat\n",
      "images/val/images\\ILSVRC2012_val_00014990.JPEG cinema, movie theater, movie theatre, movie house, picture palace\n",
      "images/val/images\\ILSVRC2012_val_00009890.JPEG rock python, rock snake, Python sebae\n",
      "images/val/images\\ILSVRC2012_val_00020849.JPEG scuba diver\n",
      "images/val/images\\ILSVRC2012_val_00043647.JPEG geyser\n",
      "images/val/images\\ILSVRC2012_val_00039710.JPEG lifeboat\n"
     ]
    }
   ],
   "source": [
    "image_generator.main()\n",
    "imgGen = image_generator.ImageGenerator('images/val/images', 'images/val/val.txt', 'images/val/synset_words.txt')\n",
    "label_list = imgGen.get_label_list()"
   ]
  },
  {
   "cell_type": "markdown",
   "metadata": {},
   "source": [
    "<font size=\"5\">**Running the premodel**</font>\n",
    "<br /><br />\n",
    "<font size=\"3\">We cross validate two premodels (<font color = \"green\">logistic regression</font> and <font color = \"green\">knn</font>) with <font color = \"green\">10-fold cross validation</font> on <font color = \"green\">20k</font> images. So, we obtain the <u>predicted models</u> for all <font color = \"green\">20k</font> images.</font>"
   ]
  },
  {
   "cell_type": "code",
   "execution_count": 118,
   "metadata": {},
   "outputs": [],
   "source": [
    "preference = 'Student'                # here, we select our csv file, Author or Student\n",
    "n = 1                          # 1 for top-1, 5 for top-5\n",
    "pre_model = premodel.Premodel(preference)"
   ]
  },
  {
   "cell_type": "code",
   "execution_count": 119,
   "metadata": {
    "scrolled": true
   },
   "outputs": [],
   "source": [
    "output_log_reg = pre_model.prototype(4999, ([('log_reg', 'log_reg', 'log_reg')]))  # logistic regression premodel"
   ]
  },
  {
   "cell_type": "code",
   "execution_count": 120,
   "metadata": {},
   "outputs": [],
   "source": [
    "output_knn = pre_model.prototype(4999, ([('nn', 'nn', 'nn')]))      # knn premodel"
   ]
  },
  {
   "cell_type": "code",
   "execution_count": 121,
   "metadata": {
    "scrolled": true
   },
   "outputs": [],
   "source": [
    "output_dt16 = pre_model.prototype(4999, ([('dt16', 'dt16', 'dt16')]))      # dt16 premodel"
   ]
  },
  {
   "cell_type": "code",
   "execution_count": 122,
   "metadata": {},
   "outputs": [],
   "source": [
    "output_nb = pre_model.prototype(4999, ([('nb', 'nb', 'nb')]))      # nb premodel"
   ]
  },
  {
   "cell_type": "markdown",
   "metadata": {},
   "source": [
    "<font size=\"5\">**Testing the accuracy of the premodel**</font>\n",
    "<br /><br />\n",
    "<font size=\"3\">First, we extract the predicted models for the 20k images for both <font color = \"green\">logistic regression</font> and <font color = \"green\">knn</font> premodels.</font>"
   ]
  },
  {
   "cell_type": "code",
   "execution_count": 123,
   "metadata": {},
   "outputs": [],
   "source": [
    "def img_num_from_name(img_name):          # obtaining the image number from image name\n",
    "    ext = []\n",
    "    for i in range(len(img_name)):\n",
    "        if i > 14 and i < 23:\n",
    "            ext.append(img_name[i])\n",
    "    j = 0\n",
    "    for i in range(len(ext)):\n",
    "        if ext[i] == '0':\n",
    "            j = j + 1\n",
    "        if ext[i] != '0':\n",
    "            break\n",
    "    rightNum = []\n",
    "    for i in range(j, len(ext)):\n",
    "        rightNum.append(ext[i])\n",
    "    rightNum = ''.join(rightNum)\n",
    "    rightNum = int(rightNum)\n",
    "    return rightNum\n",
    "\n",
    "\n",
    "predicted_models_log_reg = []                              # models predicted by logistic regression premodel\n",
    "for i in range(10):\n",
    "    for j in range(len(output_log_reg[5][i][1][0])):\n",
    "        img_paths = (output_log_reg[5][i][1][0][j][0])\n",
    "        img_nums = (img_num_from_name(img_paths))\n",
    "        if output_log_reg[5][i][1][0][j][4] == 'tf-mobilenet_v1' and output_log_reg[5][i][1][0][j][3] == 1:\n",
    "            predicted_models_log_reg.append([img_nums, 'mobilenet_v1'])\n",
    "        elif output_log_reg[5][i][1][0][j][4] == 'tf-inception_v4' and output_log_reg[5][i][1][0][j][3] == 2:\n",
    "            predicted_models_log_reg.append([img_nums, 'inception_v4'])\n",
    "        elif output_log_reg[5][i][1][0][j][4] == 'tf-resnet_v1_152' and output_log_reg[5][i][1][0][j][3] == 3:\n",
    "            predicted_models_log_reg.append([img_nums, 'resnet_v1_152'])\n",
    "        elif output_log_reg[5][i][1][0][j][4] == 'failed':\n",
    "            predicted_models_log_reg.append([img_nums, 'failed'])\n",
    "        \n",
    "\n",
    "predicted_models_knn = []                                    # models predicted by knn premodel            \n",
    "for i in range(10):\n",
    "    for j in range(len(output_knn[5][i][1][0])):\n",
    "        img_paths = (output_knn[5][i][1][0][j][0])\n",
    "        img_nums = (img_num_from_name(img_paths))\n",
    "        if output_knn[5][i][1][0][j][4] == 'tf-mobilenet_v1' and output_knn[5][i][1][0][j][3] == 1:\n",
    "            predicted_models_knn.append([img_nums, 'mobilenet_v1'])\n",
    "        elif output_knn[5][i][1][0][j][4] == 'tf-inception_v4' and output_knn[5][i][1][0][j][3] == 2:\n",
    "            predicted_models_knn.append([img_nums, 'inception_v4'])\n",
    "        elif output_knn[5][i][1][0][j][4] == 'tf-resnet_v1_152' and output_knn[5][i][1][0][j][3] == 3:\n",
    "            predicted_models_knn.append([img_nums, 'resnet_v1_152'])\n",
    "        elif output_knn[5][i][1][0][j][4] == 'failed':\n",
    "            predicted_models_knn.append([img_nums, 'failed'])"
   ]
  },
  {
   "cell_type": "code",
   "execution_count": 124,
   "metadata": {},
   "outputs": [],
   "source": [
    "predicted_models_dt16 = []                                    # models predicted by dt16 premodel            \n",
    "for i in range(10):\n",
    "    for j in range(len(output_dt16[5][i][1][0])):\n",
    "        img_paths = (output_dt16[5][i][1][0][j][0])\n",
    "        img_nums = (img_num_from_name(img_paths))\n",
    "        if output_dt16[5][i][1][0][j][4] == 'tf-mobilenet_v1' and output_dt16[5][i][1][0][j][3] == 1:\n",
    "            predicted_models_dt16.append([img_nums, 'mobilenet_v1'])\n",
    "        elif output_dt16[5][i][1][0][j][4] == 'tf-inception_v4' and output_dt16[5][i][1][0][j][3] == 2:\n",
    "            predicted_models_dt16.append([img_nums, 'inception_v4'])\n",
    "        elif output_dt16[5][i][1][0][j][4] == 'tf-resnet_v1_152' and output_dt16[5][i][1][0][j][3] == 3:\n",
    "            predicted_models_dt16.append([img_nums, 'resnet_v1_152'])\n",
    "        elif output_dt16[5][i][1][0][j][4] == 'failed':\n",
    "            predicted_models_dt16.append([img_nums, 'failed'])"
   ]
  },
  {
   "cell_type": "code",
   "execution_count": 125,
   "metadata": {},
   "outputs": [],
   "source": [
    "predicted_models_nb = []                                    # models predicted by nb premodel            \n",
    "for i in range(10):\n",
    "    for j in range(len(output_nb[5][i][1][0])):\n",
    "        img_paths = (output_nb[5][i][1][0][j][0])\n",
    "        img_nums = (img_num_from_name(img_paths))\n",
    "        if output_nb[5][i][1][0][j][4] == 'tf-mobilenet_v1' and output_nb[5][i][1][0][j][3] == 1:\n",
    "            predicted_models_nb.append([img_nums, 'mobilenet_v1'])\n",
    "        elif output_nb[5][i][1][0][j][4] == 'tf-inception_v4' and output_nb[5][i][1][0][j][3] == 2:\n",
    "            predicted_models_nb.append([img_nums, 'inception_v4'])\n",
    "        elif output_nb[5][i][1][0][j][4] == 'tf-resnet_v1_152' and output_nb[5][i][1][0][j][3] == 3:\n",
    "            predicted_models_nb.append([img_nums, 'resnet_v1_152'])\n",
    "        elif output_nb[5][i][1][0][j][4] == 'failed':\n",
    "            predicted_models_nb.append([img_nums, 'failed'])"
   ]
  },
  {
   "cell_type": "code",
   "execution_count": 126,
   "metadata": {},
   "outputs": [
    {
     "name": "stdout",
     "output_type": "stream",
     "text": [
      "4999\n"
     ]
    }
   ],
   "source": [
    "print(len(predicted_models_log_reg))"
   ]
  },
  {
   "cell_type": "code",
   "execution_count": 127,
   "metadata": {},
   "outputs": [
    {
     "name": "stdout",
     "output_type": "stream",
     "text": [
      "4999\n"
     ]
    }
   ],
   "source": [
    "print(len(predicted_models_knn))"
   ]
  },
  {
   "cell_type": "code",
   "execution_count": 128,
   "metadata": {},
   "outputs": [
    {
     "name": "stdout",
     "output_type": "stream",
     "text": [
      "4999\n"
     ]
    }
   ],
   "source": [
    "print(len(predicted_models_dt16))"
   ]
  },
  {
   "cell_type": "code",
   "execution_count": 129,
   "metadata": {},
   "outputs": [
    {
     "name": "stdout",
     "output_type": "stream",
     "text": [
      "4999\n"
     ]
    }
   ],
   "source": [
    "print(len(predicted_models_nb))"
   ]
  },
  {
   "cell_type": "markdown",
   "metadata": {},
   "source": [
    "<font size=\"3\">Now, we obtain the <font color = \"green\">accuracy</font> and <font color = \"green\">inference time</font> results of the predicted models from the database.</font>"
   ]
  },
  {
   "cell_type": "code",
   "execution_count": 130,
   "metadata": {},
   "outputs": [
    {
     "name": "stdout",
     "output_type": "stream",
     "text": [
      "Logistic regression premodel accuracy = 0.7677535507101421\n",
      "Logistic regression premodel average inference time = 541.9984492307692\n"
     ]
    }
   ],
   "source": [
    "accuracy_premodel = 0\n",
    "time_premodel = 0\n",
    "times = 0\n",
    "log_reg_premodel_overhead = 42.39268                                      # average logistic regression premodel overhead\n",
    "\n",
    "for i in range(len(predicted_models_log_reg)):\n",
    "    if predicted_models_log_reg[i][1] != 'failed':\n",
    "        times = times + 1                          # get_model_top_n (next line), where n is 1 or 5\n",
    "        accuracy_premodel = accuracy_premodel + (database.get_model_top_n(\"inference\", predicted_models_log_reg[i][0], predicted_models_log_reg[i][1], n))\n",
    "        time_premodel = time_premodel + (database.get_model_time(\"inference\", predicted_models_log_reg[i][0], predicted_models_log_reg[i][1]))\n",
    "\n",
    "log_reg_accuracy = accuracy_premodel/len(predicted_models_log_reg)               # logistic regression premodel accuracy\n",
    "log_reg_time = (time_premodel/times) + log_reg_premodel_overhead                 # logistic regression premodel inference time       \n",
    "print(\"Logistic regression premodel accuracy = {}\".format(log_reg_accuracy))\n",
    "print(\"Logistic regression premodel average inference time = {}\".format(log_reg_time))"
   ]
  },
  {
   "cell_type": "code",
   "execution_count": 131,
   "metadata": {},
   "outputs": [],
   "source": [
    "# accuracy_premodel = 0\n",
    "# time_premodel = 0\n",
    "# times = 0\n",
    "# knn_premodel_overhead = 43.00882                                           # average knn premodel overhead\n",
    "\n",
    "# for i in range(len(predicted_models_knn)):\n",
    "#     if predicted_models_knn[i][1] != 'failed':\n",
    "#         times = times + 1                           # get_model_top_n (next line), where n is 1 or 5\n",
    "#         accuracy_premodel = accuracy_premodel + (database.get_model_top_n(\"inference\", predicted_models_knn[i][0], predicted_models_knn[i][1], n))\n",
    "#         time_premodel = time_premodel + (database.get_model_time(\"inference\", predicted_models_knn[i][0], predicted_models_knn[i][1]))\n",
    "\n",
    "# knn_accuracy = accuracy_premodel/len(predicted_models_knn)                        # knn premodel accuracy\n",
    "# knn_time = (time_premodel/times) + knn_premodel_overhead                             # knnn premodel inference time\n",
    "# print(\"KNN premodel accuracy = {}\".format(knn_accuracy))\n",
    "# print(\"KNN premodel average inference time = {}\".format(knn_time))"
   ]
  },
  {
   "cell_type": "code",
   "execution_count": 132,
   "metadata": {},
   "outputs": [
    {
     "name": "stdout",
     "output_type": "stream",
     "text": [
      "DT16 premodel accuracy = 0.7563512702540508\n",
      "DT16 premodel average inference time = 563.9774116919959\n"
     ]
    }
   ],
   "source": [
    "accuracy_premodel = 0\n",
    "time_premodel = 0\n",
    "times = 0\n",
    "dt16_premodel_overhead = 43.00882                                           # average dt16 premodel overhead\n",
    "\n",
    "for i in range(len(predicted_models_dt16)):\n",
    "    if predicted_models_dt16[i][1] != 'failed':\n",
    "        times = times + 1                           # get_model_top_n (next line), where n is 1 or 5\n",
    "        accuracy_premodel = accuracy_premodel + (database.get_model_top_n(\"inference\", predicted_models_dt16[i][0], predicted_models_dt16[i][1], n))\n",
    "        time_premodel = time_premodel + (database.get_model_time(\"inference\", predicted_models_dt16[i][0], predicted_models_dt16[i][1]))\n",
    "\n",
    "dt16_accuracy = accuracy_premodel/len(predicted_models_dt16)                        # dt16 premodel accuracy\n",
    "dt16_time = (time_premodel/times) + dt16_premodel_overhead                             # dt16 premodel inference time\n",
    "print(\"DT16 premodel accuracy = {}\".format(dt16_accuracy))\n",
    "print(\"DT16 premodel average inference time = {}\".format(dt16_time))"
   ]
  },
  {
   "cell_type": "markdown",
   "metadata": {},
   "source": [
    "<font size=\"5\">**Comparing the results to MobileNet, Inception and ResNet**</font>\n",
    "<br /><br />\n",
    "<font size=\"3\">We start by getting the <font color = \"green\">image numbers</font> of the 20k images.</font>"
   ]
  },
  {
   "cell_type": "code",
   "execution_count": 133,
   "metadata": {},
   "outputs": [],
   "source": [
    "# accuracy_premodel = 0\n",
    "# time_premodel = 0\n",
    "# times = 0\n",
    "# nb_premodel_overhead = 43.00882                                           # average nb premodel overhead\n",
    "\n",
    "# for i in range(len(predicted_models_nb)):\n",
    "#     if predicted_models_nb[i][1] != 'failed':\n",
    "#         times = times + 1                           # get_model_top_n (next line), where n is 1 or 5\n",
    "#         accuracy_premodel = accuracy_premodel + (database.get_model_top_n(\"inference\", predicted_models_nb[i][0], predicted_models_nb[i][1], n))\n",
    "#         time_premodel = time_premodel + (database.get_model_time(\"inference\", predicted_models_nb[i][0], predicted_models_nb[i][1]))\n",
    "\n",
    "# nb_accuracy = accuracy_premodel/len(predicted_models_nb)                        # nb premodel accuracy\n",
    "# nb_time = (time_premodel/times) + nb_premodel_overhead                             # nb premodel inference time\n",
    "# print(\"NB premodel accuracy = {}\".format(nb_accuracy))\n",
    "# print(\"NB premodel average inference time = {}\".format(nb_time))"
   ]
  },
  {
   "cell_type": "code",
   "execution_count": 134,
   "metadata": {},
   "outputs": [],
   "source": [
    "img_nums = []\n",
    "for i in range(1, 4999):                        # the same range of images is selected\n",
    "    img_nums.append(i)"
   ]
  },
  {
   "cell_type": "markdown",
   "metadata": {},
   "source": [
    "<font size=\"3\">Finally, we obtain the <font color = \"green\">accuracy</font> and <font color = \"green\">inference time</font> results for each DNN separately from the database.</font>"
   ]
  },
  {
   "cell_type": "code",
   "execution_count": 20,
   "metadata": {
    "scrolled": true
   },
   "outputs": [
    {
     "name": "stdout",
     "output_type": "stream",
     "text": [
      "Mobilenet top-1 accuracy = 0.720688275310124\n",
      "Mobilenet average inference time = 155.14645858343337\n",
      "Inception top-1 accuracy = 0.7985194077631053\n",
      "Inception average inference time = 727.6622649059624\n",
      "ResNet top-1 accuracy = 0.7743097238895558\n",
      "ResNet average inference time = 968.4637855142057\n"
     ]
    }
   ],
   "source": [
    "mobilenet_right = 0\n",
    "mobilenet_time = 0\n",
    "for i in range(len(img_nums)):                            # obtaining accuracy and inference time for each image\n",
    "    mobilenet_right = mobilenet_right + (database.get_model_top_n(\"inference\", img_nums[i], 'mobilenet_v1', n))\n",
    "    mobilenet_time = mobilenet_time + (database.get_model_time(\"inference\", img_nums[i], 'mobilenet_v1'))\n",
    "print(\"Mobilenet top-{} accuracy = {}\".format(n, mobilenet_right/len(img_nums)))          # accuracy over 20k images\n",
    "print(\"Mobilenet average inference time = {}\".format(mobilenet_time/len(img_nums)))   # average inference time over 20k images\n",
    "\n",
    "inception_right = 0\n",
    "inception_time = 0\n",
    "for i in range(len(img_nums)):\n",
    "    inception_right = inception_right + (database.get_model_top_n(\"inference\", img_nums[i], 'inception_v4', n))\n",
    "    inception_time = inception_time + (database.get_model_time(\"inference\", img_nums[i], 'inception_v4'))\n",
    "print(\"Inception top-{} accuracy = {}\".format(n, inception_right/len(img_nums)))\n",
    "print(\"Inception average inference time = {}\".format(inception_time/len(img_nums)))\n",
    "\n",
    "resnet_right = 0\n",
    "resnet_time = 0\n",
    "for i in range(len(img_nums)):\n",
    "    resnet_right = resnet_right + (database.get_model_top_n(\"inference\", img_nums[i], 'resnet_v1_152', n))\n",
    "    resnet_time = resnet_time + (database.get_model_time(\"inference\", img_nums[i], 'resnet_v1_152'))\n",
    "print(\"ResNet top-{} accuracy = {}\".format(n, resnet_right/len(img_nums)))\n",
    "print(\"ResNet average inference time = {}\".format(resnet_time/len(img_nums)))"
   ]
  },
  {
   "cell_type": "markdown",
   "metadata": {},
   "source": [
    "<font size=\"3\">Here, we plot the results for comparison.</font>"
   ]
  },
  {
   "cell_type": "code",
   "execution_count": 135,
   "metadata": {},
   "outputs": [],
   "source": [
    "import matplotlib.pyplot as plt"
   ]
  },
  {
   "cell_type": "code",
   "execution_count": 136,
   "metadata": {},
   "outputs": [
    {
     "name": "stderr",
     "output_type": "stream",
     "text": [
      "No handles with labels found to put in legend.\n"
     ]
    },
    {
     "data": {
      "text/plain": [
       "<matplotlib.legend.Legend at 0x27461034710>"
      ]
     },
     "execution_count": 136,
     "metadata": {},
     "output_type": "execute_result"
    },
    {
     "data": {
      "image/png": "[encoded data removed]",
      "text/plain": [
       "<Figure size 432x288 with 1 Axes>"
      ]
     },
     "metadata": {
      "needs_background": "light"
     },
     "output_type": "display_data"
    }
   ],
   "source": [
    "# model_names = ['Mobilenet', 'Inception', 'Resnet', 'LR', 'DT16']\n",
    "# accuracy = [mobilenet_right/len(img_nums), inception_right/len(img_nums),\n",
    "#             resnet_right/len(img_nums), log_reg_accuracy, dt16_accuracy]\n",
    "\n",
    "model_names = ['LR', 'DT16']\n",
    "accuracy = [log_reg_accuracy, dt16_accuracy]\n",
    "\n",
    "#model_names = ['Mobilenet', 'Inception', 'Resnet', 'LR', 'KNN', 'DT16', 'NB']\n",
    "# accuracy = [mobilenet_right/len(img_nums), inception_right/len(img_nums),\n",
    "#             resnet_right/len(img_nums), log_reg_accuracy, knn_accuracy, dt16_accuracy, nb_accuracy]\n",
    "\n",
    "for i in range(len(accuracy)):\n",
    "    accuracy[i] = accuracy[i]*100\n",
    "\n",
    "ypos = np.arange(len(model_names))\n",
    "\n",
    "plt.xticks(ypos, model_names)\n",
    "plt.ylabel(\"accuracy (%)\")\n",
    "plt.title(\"{} accuracy\".format(\"Top-1\"))\n",
    "plt.bar(ypos, accuracy)\n",
    "plt.ylim(top = 85)\n",
    "plt.ylim(bottom = 20)\n",
    "plt.legend()"
   ]
  },
  {
   "cell_type": "code",
   "execution_count": 137,
   "metadata": {
    "scrolled": true
   },
   "outputs": [
    {
     "ename": "ValueError",
     "evalue": "shape mismatch: objects cannot be broadcast to a single shape",
     "output_type": "error",
     "traceback": [
      "\u001b[1;31m---------------------------------------------------------------------------\u001b[0m",
      "\u001b[1;31mValueError\u001b[0m                                Traceback (most recent call last)",
      "\u001b[1;32m<ipython-input-137-a09f4e3c8004>\u001b[0m in \u001b[0;36m<module>\u001b[1;34m\u001b[0m\n\u001b[0;32m     20\u001b[0m \u001b[0mplt\u001b[0m\u001b[1;33m.\u001b[0m\u001b[0mtitle\u001b[0m\u001b[1;33m(\u001b[0m\u001b[1;34m\"Inference time\"\u001b[0m\u001b[1;33m)\u001b[0m\u001b[1;33m\u001b[0m\u001b[1;33m\u001b[0m\u001b[0m\n\u001b[0;32m     21\u001b[0m \u001b[0mplt\u001b[0m\u001b[1;33m.\u001b[0m\u001b[0mbar\u001b[0m\u001b[1;33m(\u001b[0m\u001b[0mypos\u001b[0m\u001b[1;33m,\u001b[0m \u001b[0mtimes\u001b[0m\u001b[1;33m,\u001b[0m \u001b[0mlabel\u001b[0m \u001b[1;33m=\u001b[0m \u001b[1;34m\"Inference\"\u001b[0m\u001b[1;33m)\u001b[0m\u001b[1;33m\u001b[0m\u001b[1;33m\u001b[0m\u001b[0m\n\u001b[1;32m---> 22\u001b[1;33m \u001b[0mplt\u001b[0m\u001b[1;33m.\u001b[0m\u001b[0mbar\u001b[0m\u001b[1;33m(\u001b[0m\u001b[0mypos\u001b[0m\u001b[1;33m,\u001b[0m \u001b[0mtimes_premodel\u001b[0m\u001b[1;33m,\u001b[0m \u001b[0mlabel\u001b[0m \u001b[1;33m=\u001b[0m \u001b[1;34m\"Premodel\"\u001b[0m\u001b[1;33m)\u001b[0m\u001b[1;33m\u001b[0m\u001b[1;33m\u001b[0m\u001b[0m\n\u001b[0m\u001b[0;32m     23\u001b[0m \u001b[0mplt\u001b[0m\u001b[1;33m.\u001b[0m\u001b[0mlegend\u001b[0m\u001b[1;33m(\u001b[0m\u001b[1;33m)\u001b[0m\u001b[1;33m\u001b[0m\u001b[1;33m\u001b[0m\u001b[0m\n",
      "\u001b[1;32m~\\miniconda3\\envs\\esrg\\lib\\site-packages\\matplotlib\\pyplot.py\u001b[0m in \u001b[0;36mbar\u001b[1;34m(x, height, width, bottom, align, data, **kwargs)\u001b[0m\n\u001b[0;32m   2487\u001b[0m     return gca().bar(\n\u001b[0;32m   2488\u001b[0m         \u001b[0mx\u001b[0m\u001b[1;33m,\u001b[0m \u001b[0mheight\u001b[0m\u001b[1;33m,\u001b[0m \u001b[0mwidth\u001b[0m\u001b[1;33m=\u001b[0m\u001b[0mwidth\u001b[0m\u001b[1;33m,\u001b[0m \u001b[0mbottom\u001b[0m\u001b[1;33m=\u001b[0m\u001b[0mbottom\u001b[0m\u001b[1;33m,\u001b[0m \u001b[0malign\u001b[0m\u001b[1;33m=\u001b[0m\u001b[0malign\u001b[0m\u001b[1;33m,\u001b[0m\u001b[1;33m\u001b[0m\u001b[1;33m\u001b[0m\u001b[0m\n\u001b[1;32m-> 2489\u001b[1;33m         **({\"data\": data} if data is not None else {}), **kwargs)\n\u001b[0m\u001b[0;32m   2490\u001b[0m \u001b[1;33m\u001b[0m\u001b[0m\n\u001b[0;32m   2491\u001b[0m \u001b[1;33m\u001b[0m\u001b[0m\n",
      "\u001b[1;32m~\\miniconda3\\envs\\esrg\\lib\\site-packages\\matplotlib\\__init__.py\u001b[0m in \u001b[0;36minner\u001b[1;34m(ax, data, *args, **kwargs)\u001b[0m\n\u001b[0;32m   1445\u001b[0m     \u001b[1;32mdef\u001b[0m \u001b[0minner\u001b[0m\u001b[1;33m(\u001b[0m\u001b[0max\u001b[0m\u001b[1;33m,\u001b[0m \u001b[1;33m*\u001b[0m\u001b[0margs\u001b[0m\u001b[1;33m,\u001b[0m \u001b[0mdata\u001b[0m\u001b[1;33m=\u001b[0m\u001b[1;32mNone\u001b[0m\u001b[1;33m,\u001b[0m \u001b[1;33m**\u001b[0m\u001b[0mkwargs\u001b[0m\u001b[1;33m)\u001b[0m\u001b[1;33m:\u001b[0m\u001b[1;33m\u001b[0m\u001b[1;33m\u001b[0m\u001b[0m\n\u001b[0;32m   1446\u001b[0m         \u001b[1;32mif\u001b[0m \u001b[0mdata\u001b[0m \u001b[1;32mis\u001b[0m \u001b[1;32mNone\u001b[0m\u001b[1;33m:\u001b[0m\u001b[1;33m\u001b[0m\u001b[1;33m\u001b[0m\u001b[0m\n\u001b[1;32m-> 1447\u001b[1;33m             \u001b[1;32mreturn\u001b[0m \u001b[0mfunc\u001b[0m\u001b[1;33m(\u001b[0m\u001b[0max\u001b[0m\u001b[1;33m,\u001b[0m \u001b[1;33m*\u001b[0m\u001b[0mmap\u001b[0m\u001b[1;33m(\u001b[0m\u001b[0msanitize_sequence\u001b[0m\u001b[1;33m,\u001b[0m \u001b[0margs\u001b[0m\u001b[1;33m)\u001b[0m\u001b[1;33m,\u001b[0m \u001b[1;33m**\u001b[0m\u001b[0mkwargs\u001b[0m\u001b[1;33m)\u001b[0m\u001b[1;33m\u001b[0m\u001b[1;33m\u001b[0m\u001b[0m\n\u001b[0m\u001b[0;32m   1448\u001b[0m \u001b[1;33m\u001b[0m\u001b[0m\n\u001b[0;32m   1449\u001b[0m         \u001b[0mbound\u001b[0m \u001b[1;33m=\u001b[0m \u001b[0mnew_sig\u001b[0m\u001b[1;33m.\u001b[0m\u001b[0mbind\u001b[0m\u001b[1;33m(\u001b[0m\u001b[0max\u001b[0m\u001b[1;33m,\u001b[0m \u001b[1;33m*\u001b[0m\u001b[0margs\u001b[0m\u001b[1;33m,\u001b[0m \u001b[1;33m**\u001b[0m\u001b[0mkwargs\u001b[0m\u001b[1;33m)\u001b[0m\u001b[1;33m\u001b[0m\u001b[1;33m\u001b[0m\u001b[0m\n",
      "\u001b[1;32m~\\miniconda3\\envs\\esrg\\lib\\site-packages\\matplotlib\\axes\\_axes.py\u001b[0m in \u001b[0;36mbar\u001b[1;34m(self, x, height, width, bottom, align, **kwargs)\u001b[0m\n\u001b[0;32m   2430\u001b[0m         x, height, width, y, linewidth = np.broadcast_arrays(\n\u001b[0;32m   2431\u001b[0m             \u001b[1;31m# Make args iterable too.\u001b[0m\u001b[1;33m\u001b[0m\u001b[1;33m\u001b[0m\u001b[1;33m\u001b[0m\u001b[0m\n\u001b[1;32m-> 2432\u001b[1;33m             np.atleast_1d(x), height, width, y, linewidth)\n\u001b[0m\u001b[0;32m   2433\u001b[0m \u001b[1;33m\u001b[0m\u001b[0m\n\u001b[0;32m   2434\u001b[0m         \u001b[1;31m# Now that units have been converted, set the tick locations.\u001b[0m\u001b[1;33m\u001b[0m\u001b[1;33m\u001b[0m\u001b[1;33m\u001b[0m\u001b[0m\n",
      "\u001b[1;32m<__array_function__ internals>\u001b[0m in \u001b[0;36mbroadcast_arrays\u001b[1;34m(*args, **kwargs)\u001b[0m\n",
      "\u001b[1;32m~\\miniconda3\\envs\\esrg\\lib\\site-packages\\numpy\\lib\\stride_tricks.py\u001b[0m in \u001b[0;36mbroadcast_arrays\u001b[1;34m(subok, *args)\u001b[0m\n\u001b[0;32m    256\u001b[0m     \u001b[0margs\u001b[0m \u001b[1;33m=\u001b[0m \u001b[1;33m[\u001b[0m\u001b[0mnp\u001b[0m\u001b[1;33m.\u001b[0m\u001b[0marray\u001b[0m\u001b[1;33m(\u001b[0m\u001b[0m_m\u001b[0m\u001b[1;33m,\u001b[0m \u001b[0mcopy\u001b[0m\u001b[1;33m=\u001b[0m\u001b[1;32mFalse\u001b[0m\u001b[1;33m,\u001b[0m \u001b[0msubok\u001b[0m\u001b[1;33m=\u001b[0m\u001b[0msubok\u001b[0m\u001b[1;33m)\u001b[0m \u001b[1;32mfor\u001b[0m \u001b[0m_m\u001b[0m \u001b[1;32min\u001b[0m \u001b[0margs\u001b[0m\u001b[1;33m]\u001b[0m\u001b[1;33m\u001b[0m\u001b[1;33m\u001b[0m\u001b[0m\n\u001b[0;32m    257\u001b[0m \u001b[1;33m\u001b[0m\u001b[0m\n\u001b[1;32m--> 258\u001b[1;33m     \u001b[0mshape\u001b[0m \u001b[1;33m=\u001b[0m \u001b[0m_broadcast_shape\u001b[0m\u001b[1;33m(\u001b[0m\u001b[1;33m*\u001b[0m\u001b[0margs\u001b[0m\u001b[1;33m)\u001b[0m\u001b[1;33m\u001b[0m\u001b[1;33m\u001b[0m\u001b[0m\n\u001b[0m\u001b[0;32m    259\u001b[0m \u001b[1;33m\u001b[0m\u001b[0m\n\u001b[0;32m    260\u001b[0m     \u001b[1;32mif\u001b[0m \u001b[0mall\u001b[0m\u001b[1;33m(\u001b[0m\u001b[0marray\u001b[0m\u001b[1;33m.\u001b[0m\u001b[0mshape\u001b[0m \u001b[1;33m==\u001b[0m \u001b[0mshape\u001b[0m \u001b[1;32mfor\u001b[0m \u001b[0marray\u001b[0m \u001b[1;32min\u001b[0m \u001b[0margs\u001b[0m\u001b[1;33m)\u001b[0m\u001b[1;33m:\u001b[0m\u001b[1;33m\u001b[0m\u001b[1;33m\u001b[0m\u001b[0m\n",
      "\u001b[1;32m~\\miniconda3\\envs\\esrg\\lib\\site-packages\\numpy\\lib\\stride_tricks.py\u001b[0m in \u001b[0;36m_broadcast_shape\u001b[1;34m(*args)\u001b[0m\n\u001b[0;32m    187\u001b[0m     \u001b[1;31m# use the old-iterator because np.nditer does not handle size 0 arrays\u001b[0m\u001b[1;33m\u001b[0m\u001b[1;33m\u001b[0m\u001b[1;33m\u001b[0m\u001b[0m\n\u001b[0;32m    188\u001b[0m     \u001b[1;31m# consistently\u001b[0m\u001b[1;33m\u001b[0m\u001b[1;33m\u001b[0m\u001b[1;33m\u001b[0m\u001b[0m\n\u001b[1;32m--> 189\u001b[1;33m     \u001b[0mb\u001b[0m \u001b[1;33m=\u001b[0m \u001b[0mnp\u001b[0m\u001b[1;33m.\u001b[0m\u001b[0mbroadcast\u001b[0m\u001b[1;33m(\u001b[0m\u001b[1;33m*\u001b[0m\u001b[0margs\u001b[0m\u001b[1;33m[\u001b[0m\u001b[1;33m:\u001b[0m\u001b[1;36m32\u001b[0m\u001b[1;33m]\u001b[0m\u001b[1;33m)\u001b[0m\u001b[1;33m\u001b[0m\u001b[1;33m\u001b[0m\u001b[0m\n\u001b[0m\u001b[0;32m    190\u001b[0m     \u001b[1;31m# unfortunately, it cannot handle 32 or more arguments directly\u001b[0m\u001b[1;33m\u001b[0m\u001b[1;33m\u001b[0m\u001b[1;33m\u001b[0m\u001b[0m\n\u001b[0;32m    191\u001b[0m     \u001b[1;32mfor\u001b[0m \u001b[0mpos\u001b[0m \u001b[1;32min\u001b[0m \u001b[0mrange\u001b[0m\u001b[1;33m(\u001b[0m\u001b[1;36m32\u001b[0m\u001b[1;33m,\u001b[0m \u001b[0mlen\u001b[0m\u001b[1;33m(\u001b[0m\u001b[0margs\u001b[0m\u001b[1;33m)\u001b[0m\u001b[1;33m,\u001b[0m \u001b[1;36m31\u001b[0m\u001b[1;33m)\u001b[0m\u001b[1;33m:\u001b[0m\u001b[1;33m\u001b[0m\u001b[1;33m\u001b[0m\u001b[0m\n",
      "\u001b[1;31mValueError\u001b[0m: shape mismatch: objects cannot be broadcast to a single shape"
     ]
    },
    {
     "data": {
      "image/png": "[encoded data removed]",
      "text/plain": [
       "<Figure size 432x288 with 1 Axes>"
      ]
     },
     "metadata": {
      "needs_background": "light"
     },
     "output_type": "display_data"
    }
   ],
   "source": [
    "# times = [mobilenet_time/len(img_nums), inception_time/len(img_nums),\n",
    "#          resnet_time/len(img_nums), log_reg_time, dt16_time]\n",
    "# times_premodel = [0, 0, 0,  log_reg_premodel_overhead, dt16_premodel_overhead]\n",
    "\n",
    "times = [log_reg_time, dt16_time]\n",
    "times_premodel = [0, 0, 0,  log_reg_premodel_overhead, dt16_premodel_overhead]\n",
    "\n",
    "# times = [mobilenet_time/len(img_nums), inception_time/len(img_nums),\n",
    "#          resnet_time/len(img_nums), log_reg_time, knn_time, dt16_time, nb_time]\n",
    "# times_premodel = [0, 0, 0, log_reg_premodel_overhead, knn_premodel_overhead, dt16_premodel_overhead, nb_premodel_overhead]\n",
    "\n",
    "for i in range(len(times)):\n",
    "    times[i] = times[i]/1000\n",
    "\n",
    "for i in range(len(times_premodel)):\n",
    "    times_premodel[i] = times_premodel[i]/1000\n",
    "    \n",
    "plt.xticks(ypos, model_names)\n",
    "plt.ylabel(\"inference time (s)\")\n",
    "plt.title(\"Inference time\")\n",
    "plt.bar(ypos, times, label = \"Inference\")\n",
    "plt.bar(ypos, times_premodel, label = \"Premodel\")\n",
    "plt.legend()"
   ]
  },
  {
   "cell_type": "code",
   "execution_count": 138,
   "metadata": {},
   "outputs": [],
   "source": [
    "columns = ['MobileNet', 'Inception', 'Resnet', 'Log-Reg', 'KNN', 'DT16', 'NB']\n",
    "rows = ['Top-1 accuracy, %', 'Avg inference time, s']"
   ]
  },
  {
   "cell_type": "code",
   "execution_count": null,
   "metadata": {},
   "outputs": [],
   "source": []
  }
 ],
 "metadata": {
  "kernelspec": {
   "display_name": "esrg",
   "language": "python",
   "name": "esrg"
  },
  "language_info": {
   "codemirror_mode": {
    "name": "ipython",
    "version": 3
   },
   "file_extension": ".py",
   "mimetype": "text/x-python",
   "name": "python",
   "nbconvert_exporter": "python",
   "pygments_lexer": "ipython3",
   "version": "3.6.12"
  }
 },
 "nbformat": 4,
 "nbformat_minor": 4
}
