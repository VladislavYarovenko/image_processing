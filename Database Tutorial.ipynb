{
 "cells": [
  {
   "cell_type": "code",
   "execution_count": 1,
   "metadata": {
    "scrolled": true
   },
   "outputs": [
    {
     "name": "stdout",
     "output_type": "stream",
     "text": [
      "1.15.0\n"
     ]
    }
   ],
   "source": [
    "import tensorflow as tf\n",
    "print(tf.__version__)"
   ]
  },
  {
   "cell_type": "markdown",
   "metadata": {},
   "source": [
    "<font size=\"5\">**Requirements to run this project**</font>\n",
    "* <font size=\"3\">Python 2 - 3.7 </font>\n",
    "* <dd><font size=\"3\">Tensorflow 1.3 - 1.15 </font></dd>\n",
    "* <dd><font size=\"3\">MySQL</font></dd>\n",
    "* <dd><font size=\"3\">sklearn, numpy </font></dd>\n",
    "* <dd><font size=\"3\">Pyro4 </font></dd>\n",
    "\n",
    "Check Tensorflow version, it should be (1.15) in order to work properly with the slim DNN models\n",
    "\n"
   ]
  },
  {
   "cell_type": "markdown",
   "metadata": {},
   "source": [
    "<font size=\"5\">**Importing libraries and python scripts**</font>\n",
    "<br /><br />\n",
    "<font size=\"3\">Before starting, carefully go through the Setup in the README.md to obtain necessary images and checkpoints.  \n",
    "</font>"
   ]
  },
  {
   "cell_type": "code",
   "execution_count": 2,
   "metadata": {
    "scrolled": true
   },
   "outputs": [
    {
     "name": "stdout",
     "output_type": "stream",
     "text": [
      "WARNING:tensorflow:\n",
      "The TensorFlow contrib module will not be included in TensorFlow 2.0.\n",
      "For more information, please see:\n",
      "  * https://github.com/tensorflow/community/blob/master/rfcs/20180907-contrib-sunset.md\n",
      "  * https://github.com/tensorflow/addons\n",
      "  * https://github.com/tensorflow/io (for I/O related ops)\n",
      "If you depend on functionality not listed there, please file an issue.\n",
      "\n"
     ]
    }
   ],
   "source": [
    "#!pip install mysql-connector-python\n",
    "#!pip install --user mysql-python\n",
    "#!pip install Pyro4\n",
    "#!pip install --upgrade pip\n",
    "#!pip install --user tensorflow==1.15\n",
    "import mysql\n",
    "import mysql.connector as mysql\n",
    "from nets import nets_factory\n",
    "from preprocessing import preprocessing_factory\n",
    "import model\n",
    "import analysis\n",
    "import os\n",
    "import inference\n",
    "import image_generator\n",
    "import numpy as np"
   ]
  },
  {
   "cell_type": "markdown",
   "metadata": {},
   "source": [
    "<font size=\"3\"> If some libraries are not installed, install them using pip </font>"
   ]
  },
  {
   "cell_type": "markdown",
   "metadata": {},
   "source": [
    "<font size=\"5\">**Starting the image generator class**</font>\n",
    "<br /><br />\n",
    "<font size=\"3\">This code starts the image generator class and can be used to check if the <u>images</u> and <u>dataset files</u> are stored properly and are accessible.</font>"
   ]
  },
  {
   "cell_type": "code",
   "execution_count": 3,
   "metadata": {},
   "outputs": [
    {
     "name": "stdout",
     "output_type": "stream",
     "text": [
      "images/val/images\\ILSVRC2012_val_00003283.JPEG hoopskirt, crinoline\n",
      "images/val/images\\ILSVRC2012_val_00006076.JPEG trench coat\n",
      "images/val/images\\ILSVRC2012_val_00035348.JPEG magpie\n",
      "images/val/images\\ILSVRC2012_val_00011321.JPEG puffer, pufferfish, blowfish, globefish\n",
      "images/val/images\\ILSVRC2012_val_00042235.JPEG sorrel\n",
      "images/val/images\\ILSVRC2012_val_00007991.JPEG sidewinder, horned rattlesnake, Crotalus cerastes\n",
      "images/val/images\\ILSVRC2012_val_00048761.JPEG English setter\n",
      "images/val/images\\ILSVRC2012_val_00045261.JPEG Border collie\n",
      "images/val/images\\ILSVRC2012_val_00029748.JPEG running shoe\n",
      "images/val/images\\ILSVRC2012_val_00008217.JPEG komondor\n"
     ]
    }
   ],
   "source": [
    "image_generator.main()\n",
    "imgGen = image_generator.ImageGenerator('images/val/images', 'images/val/val.txt', 'images/val/synset_words.txt')\n",
    "label_list = imgGen.get_label_list()      # this is the correct label list that will be used to evaluate DNN performance"
   ]
  },
  {
   "cell_type": "markdown",
   "metadata": {},
   "source": [
    "<font size=\"5\">**Testing inference on one image**</font>\n",
    "<br /><br />\n",
    "<font size=\"3\">This code initializes the models and infers the first image with each of them. It is used to check if <u>model checkpoints</u> are accessible.</font>"
   ]
  },
  {
   "cell_type": "code",
   "execution_count": 4,
   "metadata": {
    "scrolled": true
   },
   "outputs": [
    {
     "name": "stdout",
     "output_type": "stream",
     "text": [
      "Skipping first inference...\n",
      "WARNING:tensorflow:From D:\\DL-Inference\\inference.py:110: The name tf.reset_default_graph is deprecated. Please use tf.compat.v1.reset_default_graph instead.\n",
      "\n",
      "Preprocessing image: 1 of 1\n",
      "WARNING:tensorflow:From D:\\DL-Inference\\preprocessing\\inception_preprocessing.py:270: The name tf.image.resize_bilinear is deprecated. Please use tf.compat.v1.image.resize_bilinear instead.\n",
      "\n",
      "WARNING:tensorflow:From D:\\DL-Inference\\nets\\inception_utils.py:54: The name tf.GraphKeys is deprecated. Please use tf.compat.v1.GraphKeys instead.\n",
      "\n",
      "INFO:tensorflow:Scale of 0 disables regularizer.\n",
      "WARNING:tensorflow:From D:\\DL-Inference\\nets\\inception_v4.py:279: The name tf.variable_scope is deprecated. Please use tf.compat.v1.variable_scope instead.\n",
      "\n",
      "WARNING:tensorflow:From C:\\Users\\Asus\\miniconda3\\envs\\esrg\\lib\\site-packages\\tensorflow_core\\contrib\\layers\\python\\layers\\layers.py:1057: Layer.apply (from tensorflow.python.keras.engine.base_layer) is deprecated and will be removed in a future version.\n",
      "Instructions for updating:\n",
      "Please use `layer.__call__` method instead.\n",
      "WARNING:tensorflow:From C:\\Users\\Asus\\miniconda3\\envs\\esrg\\lib\\site-packages\\tensorflow_core\\contrib\\layers\\python\\layers\\layers.py:1634: flatten (from tensorflow.python.layers.core) is deprecated and will be removed in a future version.\n",
      "Instructions for updating:\n",
      "Use keras.layers.flatten instead.\n",
      "WARNING:tensorflow:From D:\\DL-Inference\\inference.py:138: The name tf.Session is deprecated. Please use tf.compat.v1.Session instead.\n",
      "\n",
      "INFO:tensorflow:Restoring parameters from model_data/tensorflow/checkpoints/inception_v4/inception_v4.ckpt\n",
      "Image: 1 of 1\tAverage Time: 858.0\n",
      "Done!\n",
      "\n",
      "Preprocessing image: 1 of 1\n",
      "INFO:tensorflow:Scale of 0 disables regularizer.\n",
      "INFO:tensorflow:Restoring parameters from model_data/tensorflow/checkpoints/inception_v4/inception_v4.ckpt\n",
      "Image: 1 of 1\tAverage Time: 968.0\n",
      "[([968.0], [[0.9475860595703125, 0.011890850029885769, 0.0072621447034180164, 0.0031914273276925087, 0.003110471647232771, 0.002808748045936227, 0.0014050431782379746, 0.0009503407636657357, 0.0008339508203789592, 0.0006610105047002435, 0.0006372712086886168, 0.0005837938515469432, 0.0005329005070962012, 0.00038708027568645775, 0.0003691568272188306, 0.0003241834929212928, 0.00015922164311632514, 0.00014561937132384628, 9.920193406287581e-05, 9.074997797142714e-05]], [[65, 62, 58, 63, 56, 60, 54, 52, 390, 67, 61, 68, 53, 977, 66, 57, 34, 59, 45, 17]])]\n",
      "Skipping first inference...\n",
      "Preprocessing image: 1 of 1\n",
      "WARNING:tensorflow:From D:\\DL-Inference\\preprocessing\\vgg_preprocessing.py:249: to_float (from tensorflow.python.ops.math_ops) is deprecated and will be removed in a future version.\n",
      "Instructions for updating:\n",
      "Use `tf.cast` instead.\n",
      "WARNING:tensorflow:From D:\\DL-Inference\\preprocessing\\vgg_preprocessing.py:256: to_int32 (from tensorflow.python.ops.math_ops) is deprecated and will be removed in a future version.\n",
      "Instructions for updating:\n",
      "Use `tf.cast` instead.\n",
      "INFO:tensorflow:Scale of 0 disables regularizer.\n",
      "INFO:tensorflow:Restoring parameters from model_data/tensorflow/checkpoints/resnet_v1_152/resnet_v1_152.ckpt\n",
      "Image: 1 of 1\tAverage Time: 1116.0\n",
      "Done!\n",
      "\n",
      "Preprocessing image: 1 of 1\n",
      "INFO:tensorflow:Scale of 0 disables regularizer.\n",
      "INFO:tensorflow:Restoring parameters from model_data/tensorflow/checkpoints/resnet_v1_152/resnet_v1_152.ckpt\n",
      "Image: 1 of 1\tAverage Time: 925.0\n",
      "[([925.0], [[0.9532882571220398, 0.02161315083503723, 0.011321711353957653, 0.002980651333928108, 0.0026777794118970633, 0.00220469874329865, 0.0019741449505090714, 0.0014519428368657827, 0.00074995361501351, 0.000533437414560467, 0.0004724217869807035, 0.00046496721915900707, 0.0001525944098830223, 5.596550545305945e-05, 1.1235430065426044e-05, 1.0770748303912114e-05, 8.531177627446596e-06, 6.693299383186968e-06, 4.869279109698255e-06, 3.2872619613044662e-06]], [[65, 54, 62, 66, 63, 68, 58, 60, 390, 67, 52, 61, 53, 56, 59, 50, 57, 64, 977, 55]])]\n",
      "Skipping first inference...\n",
      "Preprocessing image: 1 of 1\n",
      "INFO:tensorflow:Scale of 0 disables regularizer.\n",
      "INFO:tensorflow:Restoring parameters from model_data/tensorflow/checkpoints/mobilenet_v1_1.0_224/mobilenet_v1_1.0_224.ckpt\n",
      "Image: 1 of 1\tAverage Time: 160.0\n",
      "Done!\n",
      "\n",
      "Preprocessing image: 1 of 1\n",
      "INFO:tensorflow:Scale of 0 disables regularizer.\n",
      "INFO:tensorflow:Restoring parameters from model_data/tensorflow/checkpoints/mobilenet_v1_1.0_224/mobilenet_v1_1.0_224.ckpt\n",
      "Image: 1 of 1\tAverage Time: 166.0\n",
      "[([166.0], [[0.8061113357543945, 0.07415837794542313, 0.0635707899928093, 0.01762666180729866, 0.016172634437680244, 0.005305825266987085, 0.005122875329107046, 0.003189890645444393, 0.0015160500770434737, 0.0010056188330054283, 0.0008061569533310831, 0.0007712427759543061, 0.0006385417655110359, 0.0005605952464975417, 0.0005431108293123543, 0.0004845171351917088, 0.00035872653825208545, 0.00025956379249691963, 0.00022450716642197222, 0.00017320564074907452]], [[65, 58, 34, 57, 54, 62, 33, 60, 63, 67, 53, 66, 50, 68, 363, 390, 48, 49, 52, 56]])]\n"
     ]
    }
   ],
   "source": [
    "model_name = 'inception_v4'\n",
    "model = inference.DNN_Model('tf', model_name, 'model_data/tensorflow/checkpoints/inception_v4/inception_v4.ckpt')\n",
    "results = model.time_model(['images/val/images/ILSVRC2012_val_00000001.JPEG'], 1, [])\n",
    "print(results)\n",
    "\n",
    "model_name = 'resnet_v1_152'\n",
    "model = inference.DNN_Model('tf', model_name, 'model_data/tensorflow/checkpoints/resnet_v1_152/resnet_v1_152.ckpt')\n",
    "results = model.time_model(['images/val/images/ILSVRC2012_val_00000001.JPEG'], 1, [])\n",
    "print(results)\n",
    "\n",
    "model_name = 'mobilenet_v1'\n",
    "model = inference.DNN_Model('tf', model_name, 'model_data/tensorflow/checkpoints/mobilenet_v1_1.0_224/mobilenet_v1_1.0_224.ckpt')\n",
    "results = model.time_model(['images/val/images/ILSVRC2012_val_00000001.JPEG'], 1, [])\n",
    "print(results)"
   ]
  },
  {
   "cell_type": "markdown",
   "metadata": {},
   "source": [
    "<font size=\"5\">**Conecting to MySQL**</font>\n",
    "<br /><br />\n",
    "<font size=\"3\">This code can be used to check if connection to MySQL can be established. You should insert your own <font color = \"green\">hostname</font>, <font color = \"green\">username</font>, and <font color = \"green\">password</font>. These values should also be used in *connect_db* method in *database.py* file (change it).</font>"
   ]
  },
  {
   "cell_type": "code",
   "execution_count": 5,
   "metadata": {},
   "outputs": [],
   "source": [
    "db = mysql.connect(\n",
    "    host = \"127.0.0.1\", #could be \"localhost\"\n",
    "    user = \"root\",\n",
    "    passwd = \"rootpsw\"\n",
    ")"
   ]
  },
  {
   "cell_type": "markdown",
   "metadata": {},
   "source": [
    "<font size=\"5\">**Obtaining inference results**</font>\n",
    "<br /><br />\n",
    "<font size=\"3\">This code retrieves checkpoints for the models and obtains <font color = \"green\">inference results</font> on selected images.</font>\n"
   ]
  },
  {
   "cell_type": "code",
   "execution_count": null,
   "metadata": {
    "scrolled": true
   },
   "outputs": [
    {
     "name": "stdout",
     "output_type": "stream",
     "text": [
      "Skipping first inference...\n",
      "Preprocessing image: 1 of 1\n",
      "INFO:tensorflow:Scale of 0 disables regularizer.\n",
      "INFO:tensorflow:Restoring parameters from model_data/tensorflow/checkpoints/inception_v4/inception_v4.ckpt\n",
      "Image: 1 of 1\tAverage Time: 943.0\n",
      "Done!\n",
      "\n",
      "Preprocessing image: 1 of 49\n",
      "INFO:tensorflow:Scale of 0 disables regularizer.\n",
      "INFO:tensorflow:Restoring parameters from model_data/tensorflow/checkpoints/inception_v4/inception_v4.ckpt\n",
      "Image: 1 of 49\tAverage Time: 721.0\n",
      "Preprocessing image: 2 of 49\n",
      "INFO:tensorflow:Scale of 0 disables regularizer.\n",
      "INFO:tensorflow:Restoring parameters from model_data/tensorflow/checkpoints/inception_v4/inception_v4.ckpt\n",
      "Image: 2 of 49\tAverage Time: 764.0\n",
      "Preprocessing image: 3 of 49\n",
      "INFO:tensorflow:Scale of 0 disables regularizer.\n",
      "INFO:tensorflow:Restoring parameters from model_data/tensorflow/checkpoints/inception_v4/inception_v4.ckpt\n",
      "Image: 3 of 49\tAverage Time: 829.0\n",
      "Preprocessing image: 4 of 49\n",
      "INFO:tensorflow:Scale of 0 disables regularizer.\n",
      "INFO:tensorflow:Restoring parameters from model_data/tensorflow/checkpoints/inception_v4/inception_v4.ckpt\n",
      "Image: 4 of 49\tAverage Time: 1077.0\n",
      "Preprocessing image: 5 of 49\n",
      "INFO:tensorflow:Scale of 0 disables regularizer.\n",
      "INFO:tensorflow:Restoring parameters from model_data/tensorflow/checkpoints/inception_v4/inception_v4.ckpt\n",
      "Image: 5 of 49\tAverage Time: 737.0\n",
      "Preprocessing image: 6 of 49\n",
      "INFO:tensorflow:Scale of 0 disables regularizer.\n",
      "INFO:tensorflow:Restoring parameters from model_data/tensorflow/checkpoints/inception_v4/inception_v4.ckpt\n",
      "Image: 6 of 49\tAverage Time: 1230.0\n",
      "Preprocessing image: 7 of 49\n",
      "INFO:tensorflow:Scale of 0 disables regularizer.\n",
      "INFO:tensorflow:Restoring parameters from model_data/tensorflow/checkpoints/inception_v4/inception_v4.ckpt\n",
      "Image: 7 of 49\tAverage Time: 1122.0\n",
      "Preprocessing image: 8 of 49\n",
      "INFO:tensorflow:Scale of 0 disables regularizer.\n",
      "INFO:tensorflow:Restoring parameters from model_data/tensorflow/checkpoints/inception_v4/inception_v4.ckpt\n",
      "Image: 8 of 49\tAverage Time: 907.0\n",
      "Preprocessing image: 9 of 49\n",
      "INFO:tensorflow:Scale of 0 disables regularizer.\n",
      "INFO:tensorflow:Restoring parameters from model_data/tensorflow/checkpoints/inception_v4/inception_v4.ckpt\n",
      "Image: 9 of 49\tAverage Time: 887.0\n",
      "Preprocessing image: 10 of 49\n",
      "INFO:tensorflow:Scale of 0 disables regularizer.\n",
      "INFO:tensorflow:Restoring parameters from model_data/tensorflow/checkpoints/inception_v4/inception_v4.ckpt\n",
      "Image: 10 of 49\tAverage Time: 879.0\n",
      "Preprocessing image: 11 of 49\n",
      "INFO:tensorflow:Scale of 0 disables regularizer.\n",
      "INFO:tensorflow:Restoring parameters from model_data/tensorflow/checkpoints/inception_v4/inception_v4.ckpt\n",
      "Image: 11 of 49\tAverage Time: 836.0\n",
      "Preprocessing image: 12 of 49\n",
      "INFO:tensorflow:Scale of 0 disables regularizer.\n",
      "INFO:tensorflow:Restoring parameters from model_data/tensorflow/checkpoints/inception_v4/inception_v4.ckpt\n",
      "Image: 12 of 49\tAverage Time: 874.0\n",
      "Preprocessing image: 13 of 49\n",
      "INFO:tensorflow:Scale of 0 disables regularizer.\n",
      "INFO:tensorflow:Restoring parameters from model_data/tensorflow/checkpoints/inception_v4/inception_v4.ckpt\n",
      "Image: 13 of 49\tAverage Time: 838.0\n",
      "Preprocessing image: 14 of 49\n",
      "INFO:tensorflow:Scale of 0 disables regularizer.\n",
      "INFO:tensorflow:Restoring parameters from model_data/tensorflow/checkpoints/inception_v4/inception_v4.ckpt\n",
      "Image: 14 of 49\tAverage Time: 980.0\n",
      "Preprocessing image: 15 of 49\n",
      "INFO:tensorflow:Scale of 0 disables regularizer.\n",
      "INFO:tensorflow:Restoring parameters from model_data/tensorflow/checkpoints/inception_v4/inception_v4.ckpt\n",
      "Image: 15 of 49\tAverage Time: 908.0\n",
      "Preprocessing image: 16 of 49\n",
      "INFO:tensorflow:Scale of 0 disables regularizer.\n",
      "INFO:tensorflow:Restoring parameters from model_data/tensorflow/checkpoints/inception_v4/inception_v4.ckpt\n",
      "Image: 16 of 49\tAverage Time: 735.0\n",
      "Preprocessing image: 17 of 49\n",
      "INFO:tensorflow:Scale of 0 disables regularizer.\n",
      "INFO:tensorflow:Restoring parameters from model_data/tensorflow/checkpoints/inception_v4/inception_v4.ckpt\n",
      "Image: 17 of 49\tAverage Time: 952.0\n",
      "Preprocessing image: 18 of 49\n",
      "INFO:tensorflow:Scale of 0 disables regularizer.\n",
      "INFO:tensorflow:Restoring parameters from model_data/tensorflow/checkpoints/inception_v4/inception_v4.ckpt\n",
      "Image: 18 of 49\tAverage Time: 811.0\n",
      "Preprocessing image: 19 of 49\n",
      "INFO:tensorflow:Scale of 0 disables regularizer.\n",
      "INFO:tensorflow:Restoring parameters from model_data/tensorflow/checkpoints/inception_v4/inception_v4.ckpt\n",
      "Image: 19 of 49\tAverage Time: 1493.0\n",
      "Preprocessing image: 20 of 49\n",
      "INFO:tensorflow:Scale of 0 disables regularizer.\n",
      "INFO:tensorflow:Restoring parameters from model_data/tensorflow/checkpoints/inception_v4/inception_v4.ckpt\n",
      "Image: 20 of 49\tAverage Time: 989.0\n",
      "Preprocessing image: 21 of 49\n",
      "INFO:tensorflow:Scale of 0 disables regularizer.\n",
      "INFO:tensorflow:Restoring parameters from model_data/tensorflow/checkpoints/inception_v4/inception_v4.ckpt\n",
      "Image: 21 of 49\tAverage Time: 782.0\n",
      "Preprocessing image: 22 of 49\n",
      "INFO:tensorflow:Scale of 0 disables regularizer.\n",
      "INFO:tensorflow:Restoring parameters from model_data/tensorflow/checkpoints/inception_v4/inception_v4.ckpt\n",
      "Image: 22 of 49\tAverage Time: 738.0\n",
      "Preprocessing image: 23 of 49\n",
      "INFO:tensorflow:Scale of 0 disables regularizer.\n",
      "INFO:tensorflow:Restoring parameters from model_data/tensorflow/checkpoints/inception_v4/inception_v4.ckpt\n",
      "Image: 23 of 49\tAverage Time: 807.0\n",
      "Preprocessing image: 24 of 49\n",
      "INFO:tensorflow:Scale of 0 disables regularizer.\n",
      "INFO:tensorflow:Restoring parameters from model_data/tensorflow/checkpoints/inception_v4/inception_v4.ckpt\n",
      "Image: 24 of 49\tAverage Time: 733.0\n",
      "Preprocessing image: 25 of 49\n",
      "INFO:tensorflow:Scale of 0 disables regularizer.\n",
      "INFO:tensorflow:Restoring parameters from model_data/tensorflow/checkpoints/inception_v4/inception_v4.ckpt\n",
      "Image: 25 of 49\tAverage Time: 908.0\n",
      "Preprocessing image: 26 of 49\n",
      "INFO:tensorflow:Scale of 0 disables regularizer.\n",
      "INFO:tensorflow:Restoring parameters from model_data/tensorflow/checkpoints/inception_v4/inception_v4.ckpt\n",
      "Image: 26 of 49\tAverage Time: 748.0\n",
      "Preprocessing image: 27 of 49\n",
      "INFO:tensorflow:Scale of 0 disables regularizer.\n",
      "INFO:tensorflow:Restoring parameters from model_data/tensorflow/checkpoints/inception_v4/inception_v4.ckpt\n",
      "Image: 27 of 49\tAverage Time: 906.0\n",
      "Preprocessing image: 28 of 49\n",
      "INFO:tensorflow:Scale of 0 disables regularizer.\n",
      "INFO:tensorflow:Restoring parameters from model_data/tensorflow/checkpoints/inception_v4/inception_v4.ckpt\n",
      "Image: 28 of 49\tAverage Time: 758.0\n",
      "Preprocessing image: 29 of 49\n",
      "INFO:tensorflow:Scale of 0 disables regularizer.\n",
      "INFO:tensorflow:Restoring parameters from model_data/tensorflow/checkpoints/inception_v4/inception_v4.ckpt\n",
      "Image: 29 of 49\tAverage Time: 719.0\n",
      "Preprocessing image: 30 of 49\n",
      "INFO:tensorflow:Scale of 0 disables regularizer.\n",
      "INFO:tensorflow:Restoring parameters from model_data/tensorflow/checkpoints/inception_v4/inception_v4.ckpt\n",
      "Image: 30 of 49\tAverage Time: 712.0\n",
      "Preprocessing image: 31 of 49\n",
      "INFO:tensorflow:Scale of 0 disables regularizer.\n",
      "INFO:tensorflow:Restoring parameters from model_data/tensorflow/checkpoints/inception_v4/inception_v4.ckpt\n",
      "Image: 31 of 49\tAverage Time: 754.0\n",
      "Preprocessing image: 32 of 49\n",
      "INFO:tensorflow:Scale of 0 disables regularizer.\n",
      "INFO:tensorflow:Restoring parameters from model_data/tensorflow/checkpoints/inception_v4/inception_v4.ckpt\n",
      "Image: 32 of 49\tAverage Time: 738.0\n",
      "Preprocessing image: 33 of 49\n",
      "INFO:tensorflow:Scale of 0 disables regularizer.\n",
      "INFO:tensorflow:Restoring parameters from model_data/tensorflow/checkpoints/inception_v4/inception_v4.ckpt\n",
      "Image: 33 of 49\tAverage Time: 765.0\n",
      "Preprocessing image: 34 of 49\n",
      "INFO:tensorflow:Scale of 0 disables regularizer.\n",
      "INFO:tensorflow:Restoring parameters from model_data/tensorflow/checkpoints/inception_v4/inception_v4.ckpt\n",
      "Image: 34 of 49\tAverage Time: 817.0\n",
      "Preprocessing image: 35 of 49\n",
      "INFO:tensorflow:Scale of 0 disables regularizer.\n",
      "INFO:tensorflow:Restoring parameters from model_data/tensorflow/checkpoints/inception_v4/inception_v4.ckpt\n",
      "Image: 35 of 49\tAverage Time: 746.0\n",
      "Preprocessing image: 36 of 49\n",
      "INFO:tensorflow:Scale of 0 disables regularizer.\n",
      "INFO:tensorflow:Restoring parameters from model_data/tensorflow/checkpoints/inception_v4/inception_v4.ckpt\n"
     ]
    },
    {
     "name": "stdout",
     "output_type": "stream",
     "text": [
      "Image: 36 of 49\tAverage Time: 728.0\n",
      "Preprocessing image: 37 of 49\n",
      "INFO:tensorflow:Scale of 0 disables regularizer.\n",
      "INFO:tensorflow:Restoring parameters from model_data/tensorflow/checkpoints/inception_v4/inception_v4.ckpt\n",
      "Image: 37 of 49\tAverage Time: 721.0\n",
      "Preprocessing image: 38 of 49\n",
      "INFO:tensorflow:Scale of 0 disables regularizer.\n",
      "INFO:tensorflow:Restoring parameters from model_data/tensorflow/checkpoints/inception_v4/inception_v4.ckpt\n",
      "Image: 38 of 49\tAverage Time: 728.0\n",
      "Preprocessing image: 39 of 49\n",
      "INFO:tensorflow:Scale of 0 disables regularizer.\n",
      "INFO:tensorflow:Restoring parameters from model_data/tensorflow/checkpoints/inception_v4/inception_v4.ckpt\n",
      "Image: 39 of 49\tAverage Time: 904.0\n",
      "Preprocessing image: 40 of 49\n",
      "INFO:tensorflow:Scale of 0 disables regularizer.\n",
      "INFO:tensorflow:Restoring parameters from model_data/tensorflow/checkpoints/inception_v4/inception_v4.ckpt\n",
      "Image: 40 of 49\tAverage Time: 789.0\n",
      "Preprocessing image: 41 of 49\n",
      "INFO:tensorflow:Scale of 0 disables regularizer.\n",
      "INFO:tensorflow:Restoring parameters from model_data/tensorflow/checkpoints/inception_v4/inception_v4.ckpt\n",
      "Image: 41 of 49\tAverage Time: 778.0\n",
      "Preprocessing image: 42 of 49\n",
      "INFO:tensorflow:Scale of 0 disables regularizer.\n",
      "INFO:tensorflow:Restoring parameters from model_data/tensorflow/checkpoints/inception_v4/inception_v4.ckpt\n",
      "Image: 42 of 49\tAverage Time: 774.0\n",
      "Preprocessing image: 43 of 49\n",
      "INFO:tensorflow:Scale of 0 disables regularizer.\n",
      "INFO:tensorflow:Restoring parameters from model_data/tensorflow/checkpoints/inception_v4/inception_v4.ckpt\n",
      "Image: 43 of 49\tAverage Time: 738.0\n",
      "Preprocessing image: 44 of 49\n",
      "INFO:tensorflow:Scale of 0 disables regularizer.\n",
      "INFO:tensorflow:Restoring parameters from model_data/tensorflow/checkpoints/inception_v4/inception_v4.ckpt\n",
      "Image: 44 of 49\tAverage Time: 716.0\n",
      "Preprocessing image: 45 of 49\n",
      "INFO:tensorflow:Scale of 0 disables regularizer.\n",
      "INFO:tensorflow:Restoring parameters from model_data/tensorflow/checkpoints/inception_v4/inception_v4.ckpt\n",
      "Image: 45 of 49\tAverage Time: 720.0\n",
      "Preprocessing image: 46 of 49\n",
      "INFO:tensorflow:Scale of 0 disables regularizer.\n",
      "INFO:tensorflow:Restoring parameters from model_data/tensorflow/checkpoints/inception_v4/inception_v4.ckpt\n",
      "Image: 46 of 49\tAverage Time: 837.0\n",
      "Preprocessing image: 47 of 49\n",
      "INFO:tensorflow:Scale of 0 disables regularizer.\n",
      "INFO:tensorflow:Restoring parameters from model_data/tensorflow/checkpoints/inception_v4/inception_v4.ckpt\n",
      "Image: 47 of 49\tAverage Time: 714.0\n",
      "Preprocessing image: 48 of 49\n",
      "INFO:tensorflow:Scale of 0 disables regularizer.\n",
      "INFO:tensorflow:Restoring parameters from model_data/tensorflow/checkpoints/inception_v4/inception_v4.ckpt\n",
      "Image: 48 of 49\tAverage Time: 715.0\n",
      "Preprocessing image: 49 of 49\n",
      "INFO:tensorflow:Scale of 0 disables regularizer.\n",
      "INFO:tensorflow:Restoring parameters from model_data/tensorflow/checkpoints/inception_v4/inception_v4.ckpt\n",
      "Image: 49 of 49\tAverage Time: 732.0\n",
      "Skipping first inference...\n",
      "Preprocessing image: 1 of 1\n",
      "INFO:tensorflow:Scale of 0 disables regularizer.\n",
      "INFO:tensorflow:Restoring parameters from model_data/tensorflow/checkpoints/resnet_v1_152/resnet_v1_152.ckpt\n",
      "Image: 1 of 1\tAverage Time: 948.0\n",
      "Done!\n",
      "\n",
      "Preprocessing image: 1 of 49\n",
      "INFO:tensorflow:Scale of 0 disables regularizer.\n",
      "INFO:tensorflow:Restoring parameters from model_data/tensorflow/checkpoints/resnet_v1_152/resnet_v1_152.ckpt\n",
      "Image: 1 of 49\tAverage Time: 917.0\n",
      "Preprocessing image: 2 of 49\n",
      "INFO:tensorflow:Scale of 0 disables regularizer.\n",
      "INFO:tensorflow:Restoring parameters from model_data/tensorflow/checkpoints/resnet_v1_152/resnet_v1_152.ckpt\n",
      "Image: 2 of 49\tAverage Time: 1081.0\n",
      "Preprocessing image: 3 of 49\n",
      "INFO:tensorflow:Scale of 0 disables regularizer.\n",
      "INFO:tensorflow:Restoring parameters from model_data/tensorflow/checkpoints/resnet_v1_152/resnet_v1_152.ckpt\n",
      "Image: 3 of 49\tAverage Time: 1822.0\n",
      "Preprocessing image: 4 of 49\n",
      "INFO:tensorflow:Scale of 0 disables regularizer.\n",
      "INFO:tensorflow:Restoring parameters from model_data/tensorflow/checkpoints/resnet_v1_152/resnet_v1_152.ckpt\n",
      "Image: 4 of 49\tAverage Time: 1421.0\n",
      "Preprocessing image: 5 of 49\n",
      "INFO:tensorflow:Scale of 0 disables regularizer.\n",
      "INFO:tensorflow:Restoring parameters from model_data/tensorflow/checkpoints/resnet_v1_152/resnet_v1_152.ckpt\n",
      "Image: 5 of 49\tAverage Time: 1922.0\n",
      "Preprocessing image: 6 of 49\n",
      "INFO:tensorflow:Scale of 0 disables regularizer.\n",
      "INFO:tensorflow:Restoring parameters from model_data/tensorflow/checkpoints/resnet_v1_152/resnet_v1_152.ckpt\n",
      "Image: 6 of 49\tAverage Time: 2269.0\n",
      "Preprocessing image: 7 of 49\n",
      "INFO:tensorflow:Scale of 0 disables regularizer.\n",
      "INFO:tensorflow:Restoring parameters from model_data/tensorflow/checkpoints/resnet_v1_152/resnet_v1_152.ckpt\n",
      "Image: 7 of 49\tAverage Time: 2352.0\n",
      "Preprocessing image: 8 of 49\n",
      "INFO:tensorflow:Scale of 0 disables regularizer.\n",
      "INFO:tensorflow:Restoring parameters from model_data/tensorflow/checkpoints/resnet_v1_152/resnet_v1_152.ckpt\n",
      "Image: 8 of 49\tAverage Time: 2357.0\n",
      "Preprocessing image: 9 of 49\n",
      "INFO:tensorflow:Scale of 0 disables regularizer.\n"
     ]
    }
   ],
   "source": [
    "model_i_name = 'inception_v4'\n",
    "model_i = inference.DNN_Model('tf', model_i_name, 'model_data/tensorflow/checkpoints/inception_v4/inception_v4.ckpt')\n",
    "\n",
    "model_r_name = 'resnet_v1_152'\n",
    "model_r = inference.DNN_Model('tf', model_r_name, 'model_data/tensorflow/checkpoints/resnet_v1_152/resnet_v1_152.ckpt')\n",
    "\n",
    "model_m_name = 'mobilenet_v1'\n",
    "model_m = inference.DNN_Model('tf', model_m_name, 'model_data/tensorflow/checkpoints/mobilenet_v1_1.0_224/mobilenet_v1_1.0_224.ckpt')\n",
    "\n",
    "models = [model_i, model_r, model_m]\n",
    "model_names = [model_i_name, model_r_name, model_m_name]\n",
    "results = []\n",
    "\n",
    "img_nums = []\n",
    "img_path_list = []\n",
    "img_labels = []\n",
    "for i in range(1, 50):                           # here, the range of images can be selected\n",
    "    img_nums.append(i)\n",
    "for i in range(len(img_nums)):\n",
    "    img_path, img_label = imgGen.get_image_data(img_nums[i])\n",
    "    img_path_list.append(img_path)\n",
    "    img_labels.append(img_label)\n",
    "for i in range(len(models)):\n",
    "    results.append(models[i].time_model(img_path_list, 1, []))                # 0 - inception, 1 - resnet, 2 - mobilenet"
   ]
  },
  {
   "cell_type": "markdown",
   "metadata": {},
   "source": [
    "<font size=\"3\">In these cells, results are processed to obtain <font color = \"green\">top-1</font> and <font color = \"green\">top-5 satisfaction (0 or 1)</font> for each image by each of the DNNs, as well as <font color = \"green\">inference times</font>."
   ]
  },
  {
   "cell_type": "code",
   "execution_count": null,
   "metadata": {},
   "outputs": [],
   "source": [
    "top_1 = [[], [], []]\n",
    "top_5 = [[], [], []]\n",
    "performance = [[], [], []]"
   ]
  },
  {
   "cell_type": "code",
   "execution_count": 8,
   "metadata": {},
   "outputs": [],
   "source": [
    "for j in range(len(models)):\n",
    "    for i in range(len(img_nums)):\n",
    "        performance[j].append(results[j][i][0][0])\n",
    "        top_1[j].append(int(analysis.top_n_correct(np.array(results[j][i][1][0]), np.array(results[j][i][2][0]), img_labels[i], label_list, 1)))\n",
    "        top_5[j].append(int(analysis.top_n_correct(np.array(results[j][i][1][0]), np.array(results[j][i][2][0]), img_labels[i], label_list, 5)))"
   ]
  },
  {
   "cell_type": "markdown",
   "metadata": {},
   "source": [
    "<font size=\"5\">**Creating a database**</font>\n",
    "<br /><br />\n",
    "<font size=\"3\">Here, we create the database that will hold <font color = \"green\">image names</font> in the *images* table and <font color = \"green\">inference results</font> in the *exec_data* table.</font>\n"
   ]
  },
  {
   "cell_type": "code",
   "execution_count": 9,
   "metadata": {},
   "outputs": [],
   "source": [
    "#Change host, user, passwd for your own\n",
    "\n",
    "db = mysql.connect(\n",
    "    host = \"127.0.0.1\",\n",
    "    user = \"root\",\n",
    "    passwd = \"Vj55577022077555.\"\n",
    ")\n",
    "\n",
    "cursor = db.cursor()\n",
    "\n",
    "cursor.execute(\"CREATE DATABASE IF NOT EXISTS inference\")\n",
    "\n",
    "db = mysql.connect(\n",
    "    host = \"127.0.0.1\",\n",
    "    user = \"root\",\n",
    "    passwd = \"Vj55577022077555.\",\n",
    "    database = \"inference\"\n",
    ")\n",
    "\n",
    "cursor = db.cursor()"
   ]
  },
  {
   "cell_type": "markdown",
   "metadata": {},
   "source": [
    "<font size=\"3\">Inserting the image data</font>"
   ]
  },
  {
   "cell_type": "code",
   "execution_count": 10,
   "metadata": {},
   "outputs": [],
   "source": [
    "cursor.execute(\"CREATE TABLE IF NOT EXISTS images (img_num int(5) NOT NULL, filename varchar(35) NOT NULL, KEY img_num (img_num)) ENGINE=InnoDB;\")\n",
    "\n",
    "filename = []\n",
    "\n",
    "for i in range(len(img_nums)):\n",
    "    filename.append(imgGen.get_image_filename(img_nums[i]))\n",
    "for i in range(len(img_nums)):\n",
    "    query = \"INSERT INTO images (img_num, filename) VALUES (%s, %s)\"\n",
    "    values = (img_nums[i], filename[i])\n",
    "    cursor.execute(query, values)\n",
    "\n",
    "db.commit()"
   ]
  },
  {
   "cell_type": "markdown",
   "metadata": {},
   "source": [
    "<font size=\"3\">Inserting the inference results</font>"
   ]
  },
  {
   "cell_type": "code",
   "execution_count": 11,
   "metadata": {},
   "outputs": [],
   "source": [
    "cursor.execute(\"CREATE TABLE IF NOT EXISTS exec_data (img_num int(5) NOT NULL, model_name varchar(14) NOT NULL, top_1 int(1) NOT NULL, top_5 int(1) NOT NULL, performance int(7) NOT NULL, KEY img_num (img_num)) ENGINE=InnoDB;\")\n",
    "\n",
    "for i in range(len(img_nums)):\n",
    "    for j in range(len(models)):\n",
    "        query = \"INSERT INTO exec_data (img_num, model_name, top_1, top_5, performance) VALUES (%s, %s, %s, %s, %s)\"\n",
    "        values = (img_nums[i], model_names[j], top_1[j][i], top_5[j][i], performance[j][i])\n",
    "        cursor.execute(query, values)\n",
    "\n",
    "db.commit()"
   ]
  },
  {
   "cell_type": "markdown",
   "metadata": {},
   "source": [
    "<font size=\"5\">**Obtaining information from the database**</font>\n",
    "<br /><br />\n",
    "<font size=\"3\">We use *database.py* to obtain the <font color=\"green\">best top-1</font> and <font color=\"green\">top-5</font> models for each image.</font>"
   ]
  },
  {
   "cell_type": "code",
   "execution_count": 12,
   "metadata": {
    "scrolled": true
   },
   "outputs": [],
   "source": [
    "import database as db"
   ]
  },
  {
   "cell_type": "code",
   "execution_count": 13,
   "metadata": {
    "scrolled": true
   },
   "outputs": [
    {
     "name": "stdout",
     "output_type": "stream",
     "text": [
      "Best top-1 model for img num '1' is \n",
      "mobilenet_v1\n",
      "\n",
      "\n",
      "Best top-5 model for img num ='1' is \n",
      "mobilenet_v1\n",
      "\n",
      "\n",
      "\n",
      "Best top-1 model for img num '2' is \n",
      "failed\n",
      "\n",
      "\n",
      "Best top-5 model for img num ='2' is \n",
      "mobilenet_v1\n",
      "\n",
      "\n",
      "\n",
      "Best top-1 model for img num '3' is \n",
      "mobilenet_v1\n",
      "\n",
      "\n",
      "Best top-5 model for img num ='3' is \n",
      "mobilenet_v1\n",
      "\n",
      "\n",
      "\n",
      "Best top-1 model for img num '4' is \n",
      "mobilenet_v1\n",
      "\n",
      "\n",
      "Best top-5 model for img num ='4' is \n",
      "mobilenet_v1\n",
      "\n",
      "\n",
      "\n",
      "Best top-1 model for img num '5' is \n",
      "inception_v4\n",
      "\n",
      "\n",
      "Best top-5 model for img num ='5' is \n",
      "mobilenet_v1\n",
      "\n",
      "\n",
      "\n",
      "Best top-1 model for img num '6' is \n",
      "inception_v4\n",
      "\n",
      "\n",
      "Best top-5 model for img num ='6' is \n",
      "inception_v4\n",
      "\n",
      "\n",
      "\n",
      "Best top-1 model for img num '7' is \n",
      "mobilenet_v1\n",
      "\n",
      "\n",
      "Best top-5 model for img num ='7' is \n",
      "mobilenet_v1\n",
      "\n",
      "\n",
      "\n",
      "Best top-1 model for img num '8' is \n",
      "failed\n",
      "\n",
      "\n",
      "Best top-5 model for img num ='8' is \n",
      "inception_v4\n",
      "\n",
      "\n",
      "\n",
      "Best top-1 model for img num '9' is \n",
      "mobilenet_v1\n",
      "\n",
      "\n",
      "Best top-5 model for img num ='9' is \n",
      "mobilenet_v1\n",
      "\n",
      "\n",
      "\n",
      "Best top-1 model for img num '10' is \n",
      "mobilenet_v1\n",
      "\n",
      "\n",
      "Best top-5 model for img num ='10' is \n",
      "mobilenet_v1\n",
      "\n",
      "\n",
      "\n"
     ]
    }
   ],
   "source": [
    "myDB = db.connect_db(\"inference\")\n",
    "list_model = [\"mobilenet_v1\", \"inception_v4\", \"resnet_v1_152\"]\n",
    "\n",
    "for i in range(len(img_nums)):\n",
    "    print('Best top-1 model for img num \\''+str(img_nums[i])+'\\' is ')\n",
    "    print(db.determine_best_top_n_model(\"inference\", img_nums[i], list_model, 1))\n",
    "    print('\\n' * 1)\n",
    "    print('Best top-5 model for img num =\\''+str(img_nums[i])+'\\' is ')\n",
    "    print(db.determine_best_top_n_model(\"inference\", img_nums[i], list_model, 5))\n",
    "    print('\\n' * 2)"
   ]
  },
  {
   "cell_type": "markdown",
   "metadata": {},
   "source": [
    "<font size=\"3\">This function prints out the contents of the *images* table of the database.</font>"
   ]
  },
  {
   "cell_type": "code",
   "execution_count": 14,
   "metadata": {
    "scrolled": true
   },
   "outputs": [
    {
     "name": "stdout",
     "output_type": "stream",
     "text": [
      "(1, 'ILSVRC2012_val_00000001.JPEG')\n",
      "(2, 'ILSVRC2012_val_00000002.JPEG')\n",
      "(3, 'ILSVRC2012_val_00000003.JPEG')\n",
      "(4, 'ILSVRC2012_val_00000004.JPEG')\n",
      "(5, 'ILSVRC2012_val_00000005.JPEG')\n",
      "(6, 'ILSVRC2012_val_00000006.JPEG')\n",
      "(7, 'ILSVRC2012_val_00000007.JPEG')\n",
      "(8, 'ILSVRC2012_val_00000008.JPEG')\n",
      "(9, 'ILSVRC2012_val_00000009.JPEG')\n",
      "(10, 'ILSVRC2012_val_00000010.JPEG')\n"
     ]
    }
   ],
   "source": [
    "for i in range(len(filename)):\n",
    "    print(db.get_img_num_database(\"inference\", filename[i]))"
   ]
  },
  {
   "cell_type": "code",
   "execution_count": null,
   "metadata": {},
   "outputs": [],
   "source": []
  }
 ],
 "metadata": {
  "kernelspec": {
   "display_name": "esrg",
   "language": "python",
   "name": "esrg"
  },
  "language_info": {
   "codemirror_mode": {
    "name": "ipython",
    "version": 3
   },
   "file_extension": ".py",
   "mimetype": "text/x-python",
   "name": "python",
   "nbconvert_exporter": "python",
   "pygments_lexer": "ipython3",
   "version": "3.6.12"
  }
 },
 "nbformat": 4,
 "nbformat_minor": 2
}
