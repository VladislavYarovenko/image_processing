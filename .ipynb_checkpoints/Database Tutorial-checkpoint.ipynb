{
 "cells": [
  {
   "cell_type": "markdown",
   "metadata": {},
   "source": [
    "<font size=\"5\">**Requirements to run this project**</font>\n",
    "* <font size=\"3\">Python 2 - 3.7 </font>\n",
    "* <dd><font size=\"3\">Tensorflow 1.3 - 1.15 </font></dd>\n",
    "* <dd><font size=\"3\">MySQL</font></dd>\n",
    "* <dd><font size=\"3\">sklearn, numpy </font></dd>\n",
    "* <dd><font size=\"3\">Pyro4 </font></dd>\n"
   ]
  },
  {
   "cell_type": "markdown",
   "metadata": {},
   "source": [
    "<font size=\"5\">**Importing libraries and python scripts**</font>\n",
    "<br /><br />\n",
    "<font size=\"3\">The dataset is the <font color = \"blue\">ILSVRC 2012 validation set</font>. After downloading, these images should be placed into *images/val/images*. The <font color = \"green\">val.txt</font> and <font color = \"green\">synset_words.txt</font> files should be placed in *images/val*. The checkpoints for the pre-trained DNNs can be found [here](https://github.com/tensorflow/models/tree/master/research/slim). They should be placed into *model_data* in respective folders.</font>"
   ]
  },
  {
   "cell_type": "code",
   "execution_count": 1,
   "metadata": {
    "scrolled": true
   },
   "outputs": [
    {
     "name": "stdout",
     "output_type": "stream",
     "text": [
      "WARNING:tensorflow:\n",
      "The TensorFlow contrib module will not be included in TensorFlow 2.0.\n",
      "For more information, please see:\n",
      "  * https://github.com/tensorflow/community/blob/master/rfcs/20180907-contrib-sunset.md\n",
      "  * https://github.com/tensorflow/addons\n",
      "  * https://github.com/tensorflow/io (for I/O related ops)\n",
      "If you depend on functionality not listed there, please file an issue.\n",
      "\n"
     ]
    }
   ],
   "source": [
    "#!pip install mysql-connector-python\n",
    "#!pip install Pyro4\n",
    "#!pip install --upgrade pip\n",
    "#!pip install --user tensorflow==1.15\n",
    "#!pip install --user mysql-python\n",
    "import mysql.connector as mysql\n",
    "from nets import nets_factory\n",
    "from preprocessing import preprocessing_factory\n",
    "import model\n",
    "import analysis\n",
    "import os\n",
    "import inference\n",
    "import image_generator\n",
    "import numpy as np"
   ]
  },
  {
   "cell_type": "markdown",
   "metadata": {},
   "source": [
    "<font size=\"5\">**Starting the image generator class**</font>\n",
    "<br /><br />\n",
    "<font size=\"3\">This code starts the image generator class and can be used to check if the <u>images</u> and <u>dataset files</u> are stored properly and are accessible.</font>"
   ]
  },
  {
   "cell_type": "code",
   "execution_count": 2,
   "metadata": {},
   "outputs": [
    {
     "name": "stdout",
     "output_type": "stream",
     "text": [
      "images/val/images\\ILSVRC2012_val_00004165.JPEG whistle\n",
      "images/val/images\\ILSVRC2012_val_00022077.JPEG typewriter keyboard\n",
      "images/val/images\\ILSVRC2012_val_00043747.JPEG accordion, piano accordion, squeeze box\n",
      "images/val/images\\ILSVRC2012_val_00043457.JPEG Pekinese, Pekingese, Peke\n",
      "images/val/images\\ILSVRC2012_val_00001686.JPEG Cardigan, Cardigan Welsh corgi\n",
      "images/val/images\\ILSVRC2012_val_00031546.JPEG thresher, thrasher, threshing machine\n",
      "images/val/images\\ILSVRC2012_val_00011500.JPEG butcher shop, meat market\n",
      "images/val/images\\ILSVRC2012_val_00036999.JPEG bulbul\n",
      "images/val/images\\ILSVRC2012_val_00019448.JPEG orangutan, orang, orangutang, Pongo pygmaeus\n",
      "images/val/images\\ILSVRC2012_val_00001815.JPEG scale, weighing machine\n"
     ]
    }
   ],
   "source": [
    "image_generator.main()\n",
    "imgGen = image_generator.ImageGenerator('images/val/images', 'images/val/val.txt', 'images/val/synset_words.txt')\n",
    "label_list = imgGen.get_label_list()      # this is the correct label list that will be used to evaluate DNN performance"
   ]
  },
  {
   "cell_type": "markdown",
   "metadata": {},
   "source": [
    "<font size=\"5\">**Testing inference on one image**</font>\n",
    "<br /><br />\n",
    "<font size=\"3\">This code initializes the models and infers the first image with each of them. It is used to check if <u>model checkpoints</u> are accessible.</font>"
   ]
  },
  {
   "cell_type": "code",
   "execution_count": 3,
   "metadata": {
    "scrolled": true
   },
   "outputs": [
    {
     "name": "stdout",
     "output_type": "stream",
     "text": [
      "Skipping first inference...\n",
      "WARNING:tensorflow:From C:\\Users\\User\\SP code\\Optimization of DL inference\\inference.py:110: The name tf.reset_default_graph is deprecated. Please use tf.compat.v1.reset_default_graph instead.\n",
      "\n",
      "Preprocessing image: 1 of 1\n",
      "WARNING:tensorflow:From C:\\Users\\User\\SP code\\Optimization of DL inference\\preprocessing\\inception_preprocessing.py:270: The name tf.image.resize_bilinear is deprecated. Please use tf.compat.v1.image.resize_bilinear instead.\n",
      "\n",
      "WARNING:tensorflow:From C:\\Users\\User\\SP code\\Optimization of DL inference\\nets\\inception_utils.py:54: The name tf.GraphKeys is deprecated. Please use tf.compat.v1.GraphKeys instead.\n",
      "\n",
      "INFO:tensorflow:Scale of 0 disables regularizer.\n",
      "WARNING:tensorflow:From C:\\Users\\User\\SP code\\Optimization of DL inference\\nets\\inception_v4.py:279: The name tf.variable_scope is deprecated. Please use tf.compat.v1.variable_scope instead.\n",
      "\n",
      "WARNING:tensorflow:From C:\\Users\\User\\AppData\\Roaming\\Python\\Python37\\site-packages\\tensorflow_core\\contrib\\layers\\python\\layers\\layers.py:1057: Layer.apply (from tensorflow.python.keras.engine.base_layer) is deprecated and will be removed in a future version.\n",
      "Instructions for updating:\n",
      "Please use `layer.__call__` method instead.\n",
      "WARNING:tensorflow:From C:\\Users\\User\\AppData\\Roaming\\Python\\Python37\\site-packages\\tensorflow_core\\contrib\\layers\\python\\layers\\layers.py:1634: flatten (from tensorflow.python.layers.core) is deprecated and will be removed in a future version.\n",
      "Instructions for updating:\n",
      "Use keras.layers.flatten instead.\n",
      "WARNING:tensorflow:From C:\\Users\\User\\SP code\\Optimization of DL inference\\inference.py:138: The name tf.Session is deprecated. Please use tf.compat.v1.Session instead.\n",
      "\n",
      "INFO:tensorflow:Restoring parameters from model_data/tensorflow/checkpoints/inception_v4/inception_v4.ckpt\n",
      "Image: 1 of 1\tAverage Time: 680.0\n",
      "Done!\n",
      "\n",
      "Preprocessing image: 1 of 1\n",
      "INFO:tensorflow:Scale of 0 disables regularizer.\n",
      "INFO:tensorflow:Restoring parameters from model_data/tensorflow/checkpoints/inception_v4/inception_v4.ckpt\n",
      "Image: 1 of 1\tAverage Time: 655.0\n",
      "[([655.0], [[0.947585940361023, 0.011890854686498642, 0.007262143772095442, 0.003191428491845727, 0.003110468154773116, 0.002808747813105583, 0.0014050430618226528, 0.0009503406472504139, 0.0008339511114172637, 0.0006610104464925826, 0.0006372711504809558, 0.0005837937933392823, 0.000532899925019592, 0.00038708021747879684, 0.00036915676901116967, 0.00032418358023278415, 0.0001592216285644099, 0.00014561921125277877, 9.920192678691819e-05, 9.074996341951191e-05]], [[65, 62, 58, 63, 56, 60, 54, 52, 390, 67, 61, 68, 53, 977, 66, 57, 34, 59, 45, 17]])]\n",
      "Skipping first inference...\n",
      "Preprocessing image: 1 of 1\n",
      "WARNING:tensorflow:From C:\\Users\\User\\SP code\\Optimization of DL inference\\preprocessing\\vgg_preprocessing.py:249: to_float (from tensorflow.python.ops.math_ops) is deprecated and will be removed in a future version.\n",
      "Instructions for updating:\n",
      "Use `tf.cast` instead.\n",
      "WARNING:tensorflow:From C:\\Users\\User\\SP code\\Optimization of DL inference\\preprocessing\\vgg_preprocessing.py:256: to_int32 (from tensorflow.python.ops.math_ops) is deprecated and will be removed in a future version.\n",
      "Instructions for updating:\n",
      "Use `tf.cast` instead.\n",
      "INFO:tensorflow:Scale of 0 disables regularizer.\n",
      "INFO:tensorflow:Restoring parameters from model_data/tensorflow/checkpoints/resnet_v1_152/resnet_v1_152.ckpt\n",
      "Image: 1 of 1\tAverage Time: 947.0\n",
      "Done!\n",
      "\n",
      "Preprocessing image: 1 of 1\n",
      "INFO:tensorflow:Scale of 0 disables regularizer.\n",
      "INFO:tensorflow:Restoring parameters from model_data/tensorflow/checkpoints/resnet_v1_152/resnet_v1_152.ckpt\n",
      "Image: 1 of 1\tAverage Time: 831.0\n",
      "[([831.0], [[0.953288197517395, 0.021613191813230515, 0.011321710422635078, 0.002980659483000636, 0.0026777817402035, 0.00220469874329865, 0.00197414867579937, 0.0014519455144181848, 0.0007499564671888947, 0.000533439451828599, 0.0004724227183032781, 0.0004649680922739208, 0.00015259483188856393, 5.596550181508064e-05, 1.1235450983804185e-05, 1.0770757398859132e-05, 8.531193088856526e-06, 6.693323939543916e-06, 4.869292752118781e-06, 3.287271056251484e-06]], [[65, 54, 62, 66, 63, 68, 58, 60, 390, 67, 52, 61, 53, 56, 59, 50, 57, 64, 977, 55]])]\n",
      "Skipping first inference...\n",
      "Preprocessing image: 1 of 1\n",
      "INFO:tensorflow:Scale of 0 disables regularizer.\n",
      "INFO:tensorflow:Restoring parameters from model_data/tensorflow/checkpoints/mobilenet_v1_1.0_224/mobilenet_v1_1.0_224.ckpt\n",
      "Image: 1 of 1\tAverage Time: 128.0\n",
      "Done!\n",
      "\n",
      "Preprocessing image: 1 of 1\n",
      "INFO:tensorflow:Scale of 0 disables regularizer.\n",
      "INFO:tensorflow:Restoring parameters from model_data/tensorflow/checkpoints/mobilenet_v1_1.0_224/mobilenet_v1_1.0_224.ckpt\n",
      "Image: 1 of 1\tAverage Time: 127.0\n",
      "[([127.0], [[0.8061113357543945, 0.07415837794542313, 0.0635707899928093, 0.01762666180729866, 0.016172634437680244, 0.005305825266987085, 0.005122875329107046, 0.003189890645444393, 0.0015160500770434737, 0.0010056188330054283, 0.0008061569533310831, 0.0007712427759543061, 0.0006385417655110359, 0.0005605952464975417, 0.0005431108293123543, 0.0004845171351917088, 0.00035872653825208545, 0.00025956379249691963, 0.00022450716642197222, 0.00017320564074907452]], [[65, 58, 34, 57, 54, 62, 33, 60, 63, 67, 53, 66, 50, 68, 363, 390, 48, 49, 52, 56]])]\n"
     ]
    }
   ],
   "source": [
    "model_name = 'inception_v4'\n",
    "model = inference.DNN_Model('tf', model_name, 'model_data/tensorflow/checkpoints/inception_v4/inception_v4.ckpt')\n",
    "results = model.time_model(['images/val/images/ILSVRC2012_val_00000001.JPEG'], 1, [])\n",
    "print(results)\n",
    "\n",
    "model_name = 'resnet_v1_152'\n",
    "model = inference.DNN_Model('tf', model_name, 'model_data/tensorflow/checkpoints/resnet_v1_152/resnet_v1_152.ckpt')\n",
    "results = model.time_model(['images/val/images/ILSVRC2012_val_00000001.JPEG'], 1, [])\n",
    "print(results)\n",
    "\n",
    "model_name = 'mobilenet_v1'\n",
    "model = inference.DNN_Model('tf', model_name, 'model_data/tensorflow/checkpoints/mobilenet_v1_1.0_224/mobilenet_v1_1.0_224.ckpt')\n",
    "results = model.time_model(['images/val/images/ILSVRC2012_val_00000001.JPEG'], 1, [])\n",
    "print(results)"
   ]
  },
  {
   "cell_type": "markdown",
   "metadata": {},
   "source": [
    "<font size=\"5\">**Conecting to MySQL**</font>\n",
    "<br /><br />\n",
    "<font size=\"3\">This code can be used to check if connection to MySQL can be established. You should insert your own <font color = \"green\">hostname</font>, <font color = \"green\">username</font>, and <font color = \"green\">password</font>. These values should also be used in *connect_db* method in *database.py* file.</font>"
   ]
  },
  {
   "cell_type": "code",
   "execution_count": 4,
   "metadata": {},
   "outputs": [],
   "source": [
    "db = mysql.connect(\n",
    "    host = \"127.0.0.1\",\n",
    "    user = \"root\",\n",
    "    passwd = \"rootpwd\"\n",
    ")"
   ]
  },
  {
   "cell_type": "markdown",
   "metadata": {},
   "source": [
    "<font size=\"5\">**Obtaining inference results**</font>\n",
    "<br /><br />\n",
    "<font size=\"3\">This code retrieves checkpoints for the models and obtains <font color = \"green\">inference results</font> on selected images.</font>\n"
   ]
  },
  {
   "cell_type": "code",
   "execution_count": 5,
   "metadata": {
    "scrolled": true
   },
   "outputs": [
    {
     "name": "stdout",
     "output_type": "stream",
     "text": [
      "Skipping first inference...\n",
      "Preprocessing image: 1 of 1\n",
      "INFO:tensorflow:Scale of 0 disables regularizer.\n",
      "INFO:tensorflow:Restoring parameters from model_data/tensorflow/checkpoints/inception_v4/inception_v4.ckpt\n",
      "Image: 1 of 1\tAverage Time: 767.0\n",
      "Done!\n",
      "\n",
      "Preprocessing image: 1 of 10\n",
      "INFO:tensorflow:Scale of 0 disables regularizer.\n",
      "INFO:tensorflow:Restoring parameters from model_data/tensorflow/checkpoints/inception_v4/inception_v4.ckpt\n",
      "Image: 1 of 10\tAverage Time: 947.0\n",
      "Preprocessing image: 2 of 10\n",
      "INFO:tensorflow:Scale of 0 disables regularizer.\n",
      "INFO:tensorflow:Restoring parameters from model_data/tensorflow/checkpoints/inception_v4/inception_v4.ckpt\n",
      "Image: 2 of 10\tAverage Time: 819.0\n",
      "Preprocessing image: 3 of 10\n",
      "INFO:tensorflow:Scale of 0 disables regularizer.\n",
      "INFO:tensorflow:Restoring parameters from model_data/tensorflow/checkpoints/inception_v4/inception_v4.ckpt\n",
      "Image: 3 of 10\tAverage Time: 667.0\n",
      "Preprocessing image: 4 of 10\n",
      "INFO:tensorflow:Scale of 0 disables regularizer.\n",
      "INFO:tensorflow:Restoring parameters from model_data/tensorflow/checkpoints/inception_v4/inception_v4.ckpt\n",
      "Image: 4 of 10\tAverage Time: 647.0\n",
      "Preprocessing image: 5 of 10\n",
      "INFO:tensorflow:Scale of 0 disables regularizer.\n",
      "INFO:tensorflow:Restoring parameters from model_data/tensorflow/checkpoints/inception_v4/inception_v4.ckpt\n",
      "Image: 5 of 10\tAverage Time: 659.0\n",
      "Preprocessing image: 6 of 10\n",
      "INFO:tensorflow:Scale of 0 disables regularizer.\n",
      "INFO:tensorflow:Restoring parameters from model_data/tensorflow/checkpoints/inception_v4/inception_v4.ckpt\n",
      "Image: 6 of 10\tAverage Time: 1047.0\n",
      "Preprocessing image: 7 of 10\n",
      "INFO:tensorflow:Scale of 0 disables regularizer.\n",
      "INFO:tensorflow:Restoring parameters from model_data/tensorflow/checkpoints/inception_v4/inception_v4.ckpt\n",
      "Image: 7 of 10\tAverage Time: 834.0\n",
      "Preprocessing image: 8 of 10\n",
      "INFO:tensorflow:Scale of 0 disables regularizer.\n",
      "INFO:tensorflow:Restoring parameters from model_data/tensorflow/checkpoints/inception_v4/inception_v4.ckpt\n",
      "Image: 8 of 10\tAverage Time: 751.0\n",
      "Preprocessing image: 9 of 10\n",
      "INFO:tensorflow:Scale of 0 disables regularizer.\n",
      "INFO:tensorflow:Restoring parameters from model_data/tensorflow/checkpoints/inception_v4/inception_v4.ckpt\n",
      "Image: 9 of 10\tAverage Time: 767.0\n",
      "Preprocessing image: 10 of 10\n",
      "INFO:tensorflow:Scale of 0 disables regularizer.\n",
      "INFO:tensorflow:Restoring parameters from model_data/tensorflow/checkpoints/inception_v4/inception_v4.ckpt\n",
      "Image: 10 of 10\tAverage Time: 691.0\n",
      "Skipping first inference...\n",
      "Preprocessing image: 1 of 1\n",
      "INFO:tensorflow:Scale of 0 disables regularizer.\n",
      "INFO:tensorflow:Restoring parameters from model_data/tensorflow/checkpoints/resnet_v1_152/resnet_v1_152.ckpt\n",
      "Image: 1 of 1\tAverage Time: 910.0\n",
      "Done!\n",
      "\n",
      "Preprocessing image: 1 of 10\n",
      "INFO:tensorflow:Scale of 0 disables regularizer.\n",
      "INFO:tensorflow:Restoring parameters from model_data/tensorflow/checkpoints/resnet_v1_152/resnet_v1_152.ckpt\n",
      "Image: 1 of 10\tAverage Time: 819.0\n",
      "Preprocessing image: 2 of 10\n",
      "INFO:tensorflow:Scale of 0 disables regularizer.\n",
      "INFO:tensorflow:Restoring parameters from model_data/tensorflow/checkpoints/resnet_v1_152/resnet_v1_152.ckpt\n",
      "Image: 2 of 10\tAverage Time: 955.0\n",
      "Preprocessing image: 3 of 10\n",
      "INFO:tensorflow:Scale of 0 disables regularizer.\n",
      "INFO:tensorflow:Restoring parameters from model_data/tensorflow/checkpoints/resnet_v1_152/resnet_v1_152.ckpt\n",
      "Image: 3 of 10\tAverage Time: 911.0\n",
      "Preprocessing image: 4 of 10\n",
      "INFO:tensorflow:Scale of 0 disables regularizer.\n",
      "INFO:tensorflow:Restoring parameters from model_data/tensorflow/checkpoints/resnet_v1_152/resnet_v1_152.ckpt\n",
      "Image: 4 of 10\tAverage Time: 883.0\n",
      "Preprocessing image: 5 of 10\n",
      "INFO:tensorflow:Scale of 0 disables regularizer.\n",
      "INFO:tensorflow:Restoring parameters from model_data/tensorflow/checkpoints/resnet_v1_152/resnet_v1_152.ckpt\n",
      "Image: 5 of 10\tAverage Time: 851.0\n",
      "Preprocessing image: 6 of 10\n",
      "INFO:tensorflow:Scale of 0 disables regularizer.\n",
      "INFO:tensorflow:Restoring parameters from model_data/tensorflow/checkpoints/resnet_v1_152/resnet_v1_152.ckpt\n",
      "Image: 6 of 10\tAverage Time: 950.0\n",
      "Preprocessing image: 7 of 10\n",
      "INFO:tensorflow:Scale of 0 disables regularizer.\n",
      "INFO:tensorflow:Restoring parameters from model_data/tensorflow/checkpoints/resnet_v1_152/resnet_v1_152.ckpt\n",
      "Image: 7 of 10\tAverage Time: 855.0\n",
      "Preprocessing image: 8 of 10\n",
      "INFO:tensorflow:Scale of 0 disables regularizer.\n",
      "INFO:tensorflow:Restoring parameters from model_data/tensorflow/checkpoints/resnet_v1_152/resnet_v1_152.ckpt\n",
      "Image: 8 of 10\tAverage Time: 906.0\n",
      "Preprocessing image: 9 of 10\n",
      "INFO:tensorflow:Scale of 0 disables regularizer.\n",
      "INFO:tensorflow:Restoring parameters from model_data/tensorflow/checkpoints/resnet_v1_152/resnet_v1_152.ckpt\n",
      "Image: 9 of 10\tAverage Time: 875.0\n",
      "Preprocessing image: 10 of 10\n",
      "INFO:tensorflow:Scale of 0 disables regularizer.\n",
      "INFO:tensorflow:Restoring parameters from model_data/tensorflow/checkpoints/resnet_v1_152/resnet_v1_152.ckpt\n",
      "Image: 10 of 10\tAverage Time: 1070.0\n",
      "Skipping first inference...\n",
      "Preprocessing image: 1 of 1\n",
      "INFO:tensorflow:Scale of 0 disables regularizer.\n",
      "INFO:tensorflow:Restoring parameters from model_data/tensorflow/checkpoints/mobilenet_v1_1.0_224/mobilenet_v1_1.0_224.ckpt\n",
      "Image: 1 of 1\tAverage Time: 136.0\n",
      "Done!\n",
      "\n",
      "Preprocessing image: 1 of 10\n",
      "INFO:tensorflow:Scale of 0 disables regularizer.\n",
      "INFO:tensorflow:Restoring parameters from model_data/tensorflow/checkpoints/mobilenet_v1_1.0_224/mobilenet_v1_1.0_224.ckpt\n",
      "Image: 1 of 10\tAverage Time: 224.0\n",
      "Preprocessing image: 2 of 10\n",
      "INFO:tensorflow:Scale of 0 disables regularizer.\n",
      "INFO:tensorflow:Restoring parameters from model_data/tensorflow/checkpoints/mobilenet_v1_1.0_224/mobilenet_v1_1.0_224.ckpt\n",
      "Image: 2 of 10\tAverage Time: 136.0\n",
      "Preprocessing image: 3 of 10\n",
      "INFO:tensorflow:Scale of 0 disables regularizer.\n",
      "INFO:tensorflow:Restoring parameters from model_data/tensorflow/checkpoints/mobilenet_v1_1.0_224/mobilenet_v1_1.0_224.ckpt\n",
      "Image: 3 of 10\tAverage Time: 132.0\n",
      "Preprocessing image: 4 of 10\n",
      "INFO:tensorflow:Scale of 0 disables regularizer.\n",
      "INFO:tensorflow:Restoring parameters from model_data/tensorflow/checkpoints/mobilenet_v1_1.0_224/mobilenet_v1_1.0_224.ckpt\n",
      "Image: 4 of 10\tAverage Time: 124.0\n",
      "Preprocessing image: 5 of 10\n",
      "INFO:tensorflow:Scale of 0 disables regularizer.\n",
      "INFO:tensorflow:Restoring parameters from model_data/tensorflow/checkpoints/mobilenet_v1_1.0_224/mobilenet_v1_1.0_224.ckpt\n",
      "Image: 5 of 10\tAverage Time: 132.0\n",
      "Preprocessing image: 6 of 10\n",
      "INFO:tensorflow:Scale of 0 disables regularizer.\n",
      "INFO:tensorflow:Restoring parameters from model_data/tensorflow/checkpoints/mobilenet_v1_1.0_224/mobilenet_v1_1.0_224.ckpt\n",
      "Image: 6 of 10\tAverage Time: 128.0\n",
      "Preprocessing image: 7 of 10\n",
      "INFO:tensorflow:Scale of 0 disables regularizer.\n",
      "INFO:tensorflow:Restoring parameters from model_data/tensorflow/checkpoints/mobilenet_v1_1.0_224/mobilenet_v1_1.0_224.ckpt\n",
      "Image: 7 of 10\tAverage Time: 127.0\n",
      "Preprocessing image: 8 of 10\n",
      "INFO:tensorflow:Scale of 0 disables regularizer.\n",
      "INFO:tensorflow:Restoring parameters from model_data/tensorflow/checkpoints/mobilenet_v1_1.0_224/mobilenet_v1_1.0_224.ckpt\n",
      "Image: 8 of 10\tAverage Time: 200.0\n",
      "Preprocessing image: 9 of 10\n",
      "INFO:tensorflow:Scale of 0 disables regularizer.\n",
      "INFO:tensorflow:Restoring parameters from model_data/tensorflow/checkpoints/mobilenet_v1_1.0_224/mobilenet_v1_1.0_224.ckpt\n",
      "Image: 9 of 10\tAverage Time: 136.0\n",
      "Preprocessing image: 10 of 10\n",
      "INFO:tensorflow:Scale of 0 disables regularizer.\n",
      "INFO:tensorflow:Restoring parameters from model_data/tensorflow/checkpoints/mobilenet_v1_1.0_224/mobilenet_v1_1.0_224.ckpt\n",
      "Image: 10 of 10\tAverage Time: 135.0\n"
     ]
    }
   ],
   "source": [
    "model_i_name = 'inception_v4'\n",
    "model_i = inference.DNN_Model('tf', model_i_name, 'model_data/tensorflow/checkpoints/inception_v4/inception_v4.ckpt')\n",
    "\n",
    "model_r_name = 'resnet_v1_152'\n",
    "model_r = inference.DNN_Model('tf', model_r_name, 'model_data/tensorflow/checkpoints/resnet_v1_152/resnet_v1_152.ckpt')\n",
    "\n",
    "model_m_name = 'mobilenet_v1'\n",
    "model_m = inference.DNN_Model('tf', model_m_name, 'model_data/tensorflow/checkpoints/mobilenet_v1_1.0_224/mobilenet_v1_1.0_224.ckpt')\n",
    "\n",
    "models = [model_i, model_r, model_m]\n",
    "model_names = [model_i_name, model_r_name, model_m_name]\n",
    "results = []\n",
    "\n",
    "img_nums = []\n",
    "img_path_list = []\n",
    "img_labels = []\n",
    "for i in range(1, 11):                           # here, the range of images can be selected\n",
    "    img_nums.append(i)\n",
    "for i in range(len(img_nums)):\n",
    "    img_path, img_label = imgGen.get_image_data(img_nums[i])\n",
    "    img_path_list.append(img_path)\n",
    "    img_labels.append(img_label)\n",
    "for i in range(len(models)):\n",
    "    results.append(models[i].time_model(img_path_list, 1, []))                # 0 - inception, 1 - resnet, 2 - mobilenet"
   ]
  },
  {
   "cell_type": "markdown",
   "metadata": {},
   "source": [
    "<font size=\"3\">In these cells, results are processed to obtain <font color = \"green\">top-1</font> and <font color = \"green\">top-5 satisfaction (0 or 1)</font> for each image by each of the DNNs, as well as <font color = \"green\">inference times</font>."
   ]
  },
  {
   "cell_type": "code",
   "execution_count": 6,
   "metadata": {},
   "outputs": [],
   "source": [
    "top_1 = [[], [], []]\n",
    "top_5 = [[], [], []]\n",
    "performance = [[], [], []]"
   ]
  },
  {
   "cell_type": "code",
   "execution_count": 7,
   "metadata": {},
   "outputs": [],
   "source": [
    "for j in range(len(models)):\n",
    "    for i in range(len(img_nums)):\n",
    "        performance[j].append(results[j][i][0][0])\n",
    "        top_1[j].append(int(analysis.top_n_correct(np.array(results[j][i][1][0]), np.array(results[j][i][2][0]), img_labels[i], label_list, 1)))\n",
    "        top_5[j].append(int(analysis.top_n_correct(np.array(results[j][i][1][0]), np.array(results[j][i][2][0]), img_labels[i], label_list, 5)))"
   ]
  },
  {
   "cell_type": "markdown",
   "metadata": {},
   "source": [
    "<font size=\"5\">**Creating a database**</font>\n",
    "<br /><br />\n",
    "<font size=\"3\">Here, we create the database that will hold <font color = \"green\">image names</font> in the *images* table and <font color = \"green\">inference results</font> in the *exec_data* table.</font>\n"
   ]
  },
  {
   "cell_type": "code",
   "execution_count": 8,
   "metadata": {},
   "outputs": [],
   "source": [
    "db = mysql.connect(\n",
    "    host = \"127.0.0.1\",\n",
    "    user = \"root\",\n",
    "    passwd = \"rootpwd\"\n",
    ")\n",
    "\n",
    "cursor = db.cursor()\n",
    "\n",
    "cursor.execute(\"CREATE DATABASE IF NOT EXISTS inference\")\n",
    "\n",
    "db = mysql.connect(\n",
    "    host = \"127.0.0.1\",\n",
    "    user = \"root\",\n",
    "    passwd = \"rootpwd\",\n",
    "    database = \"inference\"\n",
    ")\n",
    "\n",
    "cursor = db.cursor()"
   ]
  },
  {
   "cell_type": "markdown",
   "metadata": {},
   "source": [
    "<font size=\"3\">Inserting the image data</font>"
   ]
  },
  {
   "cell_type": "code",
   "execution_count": 9,
   "metadata": {},
   "outputs": [],
   "source": [
    "cursor.execute(\"CREATE TABLE IF NOT EXISTS images (img_num int(5) NOT NULL, filename varchar(35) NOT NULL, KEY img_num (img_num)) ENGINE=InnoDB;\")\n",
    "\n",
    "filename = []\n",
    "\n",
    "for i in range(len(img_nums)):\n",
    "    filename.append(imgGen.get_image_filename(img_nums[i]))\n",
    "for i in range(len(img_nums)):\n",
    "    query = \"INSERT INTO images (img_num, filename) VALUES (%s, %s)\"\n",
    "    values = (img_nums[i], filename[i])\n",
    "    cursor.execute(query, values)\n",
    "\n",
    "db.commit()"
   ]
  },
  {
   "cell_type": "markdown",
   "metadata": {},
   "source": [
    "<font size=\"3\">Inserting the inference results</font>"
   ]
  },
  {
   "cell_type": "code",
   "execution_count": 10,
   "metadata": {},
   "outputs": [],
   "source": [
    "cursor.execute(\"CREATE TABLE IF NOT EXISTS exec_data (img_num int(5) NOT NULL, model_name varchar(14) NOT NULL, top_1 int(1) NOT NULL, top_5 int(1) NOT NULL, performance int(7) NOT NULL, KEY img_num (img_num)) ENGINE=InnoDB;\")\n",
    "\n",
    "for i in range(len(img_nums)):\n",
    "    for j in range(len(models)):\n",
    "        query = \"INSERT INTO exec_data (img_num, model_name, top_1, top_5, performance) VALUES (%s, %s, %s, %s, %s)\"\n",
    "        values = (img_nums[i], model_names[j], top_1[j][i], top_5[j][i], performance[j][i])\n",
    "        cursor.execute(query, values)\n",
    "\n",
    "db.commit()"
   ]
  },
  {
   "cell_type": "markdown",
   "metadata": {},
   "source": [
    "<font size=\"5\">**Obtaining information from the database**</font>\n",
    "<br /><br />\n",
    "<font size=\"3\">We use *database.py* to obtain the <font color=\"green\">best top-1</font> and <font color=\"green\">top-5</font> models for each image.</font>"
   ]
  },
  {
   "cell_type": "code",
   "execution_count": 11,
   "metadata": {},
   "outputs": [],
   "source": [
    "import database as db"
   ]
  },
  {
   "cell_type": "code",
   "execution_count": 12,
   "metadata": {
    "scrolled": true
   },
   "outputs": [
    {
     "name": "stdout",
     "output_type": "stream",
     "text": [
      "Best top-1 model for img num '1' is \n",
      "mobilenet_v1\n",
      "\n",
      "\n",
      "Best top-5 model for img num ='1' is \n",
      "mobilenet_v1\n",
      "\n",
      "\n",
      "\n",
      "Best top-1 model for img num '2' is \n",
      "failed\n",
      "\n",
      "\n",
      "Best top-5 model for img num ='2' is \n",
      "mobilenet_v1\n",
      "\n",
      "\n",
      "\n",
      "Best top-1 model for img num '3' is \n",
      "mobilenet_v1\n",
      "\n",
      "\n",
      "Best top-5 model for img num ='3' is \n",
      "mobilenet_v1\n",
      "\n",
      "\n",
      "\n",
      "Best top-1 model for img num '4' is \n",
      "mobilenet_v1\n",
      "\n",
      "\n",
      "Best top-5 model for img num ='4' is \n",
      "mobilenet_v1\n",
      "\n",
      "\n",
      "\n",
      "Best top-1 model for img num '5' is \n",
      "inception_v4\n",
      "\n",
      "\n",
      "Best top-5 model for img num ='5' is \n",
      "mobilenet_v1\n",
      "\n",
      "\n",
      "\n",
      "Best top-1 model for img num '6' is \n",
      "inception_v4\n",
      "\n",
      "\n",
      "Best top-5 model for img num ='6' is \n",
      "inception_v4\n",
      "\n",
      "\n",
      "\n",
      "Best top-1 model for img num '7' is \n",
      "mobilenet_v1\n",
      "\n",
      "\n",
      "Best top-5 model for img num ='7' is \n",
      "mobilenet_v1\n",
      "\n",
      "\n",
      "\n",
      "Best top-1 model for img num '8' is \n",
      "failed\n",
      "\n",
      "\n",
      "Best top-5 model for img num ='8' is \n",
      "inception_v4\n",
      "\n",
      "\n",
      "\n",
      "Best top-1 model for img num '9' is \n",
      "mobilenet_v1\n",
      "\n",
      "\n",
      "Best top-5 model for img num ='9' is \n",
      "mobilenet_v1\n",
      "\n",
      "\n",
      "\n",
      "Best top-1 model for img num '10' is \n",
      "mobilenet_v1\n",
      "\n",
      "\n",
      "Best top-5 model for img num ='10' is \n",
      "mobilenet_v1\n",
      "\n",
      "\n",
      "\n"
     ]
    }
   ],
   "source": [
    "myDB = db.connect_db(\"inference\")\n",
    "list_model = [\"mobilenet_v1\", \"inception_v4\", \"resnet_v1_152\"]\n",
    "\n",
    "for i in range(len(img_nums)):\n",
    "    print('Best top-1 model for img num \\''+str(img_nums[i])+'\\' is ')\n",
    "    print(db.determine_best_top_n_model(\"inference\", img_nums[i], list_model, 1))\n",
    "    print('\\n' * 1)\n",
    "    print('Best top-5 model for img num =\\''+str(img_nums[i])+'\\' is ')\n",
    "    print(db.determine_best_top_n_model(\"inference\", img_nums[i], list_model, 5))\n",
    "    print('\\n' * 2)"
   ]
  },
  {
   "cell_type": "markdown",
   "metadata": {},
   "source": [
    "<font size=\"3\">This function prints out the contents of the *images* table of the database.</font>"
   ]
  },
  {
   "cell_type": "code",
   "execution_count": 13,
   "metadata": {},
   "outputs": [
    {
     "name": "stdout",
     "output_type": "stream",
     "text": [
      "(1, 'ILSVRC2012_val_00000001.JPEG')\n",
      "(2, 'ILSVRC2012_val_00000002.JPEG')\n",
      "(3, 'ILSVRC2012_val_00000003.JPEG')\n",
      "(4, 'ILSVRC2012_val_00000004.JPEG')\n",
      "(5, 'ILSVRC2012_val_00000005.JPEG')\n",
      "(6, 'ILSVRC2012_val_00000006.JPEG')\n",
      "(7, 'ILSVRC2012_val_00000007.JPEG')\n",
      "(8, 'ILSVRC2012_val_00000008.JPEG')\n",
      "(9, 'ILSVRC2012_val_00000009.JPEG')\n",
      "(10, 'ILSVRC2012_val_00000010.JPEG')\n"
     ]
    }
   ],
   "source": [
    "for i in range(len(filename)):\n",
    "    print(db.get_img_num_database(\"inference\", filename[i]))"
   ]
  },
  {
   "cell_type": "code",
   "execution_count": null,
   "metadata": {},
   "outputs": [],
   "source": []
  }
 ],
 "metadata": {
  "kernelspec": {
   "display_name": "Python 3",
   "language": "python",
   "name": "python3"
  },
  "language_info": {
   "codemirror_mode": {
    "name": "ipython",
    "version": 3
   },
   "file_extension": ".py",
   "mimetype": "text/x-python",
   "name": "python",
   "nbconvert_exporter": "python",
   "pygments_lexer": "ipython3",
   "version": "3.7.7"
  }
 },
 "nbformat": 4,
 "nbformat_minor": 2
}
