{
 "cells": [
  {
   "cell_type": "markdown",
   "metadata": {},
   "source": [
    "# Feature Testing\n",
    "We iteratively remove one of the features, and note the testing accuracy to find out the most important features"
   ]
  },
  {
   "cell_type": "code",
   "execution_count": 1,
   "metadata": {},
   "outputs": [],
   "source": [
    "import mysql.connector as mysql\n",
    "import database as db\n",
    "import csv, sys\n",
    "import image_generator\n",
    "import new_feature_extractor\n",
    "import numpy as np\n",
    "import os\n",
    "import cv2\n",
    "import math\n",
    "import pandas as pd\n",
    "import matplotlib.pyplot as plt\n",
    "from sklearn.model_selection import train_test_split\n",
    "import warnings\n",
    "warnings.filterwarnings('ignore')\n",
    "from sklearn.tree import DecisionTreeClassifier\n",
    "from sklearn.linear_model import LogisticRegression\n",
    "from sklearn.model_selection import GridSearchCV\n",
    "from sklearn.preprocessing import MinMaxScaler\n",
    "import sklearn.preprocessing as preprocessing\n",
    "from sklearn import tree\n",
    "from sklearn import metrics"
   ]
  },
  {
   "cell_type": "markdown",
   "metadata": {},
   "source": [
    "Manually selected training and testing datasets"
   ]
  },
  {
   "cell_type": "code",
   "execution_count": 2,
   "metadata": {},
   "outputs": [],
   "source": [
    "train_images = [3, 4, 8, 9, 12, 13, 14, 18, 23, 27, 28, 29, 30, 35, 37, 40, 44, 46, 48, 49, 53, 55, 56, 61, 62, 64, 67, 73, 75, 79, 80, 85, 91, 94, 97, 1, 2, 5, 7, 11, 16, 17, 21, 22, 25, 32, 33, 41, 42, 47, 58, 59, 63, 65, 68, 71, 74, 76, 77, 78, 81, 83, 84, 86, 88, 90, 93, 96, 100, 105]\n",
    "test_images = [128, 130, 133, 143, 147, 149, 153, 157, 158, 161, 168, 174, 178, 208, 211, 127, 131, 134, 135, 137, 138, 146, 148, 151, 160, 165, 166, 169, 196, 201]"
   ]
  },
  {
   "cell_type": "code",
   "execution_count": 3,
   "metadata": {},
   "outputs": [
    {
     "data": {
      "text/html": [
       "<div>\n",
       "<style scoped>\n",
       "    .dataframe tbody tr th:only-of-type {\n",
       "        vertical-align: middle;\n",
       "    }\n",
       "\n",
       "    .dataframe tbody tr th {\n",
       "        vertical-align: top;\n",
       "    }\n",
       "\n",
       "    .dataframe thead th {\n",
       "        text-align: right;\n",
       "    }\n",
       "</style>\n",
       "<table border=\"1\" class=\"dataframe\">\n",
       "  <thead>\n",
       "    <tr style=\"text-align: right;\">\n",
       "      <th></th>\n",
       "      <th>filename</th>\n",
       "      <th>Mobilenet_v1</th>\n",
       "      <th>Inception_v4</th>\n",
       "      <th>Resnet_v1_152</th>\n",
       "      <th>kp_surf</th>\n",
       "      <th>average_perceived_brightness</th>\n",
       "      <th>contrast</th>\n",
       "      <th>area_by_perim</th>\n",
       "      <th>aspect_ratio</th>\n",
       "      <th>edge_length1</th>\n",
       "      <th>hue1</th>\n",
       "    </tr>\n",
       "  </thead>\n",
       "  <tbody>\n",
       "    <tr>\n",
       "      <th>0</th>\n",
       "      <td>ILSVRC2012_val_00000001.JPEG</td>\n",
       "      <td>1</td>\n",
       "      <td>0</td>\n",
       "      <td>0</td>\n",
       "      <td>0.205671</td>\n",
       "      <td>0.055078</td>\n",
       "      <td>-0.444094</td>\n",
       "      <td>-0.418116</td>\n",
       "      <td>0.517548</td>\n",
       "      <td>-0.611463</td>\n",
       "      <td>-0.369982</td>\n",
       "    </tr>\n",
       "    <tr>\n",
       "      <th>1</th>\n",
       "      <td>ILSVRC2012_val_00000002.JPEG</td>\n",
       "      <td>0</td>\n",
       "      <td>0</td>\n",
       "      <td>0</td>\n",
       "      <td>0.221067</td>\n",
       "      <td>-0.291442</td>\n",
       "      <td>-0.397891</td>\n",
       "      <td>-0.462964</td>\n",
       "      <td>-0.060948</td>\n",
       "      <td>-0.595736</td>\n",
       "      <td>-0.508507</td>\n",
       "    </tr>\n",
       "    <tr>\n",
       "      <th>2</th>\n",
       "      <td>ILSVRC2012_val_00000003.JPEG</td>\n",
       "      <td>1</td>\n",
       "      <td>0</td>\n",
       "      <td>0</td>\n",
       "      <td>0.066978</td>\n",
       "      <td>-0.082052</td>\n",
       "      <td>-0.066837</td>\n",
       "      <td>0.321428</td>\n",
       "      <td>-0.076903</td>\n",
       "      <td>0.702114</td>\n",
       "      <td>0.110392</td>\n",
       "    </tr>\n",
       "    <tr>\n",
       "      <th>3</th>\n",
       "      <td>ILSVRC2012_val_00000004.JPEG</td>\n",
       "      <td>1</td>\n",
       "      <td>0</td>\n",
       "      <td>0</td>\n",
       "      <td>-0.267721</td>\n",
       "      <td>0.935766</td>\n",
       "      <td>0.359978</td>\n",
       "      <td>0.874717</td>\n",
       "      <td>0.489210</td>\n",
       "      <td>1.549822</td>\n",
       "      <td>0.800613</td>\n",
       "    </tr>\n",
       "    <tr>\n",
       "      <th>4</th>\n",
       "      <td>ILSVRC2012_val_00000005.JPEG</td>\n",
       "      <td>0</td>\n",
       "      <td>1</td>\n",
       "      <td>0</td>\n",
       "      <td>0.219072</td>\n",
       "      <td>-0.368258</td>\n",
       "      <td>-0.376495</td>\n",
       "      <td>-0.283553</td>\n",
       "      <td>-0.299015</td>\n",
       "      <td>-0.475347</td>\n",
       "      <td>-0.364204</td>\n",
       "    </tr>\n",
       "  </tbody>\n",
       "</table>\n",
       "</div>"
      ],
      "text/plain": [
       "                       filename  Mobilenet_v1  Inception_v4  Resnet_v1_152  \\\n",
       "0  ILSVRC2012_val_00000001.JPEG             1             0              0   \n",
       "1  ILSVRC2012_val_00000002.JPEG             0             0              0   \n",
       "2  ILSVRC2012_val_00000003.JPEG             1             0              0   \n",
       "3  ILSVRC2012_val_00000004.JPEG             1             0              0   \n",
       "4  ILSVRC2012_val_00000005.JPEG             0             1              0   \n",
       "\n",
       "    kp_surf  average_perceived_brightness  contrast  area_by_perim  \\\n",
       "0  0.205671                      0.055078 -0.444094      -0.418116   \n",
       "1  0.221067                     -0.291442 -0.397891      -0.462964   \n",
       "2  0.066978                     -0.082052 -0.066837       0.321428   \n",
       "3 -0.267721                      0.935766  0.359978       0.874717   \n",
       "4  0.219072                     -0.368258 -0.376495      -0.283553   \n",
       "\n",
       "   aspect_ratio  edge_length1      hue1  \n",
       "0      0.517548     -0.611463 -0.369982  \n",
       "1     -0.060948     -0.595736 -0.508507  \n",
       "2     -0.076903      0.702114  0.110392  \n",
       "3      0.489210      1.549822  0.800613  \n",
       "4     -0.299015     -0.475347 -0.364204  "
      ]
     },
     "execution_count": 3,
     "metadata": {},
     "output_type": "execute_result"
    }
   ],
   "source": [
    "data = pd.read_csv(\"feature_values_normalized.csv\") #My generated file with normalized and scaled values\n",
    "data.head()"
   ]
  },
  {
   "cell_type": "code",
   "execution_count": 4,
   "metadata": {},
   "outputs": [],
   "source": [
    "temp = [x-1 for x in train_images]\n",
    "train = data.iloc[temp]\n",
    "temp = [x-1 for x in test_images]\n",
    "test = data.iloc[temp]"
   ]
  },
  {
   "cell_type": "code",
   "execution_count": 5,
   "metadata": {},
   "outputs": [],
   "source": [
    "X_train = train.drop(['Mobilenet_v1', 'Inception_v4', 'Resnet_v1_152', 'filename'], axis = 1)\n",
    "X_test = test.drop(['Mobilenet_v1', 'Inception_v4', 'Resnet_v1_152', 'filename'], axis = 1)\n",
    "Y_train = train[['Mobilenet_v1']]\n",
    "Y_test = test[['Mobilenet_v1']]"
   ]
  },
  {
   "cell_type": "code",
   "execution_count": 6,
   "metadata": {},
   "outputs": [],
   "source": [
    "features = list(X_train.columns)\n",
    "dt_accs = {}\n",
    "lr_accs = {}"
   ]
  },
  {
   "cell_type": "code",
   "execution_count": 7,
   "metadata": {},
   "outputs": [],
   "source": [
    "for x in features:\n",
    "    train = X_train.drop([x], axis = 1)\n",
    "    test = X_test.drop([x], axis = 1)\n",
    "    tree_model = DecisionTreeClassifier()\n",
    "    tree_model.fit(train, Y_train)\n",
    "    log_reg_model = LogisticRegression()\n",
    "    log_reg_model.fit(train, Y_train)\n",
    "    dt_accs[x] = tree_model.score(test, Y_test)*100\n",
    "    lr_accs[x] = log_reg_model.score(test, Y_test)*100"
   ]
  },
  {
   "cell_type": "code",
   "execution_count": 8,
   "metadata": {},
   "outputs": [
    {
     "data": {
      "text/plain": [
       "{'kp_surf': 53.333333333333336,\n",
       " 'average_perceived_brightness': 56.666666666666664,\n",
       " 'contrast': 66.66666666666666,\n",
       " 'area_by_perim': 50.0,\n",
       " 'aspect_ratio': 56.666666666666664,\n",
       " 'edge_length1': 56.666666666666664,\n",
       " 'hue1': 53.333333333333336}"
      ]
     },
     "execution_count": 8,
     "metadata": {},
     "output_type": "execute_result"
    }
   ],
   "source": [
    "dt_accs"
   ]
  },
  {
   "cell_type": "code",
   "execution_count": 9,
   "metadata": {},
   "outputs": [
    {
     "data": {
      "text/plain": [
       "{'kp_surf': 83.33333333333334,\n",
       " 'average_perceived_brightness': 83.33333333333334,\n",
       " 'contrast': 83.33333333333334,\n",
       " 'area_by_perim': 83.33333333333334,\n",
       " 'aspect_ratio': 83.33333333333334,\n",
       " 'edge_length1': 83.33333333333334,\n",
       " 'hue1': 83.33333333333334}"
      ]
     },
     "execution_count": 9,
     "metadata": {},
     "output_type": "execute_result"
    }
   ],
   "source": [
    "lr_accs"
   ]
  },
  {
   "cell_type": "code",
   "execution_count": 10,
   "metadata": {},
   "outputs": [
    {
     "data": {
      "text/plain": [
       "7"
      ]
     },
     "execution_count": 10,
     "metadata": {},
     "output_type": "execute_result"
    }
   ],
   "source": [
    "tree_model.tree_.max_depth"
   ]
  },
  {
   "cell_type": "code",
   "execution_count": 11,
   "metadata": {},
   "outputs": [
    {
     "data": {
      "image/png": "[encoded data removed]",
      "text/plain": [
       "<Figure size 432x288 with 1 Axes>"
      ]
     },
     "metadata": {
      "needs_background": "light"
     },
     "output_type": "display_data"
    }
   ],
   "source": [
    "plt.bar(range(len(dt_accs)), list(dt_accs.values()), align='center')\n",
    "plt.xticks(range(len(dt_accs)), list(dt_accs.keys()))\n",
    "plt.xticks(rotation=-45, ha='left')\n",
    "plt.title('Decision Tree')\n",
    "plt.ylabel('Testing Accuracy, %')\n",
    "plt.xlabel('Dropped Feature')\n",
    "plt.show()"
   ]
  },
  {
   "cell_type": "code",
   "execution_count": 12,
   "metadata": {
    "scrolled": false
   },
   "outputs": [
    {
     "data": {
      "image/png": "[encoded data removed]",
      "text/plain": [
       "<Figure size 432x288 with 1 Axes>"
      ]
     },
     "metadata": {
      "needs_background": "light"
     },
     "output_type": "display_data"
    }
   ],
   "source": [
    "plt.bar(range(len(lr_accs)), list(lr_accs.values()), align='center')\n",
    "plt.xticks(range(len(lr_accs)), list(lr_accs.keys()))\n",
    "plt.xticks(rotation=-45, ha='left')\n",
    "plt.title('Logistic Regression')\n",
    "plt.ylabel('Testing Accuracy, %')\n",
    "plt.xlabel('Dropped Feature')\n",
    "plt.show()"
   ]
  },
  {
   "cell_type": "markdown",
   "metadata": {},
   "source": [
    "Now we drop every feature, except one, and repeat tests"
   ]
  },
  {
   "cell_type": "code",
   "execution_count": 13,
   "metadata": {},
   "outputs": [],
   "source": [
    "dt_accs = {}\n",
    "lr_accs = {}\n",
    "for x in features:\n",
    "    train = X_train[[x]]\n",
    "    test = X_test[[x]]\n",
    "    tree_model = DecisionTreeClassifier()\n",
    "    tree_model.fit(train, Y_train)\n",
    "    log_reg_model = LogisticRegression()\n",
    "    log_reg_model.fit(train, Y_train)\n",
    "    dt_accs[x] = tree_model.score(test, Y_test)*100\n",
    "    lr_accs[x] = log_reg_model.score(test, Y_test)*100"
   ]
  },
  {
   "cell_type": "code",
   "execution_count": 14,
   "metadata": {},
   "outputs": [
    {
     "data": {
      "image/png": "[encoded data removed]",
      "text/plain": [
       "<Figure size 432x288 with 1 Axes>"
      ]
     },
     "metadata": {
      "needs_background": "light"
     },
     "output_type": "display_data"
    }
   ],
   "source": [
    "plt.bar(range(len(dt_accs)), list(dt_accs.values()), align='center')\n",
    "plt.xticks(range(len(dt_accs)), list(dt_accs.keys()))\n",
    "plt.xticks(rotation=-45, ha='left')\n",
    "plt.title('Decision Tree')\n",
    "plt.ylabel('Testing Accuracy, %')\n",
    "plt.xlabel('Used Feature')\n",
    "plt.show()"
   ]
  },
  {
   "cell_type": "code",
   "execution_count": 15,
   "metadata": {},
   "outputs": [
    {
     "data": {
      "image/png": "[encoded data removed]",
      "text/plain": [
       "<Figure size 432x288 with 1 Axes>"
      ]
     },
     "metadata": {
      "needs_background": "light"
     },
     "output_type": "display_data"
    }
   ],
   "source": [
    "plt.bar(range(len(lr_accs)), list(lr_accs.values()), align='center')\n",
    "plt.xticks(range(len(lr_accs)), list(lr_accs.keys()))\n",
    "plt.xticks(rotation=-45, ha='left')\n",
    "plt.title('Logistic Regression')\n",
    "plt.ylabel('Testing Accuracy, %')\n",
    "plt.xlabel('Used Feature')\n",
    "plt.show()"
   ]
  },
  {
   "cell_type": "code",
   "execution_count": 16,
   "metadata": {},
   "outputs": [
    {
     "data": {
      "text/plain": [
       "{'kp_surf': 73.33333333333333,\n",
       " 'average_perceived_brightness': 56.666666666666664,\n",
       " 'contrast': 66.66666666666666,\n",
       " 'area_by_perim': 53.333333333333336,\n",
       " 'aspect_ratio': 66.66666666666666,\n",
       " 'edge_length1': 66.66666666666666,\n",
       " 'hue1': 63.33333333333333}"
      ]
     },
     "execution_count": 16,
     "metadata": {},
     "output_type": "execute_result"
    }
   ],
   "source": [
    " dt_accs"
   ]
  },
  {
   "cell_type": "code",
   "execution_count": 17,
   "metadata": {},
   "outputs": [
    {
     "data": {
      "text/plain": [
       "{'kp_surf': 83.33333333333334,\n",
       " 'average_perceived_brightness': 83.33333333333334,\n",
       " 'contrast': 83.33333333333334,\n",
       " 'area_by_perim': 83.33333333333334,\n",
       " 'aspect_ratio': 83.33333333333334,\n",
       " 'edge_length1': 83.33333333333334,\n",
       " 'hue1': 83.33333333333334}"
      ]
     },
     "execution_count": 17,
     "metadata": {},
     "output_type": "execute_result"
    }
   ],
   "source": [
    "lr_accs"
   ]
  },
  {
   "cell_type": "code",
   "execution_count": 18,
   "metadata": {},
   "outputs": [
    {
     "name": "stdout",
     "output_type": "stream",
     "text": [
      "Testing accuracy of the Decision Tree: 63.33333333333333\n",
      "Testing accuracy of the Logistic Regression: 83.33333333333334\n"
     ]
    }
   ],
   "source": [
    "dt_accs = {}\n",
    "lr_accs = {}\n",
    "train = X_train[['average_perceived_brightness', 'kp_surf']]\n",
    "test = X_test[['average_perceived_brightness', 'kp_surf']]\n",
    "tree_model = DecisionTreeClassifier()\n",
    "tree_model.fit(train, Y_train)\n",
    "log_reg_model = LogisticRegression()\n",
    "log_reg_model.fit(train, Y_train)\n",
    "print('Testing accuracy of the Decision Tree:', tree_model.score(test, Y_test)*100)\n",
    "print('Testing accuracy of the Logistic Regression:', log_reg_model.score(test, Y_test)*100)"
   ]
  },
  {
   "cell_type": "code",
   "execution_count": 19,
   "metadata": {},
   "outputs": [
    {
     "name": "stdout",
     "output_type": "stream",
     "text": [
      "70.0\n",
      "83.33333333333334\n"
     ]
    }
   ],
   "source": [
    "train = X_train.drop(['contrast'], axis = 1)\n",
    "test = X_test.drop(['contrast'], axis = 1)\n",
    "tree_model = DecisionTreeClassifier()\n",
    "tree_model.fit(train, Y_train)\n",
    "log_reg_model = LogisticRegression()\n",
    "log_reg_model.fit(train, Y_train)\n",
    "print(tree_model.score(test, Y_test)*100)\n",
    "print(log_reg_model.score(test, Y_test)*100)"
   ]
  },
  {
   "cell_type": "code",
   "execution_count": null,
   "metadata": {},
   "outputs": [],
   "source": [
    "[1921,2732,217,519,745,2941,2622,1693,1987,739,2765,3585,997,1616,596,3063,2710,4383,3570,2247,650,2852,2974,1733,265,2532,84,117,4453,450,2848,283,256,1297,4302,4980,685,2180,2031,557,1494,2368,1779,2144,358,2208,596,1053,4421,2941,4386,4689,217,519,1815,2419,997,1616,1631,1584,493,4856,1826,1294,1766,1322,4540,2036,1097,2256,3427,1681,1526,1963,2566,2208,1815,2941,4386,1778,2765,2148,3507,732,1053,3540,4421,1616,1584,3878,295,3466,316,4607,1419,428,125,3249,33,2450,1027,3155,2735,2693,1659]"
   ]
  }
 ],
 "metadata": {
  "kernelspec": {
   "display_name": "esrg",
   "language": "python",
   "name": "esrg"
  },
  "language_info": {
   "codemirror_mode": {
    "name": "ipython",
    "version": 3
   },
   "file_extension": ".py",
   "mimetype": "text/x-python",
   "name": "python",
   "nbconvert_exporter": "python",
   "pygments_lexer": "ipython3",
   "version": "3.6.12"
  }
 },
 "nbformat": 4,
 "nbformat_minor": 4
}
