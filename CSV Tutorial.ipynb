{
 "cells": [
  {
   "cell_type": "markdown",
   "metadata": {},
   "source": [
    "<font size=\"5\">**Connecting to the database**</font>\n",
    "<br /><br />\n",
    "<font size=\"3\">First, we import the necessary libraries.</font>"
   ]
  },
  {
   "cell_type": "code",
   "execution_count": 4,
   "metadata": {},
   "outputs": [],
   "source": [
    "#!pip install tqdm\n",
    "#!pip install opencv-python\n",
    "#!pip install matplotlib\n",
    "#!pip install scipy\n",
    "import mysql.connector as mysql\n",
    "import database as db\n",
    "import csv, sys\n",
    "import image_generator\n",
    "import feature_extractor\n",
    "import numpy as np\n",
    "import os\n",
    "#os.environ[\"CUDA_VISIBLE_DEVICES\"]=\"-1\"    \n",
    "#!unset CUDA_VISIBLE_DEVICES"
   ]
  },
  {
   "cell_type": "markdown",
   "metadata": {},
   "source": [
    "<font size=\"3\">Now, we establish the connection.</font>"
   ]
  },
  {
   "cell_type": "code",
   "execution_count": 5,
   "metadata": {},
   "outputs": [],
   "source": [
    "myDB = db.connect_db(\"inference\")\n",
    "list_model = [\"mobilenet_v1\", \"inception_v4\", \"resnet_v1_152\"]"
   ]
  },
  {
   "cell_type": "markdown",
   "metadata": {},
   "source": [
    "<font size=\"5\">**Extracting the features**</font>"
   ]
  },
  {
   "cell_type": "markdown",
   "metadata": {},
   "source": [
    "<font size=\"3\">We start the *image generator* class and choose the range of images.</font>"
   ]
  },
  {
   "cell_type": "code",
   "execution_count": 6,
   "metadata": {
    "scrolled": true
   },
   "outputs": [
    {
     "name": "stdout",
     "output_type": "stream",
     "text": [
      "images/val/images\\ILSVRC2012_val_00026933.JPEG barbell\n",
      "images/val/images\\ILSVRC2012_val_00048866.JPEG planetarium\n",
      "images/val/images\\ILSVRC2012_val_00019604.JPEG trifle\n",
      "images/val/images\\ILSVRC2012_val_00024206.JPEG Yorkshire terrier\n",
      "images/val/images\\ILSVRC2012_val_00008016.JPEG hand-held computer, hand-held microcomputer\n",
      "images/val/images\\ILSVRC2012_val_00014032.JPEG Gordon setter\n",
      "images/val/images\\ILSVRC2012_val_00038813.JPEG bikini, two-piece\n",
      "images/val/images\\ILSVRC2012_val_00032139.JPEG sea slug, nudibranch\n",
      "images/val/images\\ILSVRC2012_val_00040766.JPEG black-footed ferret, ferret, Mustela nigripes\n",
      "images/val/images\\ILSVRC2012_val_00024053.JPEG toy terrier\n"
     ]
    }
   ],
   "source": [
    "image_generator.main()\n",
    "imgGen = image_generator.ImageGenerator('images/val/images', 'images/val/val.txt', 'images/val/synset_words.txt')\n",
    "label_list = imgGen.get_label_list() "
   ]
  },
  {
   "cell_type": "code",
   "execution_count": 7,
   "metadata": {},
   "outputs": [],
   "source": [
    "img_nums = []\n",
    "for i in range(1, 200):                 # the range of images can be selected here\n",
    "    img_nums.append(i)\n",
    "\n",
    "img_paths = []\n",
    "filenames = []\n",
    "for i in range(len(img_nums)):\n",
    "    img_path, _ = imgGen.get_image_data(img_nums[i])\n",
    "    img_paths.append(img_path)                                             # we obtain the image paths and filenames\n",
    "for i in range(len(img_nums)):\n",
    "    img_name = imgGen.get_image_filename(img_nums[i])\n",
    "    filenames.append(img_name)"
   ]
  },
  {
   "cell_type": "markdown",
   "metadata": {},
   "source": [
    "<font size=\"3\">Extracting the <font color=\"green\">seven</font> selected features from the images.</font>"
   ]
  },
  {
   "cell_type": "code",
   "execution_count": 8,
   "metadata": {
    "scrolled": true
   },
   "outputs": [
    {
     "name": "stdout",
     "output_type": "stream",
     "text": [
      "199\n"
     ]
    },
    {
     "data": {
      "image/png": "[encoded data removed]",
      "text/plain": [
       "<Figure size 432x288 with 1 Axes>"
      ]
     },
     "metadata": {
      "needs_background": "light"
     },
     "output_type": "display_data"
    }
   ],
   "source": [
    "features_list = []                            # this list hold features of all 20k images\n",
    "\n",
    "for i in range(len(img_paths)):\n",
    "    filename = img_paths[i]\n",
    "    features_list.append(feature_extractor.extract_features(filename))\n",
    "print(len(features_list))"
   ]
  },
  {
   "cell_type": "markdown",
   "metadata": {},
   "source": [
    "<font size=\"3\">Normalizing and standardizing the data.</font>"
   ]
  },
  {
   "cell_type": "code",
   "execution_count": 9,
   "metadata": {},
   "outputs": [],
   "source": [
    "#import sklearn.preprocessing as preprocessing\n",
    "#features_list1 = np.asarray(features_list)\n",
    "#min_max_scaler = preprocessing.MinMaxScaler(feature_range = (0, 1))        # scaling of features 0-1\n",
    "#features_list1 = min_max_scaler.fit_transform(features_list1)"
   ]
  },
  {
   "cell_type": "code",
   "execution_count": 10,
   "metadata": {},
   "outputs": [],
   "source": [
    "import sklearn.preprocessing as preprocessing\n",
    "\n",
    "features_list = preprocessing.normalize(features_list)\n",
    "features_list = preprocessing.scale(features_list)"
   ]
  },
  {
   "cell_type": "code",
   "execution_count": 11,
   "metadata": {},
   "outputs": [],
   "source": [
    "myDB = db.connect_db(\"inference\")\n",
    "list_model = [\"mobilenet_v1\", \"inception_v4\", \"resnet_v1_152\"]"
   ]
  },
  {
   "cell_type": "markdown",
   "metadata": {},
   "source": [
    "<font size=\"5\">**Determining the best <font color=\"green\">top-1</font> and <font color=\"green\">top-5</font> model for each image**</font>"
   ]
  },
  {
   "cell_type": "markdown",
   "metadata": {},
   "source": [
    "<font size=\"3\">Connecting to the <font color=\"green\">database</font> to determine the best top-1 and top-5 models for each image.</font>"
   ]
  },
  {
   "cell_type": "code",
   "execution_count": 12,
   "metadata": {},
   "outputs": [],
   "source": [
    "best_top_1 = []\n",
    "best_top_5 = []\n",
    "list_model = [\"mobilenet_v1\", \"inception_v4\", \"resnet_v1_152\"]\n",
    "for i in range(len(img_nums)):\n",
    "\n",
    "    best_top_1.append(db.determine_best_top_n_model(\"inference\", img_nums[i], list_model, 1))  # best top-1 model for the image\n",
    "\n",
    "    best_top_5.append(db.determine_best_top_n_model(\"inference\", img_nums[i], list_model, 5))  # best top-5 model for the image"
   ]
  },
  {
   "cell_type": "code",
   "execution_count": 12,
   "metadata": {},
   "outputs": [],
   "source": [
    "top_1_best_models = []              # appending the values representing the best top-1 model\n",
    "for i in range(len(best_top_1)):\n",
    "    if best_top_1[i] == 'mobilenet_v1':\n",
    "        top_1_best_models.append([1, 0, 0])\n",
    "    elif best_top_1[i] == 'inception_v4':\n",
    "        top_1_best_models.append([0, 1, 0])\n",
    "    elif best_top_1[i] == 'resnet_v1_152':\n",
    "        top_1_best_models.append([0, 0, 1])\n",
    "    elif best_top_1[i] == 'failed':\n",
    "        top_1_best_models.append([0, 0, 0])"
   ]
  },
  {
   "cell_type": "markdown",
   "metadata": {},
   "source": [
    "<font size=\"5\">**Writing the data to a csv file**</font>\n",
    "<br /><br />\n",
    "<font size=\"3\">Creating the best <font color=\"green\">top-1</font> model csv.</font>"
   ]
  },
  {
   "cell_type": "code",
   "execution_count": 13,
   "metadata": {},
   "outputs": [],
   "source": [
    "filename = 'all_new_features_hier_norm_top_1.csv'\n",
    "with open('all_new_features_hier_norm_top_1.csv', mode='w', newline='') as featuresFile1:\n",
    "    features_writer = csv.writer(featuresFile1, delimiter=',', quotechar='\"', quoting=csv.QUOTE_MINIMAL)\n",
    "\n",
    "    features_writer.writerow(['filename', 'Mobilenet_v1', 'Inception_v4', 'Resnet_v1_152', 'kp_surf',\n",
    "                              'average_perceived_brightness', 'contrast', 'area_by_perim', 'aspect_ratio', 'edge_length1', \n",
    "                             'hue1'])\n",
    "    for i in range(len(features_list)):\n",
    "        row = ([filenames[i], top_1_best_models[i][0], top_1_best_models[i][1], top_1_best_models[i][2], features_list[i][0], features_list[i][1], features_list[i][2],\n",
    "               features_list[i][3], features_list[i][4], features_list[i][5], features_list[i][6]])\n",
    "        features_writer.writerow(row)"
   ]
  },
  {
   "cell_type": "markdown",
   "metadata": {},
   "source": [
    "<font size=\"3\">Completing the same operation for <font color=\"green\">top-5</font>.</font>"
   ]
  },
  {
   "cell_type": "code",
   "execution_count": 14,
   "metadata": {},
   "outputs": [],
   "source": [
    "top_5_best_models = []                                        # this part is for the best top 5 model\n",
    "for i in range(len(best_top_5)):\n",
    "    if best_top_5[i] == 'mobilenet_v1':\n",
    "        top_5_best_models.append([1, 0, 0])\n",
    "    elif best_top_5[i] == 'inception_v4':\n",
    "        top_5_best_models.append([0, 1, 0])\n",
    "    elif best_top_5[i] == 'resnet_v1_152':\n",
    "        top_5_best_models.append([0, 0, 1])\n",
    "    elif best_top_5[i] == 'failed':\n",
    "        top_5_best_models.append([0, 0, 0])"
   ]
  },
  {
   "cell_type": "code",
   "execution_count": 15,
   "metadata": {},
   "outputs": [],
   "source": [
    "filename = 'all_new_features_hier_norm_top_5.csv'\n",
    "with open('all_new_features_hier_norm_top_5.csv', mode='w', newline='') as featuresFile2:\n",
    "    features_writer = csv.writer(featuresFile2, delimiter=',', quotechar='\"', quoting=csv.QUOTE_MINIMAL)\n",
    "\n",
    "    features_writer.writerow(['filename', 'Mobilenet_v1', 'Inception_v4', 'Resnet_v1_152', 'kp_surf',\n",
    "                              'average_perceived_brightness', 'contrast', 'area_by_perim', 'aspect_ratio', 'edge_length1', \n",
    "                             'hue1'])\n",
    "    for i in range(len(features_list)):\n",
    "        row = ([filenames[i], top_5_best_models[i][0], top_5_best_models[i][1], top_5_best_models[i][2], features_list[i][0], features_list[i][1], features_list[i][2],\n",
    "               features_list[i][3], features_list[i][4], features_list[i][5], features_list[i][6]])\n",
    "        features_writer.writerow(row)"
   ]
  },
  {
   "cell_type": "code",
   "execution_count": null,
   "metadata": {},
   "outputs": [],
   "source": []
  }
 ],
 "metadata": {
  "kernelspec": {
   "display_name": "esrg",
   "language": "python",
   "name": "esrg"
  },
  "language_info": {
   "codemirror_mode": {
    "name": "ipython",
    "version": 3
   },
   "file_extension": ".py",
   "mimetype": "text/x-python",
   "name": "python",
   "nbconvert_exporter": "python",
   "pygments_lexer": "ipython3",
   "version": "3.6.12"
  }
 },
 "nbformat": 4,
 "nbformat_minor": 4
}
